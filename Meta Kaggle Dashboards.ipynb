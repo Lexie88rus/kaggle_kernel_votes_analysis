{
 "cells": [
  {
   "cell_type": "markdown",
   "metadata": {},
   "source": [
    "# Meta Kaggle Dashboards\n",
    "_To be used on a web page_"
   ]
  },
  {
   "cell_type": "code",
   "execution_count": 1,
   "metadata": {},
   "outputs": [],
   "source": [
    "#import linear algebra and data manipulation libraries\n",
    "import numpy as np\n",
    "import pandas as pd\n",
    "\n",
    "#import standard visualization\n",
    "import matplotlib.pyplot as plt\n",
    "import seaborn as sns"
   ]
  },
  {
   "cell_type": "code",
   "execution_count": 2,
   "metadata": {},
   "outputs": [
    {
     "data": {
      "text/html": [
       "<script type=\"text/javascript\">window.PlotlyConfig = {MathJaxConfig: 'local'};</script><script type=\"text/javascript\">if (window.MathJax) {MathJax.Hub.Config({SVG: {font: \"STIX-Web\"}});}</script><script>requirejs.config({paths: { 'plotly': ['https://cdn.plot.ly/plotly-latest.min']},});if(!window._Plotly) {require(['plotly'],function(plotly) {window._Plotly=plotly;});}</script>"
      ],
      "text/vnd.plotly.v1+html": [
       "<script type=\"text/javascript\">window.PlotlyConfig = {MathJaxConfig: 'local'};</script><script type=\"text/javascript\">if (window.MathJax) {MathJax.Hub.Config({SVG: {font: \"STIX-Web\"}});}</script><script>requirejs.config({paths: { 'plotly': ['https://cdn.plot.ly/plotly-latest.min']},});if(!window._Plotly) {require(['plotly'],function(plotly) {window._Plotly=plotly;});}</script>"
      ]
     },
     "metadata": {},
     "output_type": "display_data"
    },
    {
     "data": {
      "text/html": [
       "<script type=\"text/javascript\">window.PlotlyConfig = {MathJaxConfig: 'local'};</script><script type=\"text/javascript\">if (window.MathJax) {MathJax.Hub.Config({SVG: {font: \"STIX-Web\"}});}</script><script>requirejs.config({paths: { 'plotly': ['https://cdn.plot.ly/plotly-latest.min']},});if(!window._Plotly) {require(['plotly'],function(plotly) {window._Plotly=plotly;});}</script>"
      ],
      "text/vnd.plotly.v1+html": [
       "<script type=\"text/javascript\">window.PlotlyConfig = {MathJaxConfig: 'local'};</script><script type=\"text/javascript\">if (window.MathJax) {MathJax.Hub.Config({SVG: {font: \"STIX-Web\"}});}</script><script>requirejs.config({paths: { 'plotly': ['https://cdn.plot.ly/plotly-latest.min']},});if(!window._Plotly) {require(['plotly'],function(plotly) {window._Plotly=plotly;});}</script>"
      ]
     },
     "metadata": {},
     "output_type": "display_data"
    }
   ],
   "source": [
    "# import plotly\n",
    "import plotly.plotly as py\n",
    "import plotly.graph_objs as go\n",
    "from plotly.offline import iplot, init_notebook_mode\n",
    "from plotly import tools\n",
    "\n",
    "# plotly and cufflinks in offline mode\n",
    "import cufflinks as cf\n",
    "cf.go_offline(connected=True)\n",
    "init_notebook_mode(connected=True)"
   ]
  },
  {
   "cell_type": "code",
   "execution_count": 10,
   "metadata": {},
   "outputs": [],
   "source": [
    "import datetime as dt\n",
    "from datetime import date, timedelta"
   ]
  },
  {
   "cell_type": "markdown",
   "metadata": {},
   "source": [
    "## Import Datasets"
   ]
  },
  {
   "cell_type": "markdown",
   "metadata": {},
   "source": [
    "Import datasets:"
   ]
  },
  {
   "cell_type": "code",
   "execution_count": 58,
   "metadata": {},
   "outputs": [],
   "source": [
    "kernels = pd.read_csv('meta-kaggle/Kernels.csv')\n",
    "tags = pd.read_csv('meta-kaggle/Tags.csv')\n",
    "competitions = pd.read_csv('meta-kaggle/Competitions.csv')\n",
    "users = pd.read_csv('meta-kaggle/Users.csv')\n",
    "teams = pd.read_csv('meta-kaggle/Teams.csv')\n",
    "submissions = pd.read_csv('meta-kaggle/Submissions.csv')\n",
    "datasets = pd.read_csv('meta-kaggle/Datasets.csv')"
   ]
  },
  {
   "cell_type": "code",
   "execution_count": 5,
   "metadata": {},
   "outputs": [
    {
     "data": {
      "text/html": [
       "<div>\n",
       "<style scoped>\n",
       "    .dataframe tbody tr th:only-of-type {\n",
       "        vertical-align: middle;\n",
       "    }\n",
       "\n",
       "    .dataframe tbody tr th {\n",
       "        vertical-align: top;\n",
       "    }\n",
       "\n",
       "    .dataframe thead th {\n",
       "        text-align: right;\n",
       "    }\n",
       "</style>\n",
       "<table border=\"1\" class=\"dataframe\">\n",
       "  <thead>\n",
       "    <tr style=\"text-align: right;\">\n",
       "      <th></th>\n",
       "      <th>Id</th>\n",
       "      <th>Slug</th>\n",
       "      <th>Title</th>\n",
       "      <th>Subtitle</th>\n",
       "      <th>HostSegmentTitle</th>\n",
       "      <th>ForumId</th>\n",
       "      <th>OrganizationId</th>\n",
       "      <th>CompetitionTypeId</th>\n",
       "      <th>HostName</th>\n",
       "      <th>EnabledDate</th>\n",
       "      <th>...</th>\n",
       "      <th>EnableSubmissionModelHashes</th>\n",
       "      <th>EnableSubmissionModelAttachments</th>\n",
       "      <th>RewardType</th>\n",
       "      <th>RewardQuantity</th>\n",
       "      <th>NumPrizes</th>\n",
       "      <th>UserRankMultiplier</th>\n",
       "      <th>CanQualifyTiers</th>\n",
       "      <th>TotalTeams</th>\n",
       "      <th>TotalCompetitors</th>\n",
       "      <th>TotalSubmissions</th>\n",
       "    </tr>\n",
       "  </thead>\n",
       "  <tbody>\n",
       "    <tr>\n",
       "      <th>0</th>\n",
       "      <td>2408</td>\n",
       "      <td>Eurovision2010</td>\n",
       "      <td>Forecast Eurovision Voting</td>\n",
       "      <td>This competition requires contestants to forec...</td>\n",
       "      <td>Featured</td>\n",
       "      <td>2.0</td>\n",
       "      <td>NaN</td>\n",
       "      <td>1</td>\n",
       "      <td>NaN</td>\n",
       "      <td>4/7/2010 7:57:43 AM</td>\n",
       "      <td>...</td>\n",
       "      <td>False</td>\n",
       "      <td>False</td>\n",
       "      <td>USD</td>\n",
       "      <td>1000.0</td>\n",
       "      <td>1</td>\n",
       "      <td>1.0</td>\n",
       "      <td>False</td>\n",
       "      <td>22</td>\n",
       "      <td>25</td>\n",
       "      <td>22</td>\n",
       "    </tr>\n",
       "    <tr>\n",
       "      <th>1</th>\n",
       "      <td>8910</td>\n",
       "      <td>blg-454e-term-project-competition</td>\n",
       "      <td>BLG 454E Term Project Competition</td>\n",
       "      <td>ITU Computer and Informatics Faculty, BLG 454E...</td>\n",
       "      <td>InClass</td>\n",
       "      <td>24780.0</td>\n",
       "      <td>NaN</td>\n",
       "      <td>1</td>\n",
       "      <td>NaN</td>\n",
       "      <td>3/17/2018 7:08:56 PM</td>\n",
       "      <td>...</td>\n",
       "      <td>False</td>\n",
       "      <td>False</td>\n",
       "      <td>NaN</td>\n",
       "      <td>0.0</td>\n",
       "      <td>0</td>\n",
       "      <td>0.0</td>\n",
       "      <td>False</td>\n",
       "      <td>29</td>\n",
       "      <td>65</td>\n",
       "      <td>658</td>\n",
       "    </tr>\n",
       "  </tbody>\n",
       "</table>\n",
       "<p>2 rows × 42 columns</p>\n",
       "</div>"
      ],
      "text/plain": [
       "     Id                               Slug                              Title  \\\n",
       "0  2408                     Eurovision2010         Forecast Eurovision Voting   \n",
       "1  8910  blg-454e-term-project-competition  BLG 454E Term Project Competition   \n",
       "\n",
       "                                            Subtitle HostSegmentTitle  \\\n",
       "0  This competition requires contestants to forec...         Featured   \n",
       "1  ITU Computer and Informatics Faculty, BLG 454E...          InClass   \n",
       "\n",
       "   ForumId  OrganizationId  CompetitionTypeId HostName           EnabledDate  \\\n",
       "0      2.0             NaN                  1      NaN   4/7/2010 7:57:43 AM   \n",
       "1  24780.0             NaN                  1      NaN  3/17/2018 7:08:56 PM   \n",
       "\n",
       "         ...        EnableSubmissionModelHashes  \\\n",
       "0        ...                              False   \n",
       "1        ...                              False   \n",
       "\n",
       "  EnableSubmissionModelAttachments RewardType RewardQuantity NumPrizes  \\\n",
       "0                            False        USD         1000.0         1   \n",
       "1                            False        NaN            0.0         0   \n",
       "\n",
       "   UserRankMultiplier  CanQualifyTiers  TotalTeams  TotalCompetitors  \\\n",
       "0                 1.0            False          22                25   \n",
       "1                 0.0            False          29                65   \n",
       "\n",
       "   TotalSubmissions  \n",
       "0                22  \n",
       "1               658  \n",
       "\n",
       "[2 rows x 42 columns]"
      ]
     },
     "execution_count": 5,
     "metadata": {},
     "output_type": "execute_result"
    }
   ],
   "source": [
    "competitions.head(2)"
   ]
  },
  {
   "cell_type": "code",
   "execution_count": 7,
   "metadata": {},
   "outputs": [
    {
     "data": {
      "text/html": [
       "<div>\n",
       "<style scoped>\n",
       "    .dataframe tbody tr th:only-of-type {\n",
       "        vertical-align: middle;\n",
       "    }\n",
       "\n",
       "    .dataframe tbody tr th {\n",
       "        vertical-align: top;\n",
       "    }\n",
       "\n",
       "    .dataframe thead th {\n",
       "        text-align: right;\n",
       "    }\n",
       "</style>\n",
       "<table border=\"1\" class=\"dataframe\">\n",
       "  <thead>\n",
       "    <tr style=\"text-align: right;\">\n",
       "      <th></th>\n",
       "      <th>Id</th>\n",
       "      <th>SubmittedUserId</th>\n",
       "      <th>TeamId</th>\n",
       "      <th>SourceKernelVersionId</th>\n",
       "      <th>SubmissionDate</th>\n",
       "      <th>ScoreDate</th>\n",
       "      <th>IsAfterDeadline</th>\n",
       "      <th>PublicScoreLeaderboardDisplay</th>\n",
       "      <th>PublicScoreFullPrecision</th>\n",
       "      <th>PrivateScoreLeaderboardDisplay</th>\n",
       "      <th>PrivateScoreFullPrecision</th>\n",
       "    </tr>\n",
       "  </thead>\n",
       "  <tbody>\n",
       "    <tr>\n",
       "      <th>0</th>\n",
       "      <td>459722</td>\n",
       "      <td>67252.0</td>\n",
       "      <td>53319</td>\n",
       "      <td>NaN</td>\n",
       "      <td>10/7/2013</td>\n",
       "      <td>NaN</td>\n",
       "      <td>False</td>\n",
       "      <td>0.07762</td>\n",
       "      <td>0.0776275</td>\n",
       "      <td>0.0644</td>\n",
       "      <td>0.0644099</td>\n",
       "    </tr>\n",
       "    <tr>\n",
       "      <th>1</th>\n",
       "      <td>402723</td>\n",
       "      <td>67252.0</td>\n",
       "      <td>53319</td>\n",
       "      <td>NaN</td>\n",
       "      <td>7/30/2013</td>\n",
       "      <td>NaN</td>\n",
       "      <td>False</td>\n",
       "      <td>0.08501</td>\n",
       "      <td>0.0850198</td>\n",
       "      <td>0.07239</td>\n",
       "      <td>0.0723972</td>\n",
       "    </tr>\n",
       "  </tbody>\n",
       "</table>\n",
       "</div>"
      ],
      "text/plain": [
       "       Id  SubmittedUserId  TeamId  SourceKernelVersionId SubmissionDate  \\\n",
       "0  459722          67252.0   53319                    NaN      10/7/2013   \n",
       "1  402723          67252.0   53319                    NaN      7/30/2013   \n",
       "\n",
       "  ScoreDate  IsAfterDeadline PublicScoreLeaderboardDisplay  \\\n",
       "0       NaN            False                       0.07762   \n",
       "1       NaN            False                       0.08501   \n",
       "\n",
       "  PublicScoreFullPrecision PrivateScoreLeaderboardDisplay  \\\n",
       "0                0.0776275                         0.0644   \n",
       "1                0.0850198                        0.07239   \n",
       "\n",
       "  PrivateScoreFullPrecision  \n",
       "0                 0.0644099  \n",
       "1                 0.0723972  "
      ]
     },
     "execution_count": 7,
     "metadata": {},
     "output_type": "execute_result"
    }
   ],
   "source": [
    "submissions.head(2)"
   ]
  },
  {
   "cell_type": "code",
   "execution_count": 8,
   "metadata": {},
   "outputs": [
    {
     "data": {
      "text/html": [
       "<div>\n",
       "<style scoped>\n",
       "    .dataframe tbody tr th:only-of-type {\n",
       "        vertical-align: middle;\n",
       "    }\n",
       "\n",
       "    .dataframe tbody tr th {\n",
       "        vertical-align: top;\n",
       "    }\n",
       "\n",
       "    .dataframe thead th {\n",
       "        text-align: right;\n",
       "    }\n",
       "</style>\n",
       "<table border=\"1\" class=\"dataframe\">\n",
       "  <thead>\n",
       "    <tr style=\"text-align: right;\">\n",
       "      <th></th>\n",
       "      <th>Id</th>\n",
       "      <th>CompetitionId</th>\n",
       "      <th>TeamLeaderId</th>\n",
       "      <th>TeamName</th>\n",
       "      <th>ScoreFirstSubmittedDate</th>\n",
       "      <th>LastSubmissionDate</th>\n",
       "      <th>PublicLeaderboardSubmissionId</th>\n",
       "      <th>PrivateLeaderboardSubmissionId</th>\n",
       "      <th>IsBenchmark</th>\n",
       "      <th>Medal</th>\n",
       "      <th>MedalAwardDate</th>\n",
       "      <th>PublicLeaderboardRank</th>\n",
       "      <th>PrivateLeaderboardRank</th>\n",
       "    </tr>\n",
       "  </thead>\n",
       "  <tbody>\n",
       "    <tr>\n",
       "      <th>0</th>\n",
       "      <td>951</td>\n",
       "      <td>2448</td>\n",
       "      <td>368.0</td>\n",
       "      <td>Naive Baseline</td>\n",
       "      <td>8/9/2010</td>\n",
       "      <td>8/9/2010</td>\n",
       "      <td>4980.0</td>\n",
       "      <td>4980.0</td>\n",
       "      <td>False</td>\n",
       "      <td>NaN</td>\n",
       "      <td>9/6/2018</td>\n",
       "      <td>35.0</td>\n",
       "      <td>32.0</td>\n",
       "    </tr>\n",
       "    <tr>\n",
       "      <th>1</th>\n",
       "      <td>957</td>\n",
       "      <td>2448</td>\n",
       "      <td>2100.0</td>\n",
       "      <td>leecbaker</td>\n",
       "      <td>9/17/2010</td>\n",
       "      <td>9/17/2010</td>\n",
       "      <td>7096.0</td>\n",
       "      <td>7096.0</td>\n",
       "      <td>False</td>\n",
       "      <td>1.0</td>\n",
       "      <td>7/15/2016</td>\n",
       "      <td>1.0</td>\n",
       "      <td>1.0</td>\n",
       "    </tr>\n",
       "  </tbody>\n",
       "</table>\n",
       "</div>"
      ],
      "text/plain": [
       "    Id  CompetitionId  TeamLeaderId        TeamName ScoreFirstSubmittedDate  \\\n",
       "0  951           2448         368.0  Naive Baseline                8/9/2010   \n",
       "1  957           2448        2100.0       leecbaker               9/17/2010   \n",
       "\n",
       "  LastSubmissionDate  PublicLeaderboardSubmissionId  \\\n",
       "0           8/9/2010                         4980.0   \n",
       "1          9/17/2010                         7096.0   \n",
       "\n",
       "   PrivateLeaderboardSubmissionId  IsBenchmark  Medal MedalAwardDate  \\\n",
       "0                          4980.0        False    NaN       9/6/2018   \n",
       "1                          7096.0        False    1.0      7/15/2016   \n",
       "\n",
       "   PublicLeaderboardRank  PrivateLeaderboardRank  \n",
       "0                   35.0                    32.0  \n",
       "1                    1.0                     1.0  "
      ]
     },
     "execution_count": 8,
     "metadata": {},
     "output_type": "execute_result"
    }
   ],
   "source": [
    "teams.head(2)"
   ]
  },
  {
   "cell_type": "code",
   "execution_count": 9,
   "metadata": {},
   "outputs": [
    {
     "data": {
      "text/html": [
       "<div>\n",
       "<style scoped>\n",
       "    .dataframe tbody tr th:only-of-type {\n",
       "        vertical-align: middle;\n",
       "    }\n",
       "\n",
       "    .dataframe tbody tr th {\n",
       "        vertical-align: top;\n",
       "    }\n",
       "\n",
       "    .dataframe thead th {\n",
       "        text-align: right;\n",
       "    }\n",
       "</style>\n",
       "<table border=\"1\" class=\"dataframe\">\n",
       "  <thead>\n",
       "    <tr style=\"text-align: right;\">\n",
       "      <th></th>\n",
       "      <th>Id</th>\n",
       "      <th>UserName</th>\n",
       "      <th>DisplayName</th>\n",
       "      <th>RegisterDate</th>\n",
       "      <th>PerformanceTier</th>\n",
       "    </tr>\n",
       "  </thead>\n",
       "  <tbody>\n",
       "    <tr>\n",
       "      <th>0</th>\n",
       "      <td>1</td>\n",
       "      <td>kaggleteam</td>\n",
       "      <td>Kaggle Team</td>\n",
       "      <td>3/24/2011</td>\n",
       "      <td>5</td>\n",
       "    </tr>\n",
       "    <tr>\n",
       "      <th>1</th>\n",
       "      <td>368</td>\n",
       "      <td>antgoldbloom</td>\n",
       "      <td>Anthony Goldbloom</td>\n",
       "      <td>1/20/2010</td>\n",
       "      <td>5</td>\n",
       "    </tr>\n",
       "  </tbody>\n",
       "</table>\n",
       "</div>"
      ],
      "text/plain": [
       "    Id      UserName        DisplayName RegisterDate  PerformanceTier\n",
       "0    1    kaggleteam        Kaggle Team    3/24/2011                5\n",
       "1  368  antgoldbloom  Anthony Goldbloom    1/20/2010                5"
      ]
     },
     "execution_count": 9,
     "metadata": {},
     "output_type": "execute_result"
    }
   ],
   "source": [
    "users.head(2)"
   ]
  },
  {
   "cell_type": "code",
   "execution_count": 59,
   "metadata": {},
   "outputs": [
    {
     "data": {
      "text/html": [
       "<div>\n",
       "<style scoped>\n",
       "    .dataframe tbody tr th:only-of-type {\n",
       "        vertical-align: middle;\n",
       "    }\n",
       "\n",
       "    .dataframe tbody tr th {\n",
       "        vertical-align: top;\n",
       "    }\n",
       "\n",
       "    .dataframe thead th {\n",
       "        text-align: right;\n",
       "    }\n",
       "</style>\n",
       "<table border=\"1\" class=\"dataframe\">\n",
       "  <thead>\n",
       "    <tr style=\"text-align: right;\">\n",
       "      <th></th>\n",
       "      <th>Id</th>\n",
       "      <th>CreatorUserId</th>\n",
       "      <th>OwnerUserId</th>\n",
       "      <th>OwnerOrganizationId</th>\n",
       "      <th>CurrentDatasetVersionId</th>\n",
       "      <th>CurrentDatasourceVersionId</th>\n",
       "      <th>ForumId</th>\n",
       "      <th>Type</th>\n",
       "      <th>CreationDate</th>\n",
       "      <th>ReviewDate</th>\n",
       "      <th>FeatureDate</th>\n",
       "      <th>LastActivityDate</th>\n",
       "      <th>TotalViews</th>\n",
       "      <th>TotalDownloads</th>\n",
       "      <th>TotalVotes</th>\n",
       "      <th>TotalKernels</th>\n",
       "    </tr>\n",
       "  </thead>\n",
       "  <tbody>\n",
       "    <tr>\n",
       "      <th>0</th>\n",
       "      <td>52146</td>\n",
       "      <td>1</td>\n",
       "      <td>NaN</td>\n",
       "      <td>223.0</td>\n",
       "      <td>281965.0</td>\n",
       "      <td>294410.0</td>\n",
       "      <td>60824</td>\n",
       "      <td>2</td>\n",
       "      <td>9/12/2018 9:13:38 PM</td>\n",
       "      <td>NaN</td>\n",
       "      <td>NaN</td>\n",
       "      <td>9/12/2018</td>\n",
       "      <td>179</td>\n",
       "      <td>3</td>\n",
       "      <td>0</td>\n",
       "      <td>1</td>\n",
       "    </tr>\n",
       "    <tr>\n",
       "      <th>1</th>\n",
       "      <td>52222</td>\n",
       "      <td>1135944</td>\n",
       "      <td>1135944.0</td>\n",
       "      <td>NaN</td>\n",
       "      <td>97664.0</td>\n",
       "      <td>100200.0</td>\n",
       "      <td>60904</td>\n",
       "      <td>2</td>\n",
       "      <td>9/13/2018 5:06:57 AM</td>\n",
       "      <td>NaN</td>\n",
       "      <td>NaN</td>\n",
       "      <td>9/13/2018</td>\n",
       "      <td>151</td>\n",
       "      <td>4</td>\n",
       "      <td>1</td>\n",
       "      <td>2</td>\n",
       "    </tr>\n",
       "  </tbody>\n",
       "</table>\n",
       "</div>"
      ],
      "text/plain": [
       "      Id  CreatorUserId  OwnerUserId  OwnerOrganizationId  \\\n",
       "0  52146              1          NaN                223.0   \n",
       "1  52222        1135944    1135944.0                  NaN   \n",
       "\n",
       "   CurrentDatasetVersionId  CurrentDatasourceVersionId  ForumId  Type  \\\n",
       "0                 281965.0                    294410.0    60824     2   \n",
       "1                  97664.0                    100200.0    60904     2   \n",
       "\n",
       "           CreationDate ReviewDate FeatureDate LastActivityDate  TotalViews  \\\n",
       "0  9/12/2018 9:13:38 PM        NaN         NaN        9/12/2018         179   \n",
       "1  9/13/2018 5:06:57 AM        NaN         NaN        9/13/2018         151   \n",
       "\n",
       "   TotalDownloads  TotalVotes  TotalKernels  \n",
       "0               3           0             1  \n",
       "1               4           1             2  "
      ]
     },
     "execution_count": 59,
     "metadata": {},
     "output_type": "execute_result"
    }
   ],
   "source": [
    "datasets.head(2)"
   ]
  },
  {
   "cell_type": "markdown",
   "metadata": {},
   "source": [
    "## Plot Dashboard for Kaggle Activities over time"
   ]
  },
  {
   "cell_type": "markdown",
   "metadata": {},
   "source": [
    "Create a dashboard, which contains number of competitions (both active and closed), datasets, kernels, and users over time. "
   ]
  },
  {
   "cell_type": "markdown",
   "metadata": {},
   "source": [
    "I used code for dates processing from __[this Kaggle kernel](https://www.kaggle.com/gaborfodor/kaggle-trends)__."
   ]
  },
  {
   "cell_type": "code",
   "execution_count": 53,
   "metadata": {},
   "outputs": [],
   "source": [
    "#function returns first day of the week by date\n",
    "\n",
    "def date_to_first_day_of_week(day: date) -> date:\n",
    "    return day - timedelta(days=day.weekday())"
   ]
  },
  {
   "cell_type": "code",
   "execution_count": 63,
   "metadata": {},
   "outputs": [],
   "source": [
    "#calculate cumulative number of competitions for each first date of the week\n",
    "\n",
    "competitions['Count'] = 1\n",
    "competitions['EnabledWeek'] = [date_to_first_day_of_week(pd.Timestamp(d).date()) for d in competitions['EnabledDate']]\n",
    "\n",
    "weekly_competitions = competitions.groupby('EnabledWeek')[['Count']].sum()\n",
    "weekly_competitions.reset_index(level=0, inplace=True)\n",
    "\n",
    "def enabled_week_to_cumulative_count(date):\n",
    "    return weekly_competitions[weekly_competitions['EnabledWeek'] <= date]['Count'].sum()\n",
    "\n",
    "weekly_competitions['CumulativeCount'] = [week_to_cumulative_count(d) for d in weekly_competitions['EnabledWeek']]\n",
    "\n",
    "weekly_competitions = weekly_competitions.sort_values(by='EnabledWeek', ascending=True)\n",
    "\n",
    "weekly_competitions = weekly_competitions[weekly_competitions['EnabledWeek'] >= date(2015,1,1)]"
   ]
  },
  {
   "cell_type": "code",
   "execution_count": 64,
   "metadata": {},
   "outputs": [],
   "source": [
    "#calculate cumulative number of datasets for each first date of the week\n",
    "\n",
    "datasets['Count'] = 1\n",
    "datasets['CreationWeek'] = [date_to_first_day_of_week(pd.Timestamp(d).date()) for d in datasets['CreationDate']]\n",
    "\n",
    "weekly_datasets = datasets.groupby('CreationWeek')[['Count']].sum()\n",
    "weekly_datasets.reset_index(level=0, inplace=True)\n",
    "\n",
    "def creation_week_to_cumulative_count(date):\n",
    "    return weekly_datasets[weekly_datasets['CreationWeek'] <= date]['Count'].sum()\n",
    "\n",
    "weekly_datasets['CumulativeCount'] = [creation_week_to_cumulative_count(d) for d in weekly_datasets['CreationWeek']]\n",
    "\n",
    "weekly_datasets = weekly_datasets.sort_values(by='CreationWeek', ascending=True)\n",
    "\n",
    "weekly_datasets = weekly_datasets[weekly_datasets['CreationWeek'] >= date(2015,1,1)]"
   ]
  },
  {
   "cell_type": "code",
   "execution_count": 72,
   "metadata": {},
   "outputs": [],
   "source": [
    "#calculate cumulative number of kernels for each first date of the week\n",
    "kernels_nonan = kernels.dropna(subset=['CreationDate'])\n",
    "\n",
    "kernels_nonan['Count'] = 1\n",
    "kernels_nonan['CreationWeek'] = [date_to_first_day_of_week(pd.Timestamp(d).date()) for d in kernels_nonan['CreationDate']]\n",
    "\n",
    "weekly_kernels = kernels_nonan.groupby('CreationWeek')[['Count']].sum()\n",
    "weekly_kernels.reset_index(level=0, inplace=True)\n",
    "\n",
    "def kernel_creation_week_to_cumulative_count(date):\n",
    "    return weekly_kernels[weekly_kernels['CreationWeek'] <= date]['Count'].sum()\n",
    "\n",
    "weekly_kernels['CumulativeCount'] = [kernel_creation_week_to_cumulative_count(d) for d in weekly_kernels['CreationWeek']]\n",
    "\n",
    "weekly_kernels = weekly_kernels.sort_values(by='CreationWeek', ascending=True)\n",
    "\n",
    "weekly_kernels = weekly_kernels[weekly_kernels['CreationWeek'] >= date(2015,1,1)]"
   ]
  },
  {
   "cell_type": "code",
   "execution_count": 76,
   "metadata": {},
   "outputs": [],
   "source": [
    "#calculate cumulative number of users for each first date of the week\n",
    "\n",
    "users['Count'] = 1\n",
    "users['RegisterWeek'] = [date_to_first_day_of_week(pd.Timestamp(d).date()) for d in users['RegisterDate']]\n",
    "\n",
    "weekly_users = users.groupby('RegisterWeek')[['Count']].sum()\n",
    "weekly_users.reset_index(level=0, inplace=True)\n",
    "\n",
    "def register_week_to_cumulative_count(date):\n",
    "    return weekly_users[weekly_users['RegisterWeek'] <= date]['Count'].sum()\n",
    "\n",
    "weekly_users['CumulativeCount'] = [register_week_to_cumulative_count(d) for d in weekly_users['RegisterWeek']]\n",
    "\n",
    "weekly_users = weekly_users.sort_values(by='RegisterWeek', ascending=True)\n",
    "\n",
    "weekly_users = weekly_users[weekly_users['RegisterWeek'] >= date(2015,1,1)]"
   ]
  },
  {
   "cell_type": "markdown",
   "metadata": {},
   "source": [
    "Plot dashboard:"
   ]
  },
  {
   "cell_type": "code",
   "execution_count": 85,
   "metadata": {},
   "outputs": [
    {
     "data": {
      "text/html": [
       "<iframe id=\"igraph\" scrolling=\"no\" style=\"border:none;\" seamless=\"seamless\" src=\"https://plot.ly/~lexie88rus/28.embed\" height=\"525px\" width=\"100%\"></iframe>"
      ],
      "text/plain": [
       "<plotly.tools.PlotlyDisplay object>"
      ]
     },
     "execution_count": 85,
     "metadata": {},
     "output_type": "execute_result"
    }
   ],
   "source": [
    "data = [\n",
    "    #competitions\n",
    "    go.Scatter(\n",
    "        x=weekly_competitions.EnabledWeek.values,\n",
    "        y=weekly_competitions.CumulativeCount.values,\n",
    "        mode='lines',\n",
    "        name='Competitions',\n",
    "        line=dict(width=4, color='#68B6AF')\n",
    "    ),\n",
    "    \n",
    "    #datasets\n",
    "    go.Scatter(\n",
    "        x=weekly_datasets.CreationWeek.values,\n",
    "        y=weekly_datasets.CumulativeCount.values,\n",
    "        mode='lines',\n",
    "        name='Datasets',\n",
    "        line=dict(width=4, color='#82C5A0')\n",
    "    ),\n",
    "    \n",
    "    \n",
    "    #kernels\n",
    "    go.Scatter(\n",
    "        x=weekly_kernels.CreationWeek.values,\n",
    "        y=weekly_kernels.CumulativeCount.values,\n",
    "        mode='lines',\n",
    "        name='Kernels',\n",
    "        line=dict(width=4, color='#EED2BB')\n",
    "    ),\n",
    "    \n",
    "    #users\n",
    "    go.Scatter(\n",
    "        x=weekly_users.RegisterWeek.values,\n",
    "        y=weekly_users.CumulativeCount.values,\n",
    "        mode='lines',\n",
    "        name='Users',\n",
    "        line=dict(width=4, color='#7FDBE2')\n",
    "    ),\n",
    "    \n",
    "]\n",
    "\n",
    "layout = go.Layout(\n",
    "    title='Overall number of Kaggle activities over time',\n",
    "    xaxis=dict(title='WeekStart', ticklen=5, zeroline=False, gridwidth=2),\n",
    "    yaxis=dict(title='Number of activities', ticklen=5, gridwidth=2),\n",
    "    showlegend=True\n",
    ")\n",
    "fig = go.Figure(data=data, layout=layout)\n",
    "py.iplot(fig, filename='kaggle_activity_dashboard')"
   ]
  },
  {
   "cell_type": "code",
   "execution_count": 86,
   "metadata": {},
   "outputs": [
    {
     "data": {
      "text/html": [
       "<iframe id=\"igraph\" scrolling=\"no\" style=\"border:none;\" seamless=\"seamless\" src=\"https://plot.ly/~lexie88rus/28.embed\" height=\"525px\" width=\"100%\"></iframe>"
      ],
      "text/plain": [
       "<plotly.tools.PlotlyDisplay object>"
      ]
     },
     "execution_count": 86,
     "metadata": {},
     "output_type": "execute_result"
    }
   ],
   "source": [
    "data = [\n",
    "    #competitions\n",
    "    go.Scatter(\n",
    "        x=weekly_competitions.EnabledWeek.values,\n",
    "        y=weekly_competitions.CumulativeCount.values,\n",
    "        mode='lines',\n",
    "        name='Competitions',\n",
    "        line=dict(width=4, color='#68B6AF')\n",
    "    ),\n",
    "    \n",
    "    #datasets\n",
    "    go.Scatter(\n",
    "        x=weekly_datasets.CreationWeek.values,\n",
    "        y=weekly_datasets.CumulativeCount.values,\n",
    "        mode='lines',\n",
    "        name='Datasets',\n",
    "        line=dict(width=4, color='#82C5A0')\n",
    "    ),\n",
    "]\n",
    "\n",
    "layout = go.Layout(\n",
    "    title='Overall number of Kaggle activities over time',\n",
    "    xaxis=dict(title='WeekStart', ticklen=5, zeroline=False, gridwidth=2),\n",
    "    yaxis=dict(title='Number of activities', ticklen=5, gridwidth=2),\n",
    "    showlegend=True\n",
    ")\n",
    "fig = go.Figure(data=data, layout=layout)\n",
    "py.iplot(fig, filename='kaggle_activity_dashboard')"
   ]
  },
  {
   "cell_type": "code",
   "execution_count": null,
   "metadata": {},
   "outputs": [],
   "source": []
  }
 ],
 "metadata": {
  "kernelspec": {
   "display_name": "Python 3",
   "language": "python",
   "name": "python3"
  },
  "language_info": {
   "codemirror_mode": {
    "name": "ipython",
    "version": 3
   },
   "file_extension": ".py",
   "mimetype": "text/x-python",
   "name": "python",
   "nbconvert_exporter": "python",
   "pygments_lexer": "ipython3",
   "version": "3.6.8"
  }
 },
 "nbformat": 4,
 "nbformat_minor": 2
}
