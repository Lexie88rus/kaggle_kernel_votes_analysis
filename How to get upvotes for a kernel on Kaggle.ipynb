{
 "cells": [
  {
   "cell_type": "markdown",
   "metadata": {},
   "source": [
    "# How to get upvotes for a kernel on Kaggle?"
   ]
  },
  {
   "cell_type": "code",
   "execution_count": 1,
   "metadata": {},
   "outputs": [],
   "source": [
    "#import linear algebra and data manipulation libraries\n",
    "import numpy as np\n",
    "import pandas as pd\n",
    "\n",
    "#import date manipulation\n",
    "import datetime as dt\n",
    "from datetime import date, timedelta\n",
    "\n",
    "#import standard visualization\n",
    "import matplotlib.pyplot as plt\n",
    "import seaborn as sns"
   ]
  },
  {
   "cell_type": "code",
   "execution_count": 2,
   "metadata": {},
   "outputs": [
    {
     "data": {
      "text/html": [
       "<script type=\"text/javascript\">window.PlotlyConfig = {MathJaxConfig: 'local'};</script><script type=\"text/javascript\">if (window.MathJax) {MathJax.Hub.Config({SVG: {font: \"STIX-Web\"}});}</script><script>requirejs.config({paths: { 'plotly': ['https://cdn.plot.ly/plotly-latest.min']},});if(!window._Plotly) {require(['plotly'],function(plotly) {window._Plotly=plotly;});}</script>"
      ],
      "text/vnd.plotly.v1+html": [
       "<script type=\"text/javascript\">window.PlotlyConfig = {MathJaxConfig: 'local'};</script><script type=\"text/javascript\">if (window.MathJax) {MathJax.Hub.Config({SVG: {font: \"STIX-Web\"}});}</script><script>requirejs.config({paths: { 'plotly': ['https://cdn.plot.ly/plotly-latest.min']},});if(!window._Plotly) {require(['plotly'],function(plotly) {window._Plotly=plotly;});}</script>"
      ]
     },
     "metadata": {},
     "output_type": "display_data"
    },
    {
     "data": {
      "text/html": [
       "<script type=\"text/javascript\">window.PlotlyConfig = {MathJaxConfig: 'local'};</script><script type=\"text/javascript\">if (window.MathJax) {MathJax.Hub.Config({SVG: {font: \"STIX-Web\"}});}</script><script>requirejs.config({paths: { 'plotly': ['https://cdn.plot.ly/plotly-latest.min']},});if(!window._Plotly) {require(['plotly'],function(plotly) {window._Plotly=plotly;});}</script>"
      ],
      "text/vnd.plotly.v1+html": [
       "<script type=\"text/javascript\">window.PlotlyConfig = {MathJaxConfig: 'local'};</script><script type=\"text/javascript\">if (window.MathJax) {MathJax.Hub.Config({SVG: {font: \"STIX-Web\"}});}</script><script>requirejs.config({paths: { 'plotly': ['https://cdn.plot.ly/plotly-latest.min']},});if(!window._Plotly) {require(['plotly'],function(plotly) {window._Plotly=plotly;});}</script>"
      ]
     },
     "metadata": {},
     "output_type": "display_data"
    }
   ],
   "source": [
    "# import plotly\n",
    "import plotly.plotly as py\n",
    "import plotly.graph_objs as go\n",
    "from plotly.offline import iplot, init_notebook_mode\n",
    "from plotly import tools\n",
    "\n",
    "# plotly and cufflinks in offline mode\n",
    "import cufflinks as cf\n",
    "cf.go_offline(connected=True)\n",
    "init_notebook_mode(connected=True)"
   ]
  },
  {
   "cell_type": "code",
   "execution_count": 3,
   "metadata": {},
   "outputs": [],
   "source": [
    "#import machine learning\n",
    "from sklearn.linear_model import LinearRegression\n",
    "import xgboost\n",
    "\n",
    "from sklearn.model_selection import train_test_split #split\n",
    "from sklearn.metrics import r2_score, mean_squared_error #metrics"
   ]
  },
  {
   "cell_type": "markdown",
   "metadata": {},
   "source": [
    "## Introduction"
   ]
  },
  {
   "cell_type": "markdown",
   "metadata": {},
   "source": [
    "I have recently joined Kaggle and started to create public kernels. My kernels have a lot of views, but no upvotes. So I decided to analyze Meta Kaggle dataset to find out:\n",
    "* Statistics for kernels, which have votes.\n",
    "* How different factors affect the number of votes (for example, characteristics of the author, source dataset etc.)?\n",
    "* And finally, make the recommendations on how to make the kernel useful, so other kagglers would cast upvotes."
   ]
  },
  {
   "cell_type": "markdown",
   "metadata": {},
   "source": [
    "## Import datasets related to kernels"
   ]
  },
  {
   "cell_type": "code",
   "execution_count": 4,
   "metadata": {},
   "outputs": [
    {
     "name": "stderr",
     "output_type": "stream",
     "text": [
      "/Users/aleksandraastakhova/anaconda3/lib/python3.6/site-packages/IPython/core/interactiveshell.py:3020: DtypeWarning:\n",
      "\n",
      "Columns (9,10) have mixed types. Specify dtype option on import or set low_memory=False.\n",
      "\n"
     ]
    }
   ],
   "source": [
    "#import datasets\n",
    "\n",
    "kernels = pd.read_csv('../meta-kaggle/Kernels.csv')\n",
    "kernel_lang = pd.read_csv('../meta-kaggle/KernelLanguages.csv')\n",
    "kernel_tags = pd.read_csv('../meta-kaggle/KernelTags.csv')\n",
    "kernel_votes = pd.read_csv('../meta-kaggle/KernelVotes.csv')\n",
    "kernel_versions = pd.read_csv('../meta-kaggle/KernelVersions.csv')\n",
    "kernel_competitions = pd.read_csv('../meta-kaggle/KernelVersionCompetitionSources.csv')\n",
    "kernel_users = pd.read_csv('../meta-kaggle/Users.csv')\n",
    "datasets = pd.read_csv('../meta-kaggle/Datasets.csv')\n",
    "kernel_datasets = pd.read_csv('../meta-kaggle/KernelVersionDatasetSources.csv')\n",
    "dataset_versions = pd.read_csv('../meta-kaggle/DatasetVersions.csv')\n",
    "tags = pd.read_csv('../meta-kaggle/Tags.csv')\n",
    "competitions = pd.read_csv('../meta-kaggle/Competitions.csv')"
   ]
  },
  {
   "cell_type": "code",
   "execution_count": 5,
   "metadata": {},
   "outputs": [
    {
     "data": {
      "text/html": [
       "<div>\n",
       "<style scoped>\n",
       "    .dataframe tbody tr th:only-of-type {\n",
       "        vertical-align: middle;\n",
       "    }\n",
       "\n",
       "    .dataframe tbody tr th {\n",
       "        vertical-align: top;\n",
       "    }\n",
       "\n",
       "    .dataframe thead th {\n",
       "        text-align: right;\n",
       "    }\n",
       "</style>\n",
       "<table border=\"1\" class=\"dataframe\">\n",
       "  <thead>\n",
       "    <tr style=\"text-align: right;\">\n",
       "      <th></th>\n",
       "      <th>Id</th>\n",
       "      <th>AuthorUserId</th>\n",
       "      <th>CurrentKernelVersionId</th>\n",
       "      <th>ForkParentKernelVersionId</th>\n",
       "      <th>ForumTopicId</th>\n",
       "      <th>FirstKernelVersionId</th>\n",
       "      <th>CreationDate</th>\n",
       "      <th>EvaluationDate</th>\n",
       "      <th>MadePublicDate</th>\n",
       "      <th>IsProjectLanguageTemplate</th>\n",
       "      <th>CurrentUrlSlug</th>\n",
       "      <th>Medal</th>\n",
       "      <th>MedalAwardDate</th>\n",
       "      <th>TotalViews</th>\n",
       "      <th>TotalComments</th>\n",
       "      <th>TotalVotes</th>\n",
       "    </tr>\n",
       "  </thead>\n",
       "  <tbody>\n",
       "    <tr>\n",
       "      <th>0</th>\n",
       "      <td>1</td>\n",
       "      <td>2505</td>\n",
       "      <td>205.0</td>\n",
       "      <td>NaN</td>\n",
       "      <td>NaN</td>\n",
       "      <td>1.0</td>\n",
       "      <td>03/25/2015 18:25:32</td>\n",
       "      <td>03/23/2018</td>\n",
       "      <td>03/25/2015</td>\n",
       "      <td>False</td>\n",
       "      <td>hello</td>\n",
       "      <td>NaN</td>\n",
       "      <td>NaN</td>\n",
       "      <td>26</td>\n",
       "      <td>0</td>\n",
       "      <td>0</td>\n",
       "    </tr>\n",
       "    <tr>\n",
       "      <th>1</th>\n",
       "      <td>2</td>\n",
       "      <td>3716</td>\n",
       "      <td>1748.0</td>\n",
       "      <td>NaN</td>\n",
       "      <td>26670.0</td>\n",
       "      <td>2.0</td>\n",
       "      <td>03/25/2015 18:31:07</td>\n",
       "      <td>04/16/2015</td>\n",
       "      <td>03/25/2015</td>\n",
       "      <td>False</td>\n",
       "      <td>rf-proximity</td>\n",
       "      <td>3.0</td>\n",
       "      <td>07/15/2016</td>\n",
       "      <td>7615</td>\n",
       "      <td>1</td>\n",
       "      <td>12</td>\n",
       "    </tr>\n",
       "    <tr>\n",
       "      <th>2</th>\n",
       "      <td>4</td>\n",
       "      <td>3716</td>\n",
       "      <td>41.0</td>\n",
       "      <td>NaN</td>\n",
       "      <td>NaN</td>\n",
       "      <td>9.0</td>\n",
       "      <td>03/25/2015 21:57:36</td>\n",
       "      <td>03/23/2018</td>\n",
       "      <td>03/25/2015</td>\n",
       "      <td>False</td>\n",
       "      <td>r-version</td>\n",
       "      <td>NaN</td>\n",
       "      <td>NaN</td>\n",
       "      <td>9</td>\n",
       "      <td>0</td>\n",
       "      <td>0</td>\n",
       "    </tr>\n",
       "    <tr>\n",
       "      <th>3</th>\n",
       "      <td>5</td>\n",
       "      <td>28963</td>\n",
       "      <td>19.0</td>\n",
       "      <td>NaN</td>\n",
       "      <td>NaN</td>\n",
       "      <td>13.0</td>\n",
       "      <td>03/25/2015 22:01:04</td>\n",
       "      <td>03/23/2018</td>\n",
       "      <td>03/25/2015</td>\n",
       "      <td>False</td>\n",
       "      <td>test1</td>\n",
       "      <td>NaN</td>\n",
       "      <td>NaN</td>\n",
       "      <td>9</td>\n",
       "      <td>0</td>\n",
       "      <td>0</td>\n",
       "    </tr>\n",
       "    <tr>\n",
       "      <th>4</th>\n",
       "      <td>6</td>\n",
       "      <td>3716</td>\n",
       "      <td>21.0</td>\n",
       "      <td>NaN</td>\n",
       "      <td>NaN</td>\n",
       "      <td>15.0</td>\n",
       "      <td>03/25/2015 22:19:00</td>\n",
       "      <td>03/23/2018</td>\n",
       "      <td>03/25/2015</td>\n",
       "      <td>False</td>\n",
       "      <td>are-icons-missing</td>\n",
       "      <td>NaN</td>\n",
       "      <td>NaN</td>\n",
       "      <td>7</td>\n",
       "      <td>0</td>\n",
       "      <td>0</td>\n",
       "    </tr>\n",
       "  </tbody>\n",
       "</table>\n",
       "</div>"
      ],
      "text/plain": [
       "   Id  AuthorUserId  CurrentKernelVersionId  ForkParentKernelVersionId  \\\n",
       "0   1          2505                   205.0                        NaN   \n",
       "1   2          3716                  1748.0                        NaN   \n",
       "2   4          3716                    41.0                        NaN   \n",
       "3   5         28963                    19.0                        NaN   \n",
       "4   6          3716                    21.0                        NaN   \n",
       "\n",
       "   ForumTopicId  FirstKernelVersionId         CreationDate EvaluationDate  \\\n",
       "0           NaN                   1.0  03/25/2015 18:25:32     03/23/2018   \n",
       "1       26670.0                   2.0  03/25/2015 18:31:07     04/16/2015   \n",
       "2           NaN                   9.0  03/25/2015 21:57:36     03/23/2018   \n",
       "3           NaN                  13.0  03/25/2015 22:01:04     03/23/2018   \n",
       "4           NaN                  15.0  03/25/2015 22:19:00     03/23/2018   \n",
       "\n",
       "  MadePublicDate  IsProjectLanguageTemplate     CurrentUrlSlug  Medal  \\\n",
       "0     03/25/2015                      False              hello    NaN   \n",
       "1     03/25/2015                      False       rf-proximity    3.0   \n",
       "2     03/25/2015                      False          r-version    NaN   \n",
       "3     03/25/2015                      False              test1    NaN   \n",
       "4     03/25/2015                      False  are-icons-missing    NaN   \n",
       "\n",
       "  MedalAwardDate  TotalViews  TotalComments  TotalVotes  \n",
       "0            NaN          26              0           0  \n",
       "1     07/15/2016        7615              1          12  \n",
       "2            NaN           9              0           0  \n",
       "3            NaN           9              0           0  \n",
       "4            NaN           7              0           0  "
      ]
     },
     "execution_count": 5,
     "metadata": {},
     "output_type": "execute_result"
    }
   ],
   "source": [
    "kernels.head()"
   ]
  },
  {
   "cell_type": "code",
   "execution_count": 6,
   "metadata": {},
   "outputs": [
    {
     "data": {
      "text/html": [
       "<div>\n",
       "<style scoped>\n",
       "    .dataframe tbody tr th:only-of-type {\n",
       "        vertical-align: middle;\n",
       "    }\n",
       "\n",
       "    .dataframe tbody tr th {\n",
       "        vertical-align: top;\n",
       "    }\n",
       "\n",
       "    .dataframe thead th {\n",
       "        text-align: right;\n",
       "    }\n",
       "</style>\n",
       "<table border=\"1\" class=\"dataframe\">\n",
       "  <thead>\n",
       "    <tr style=\"text-align: right;\">\n",
       "      <th></th>\n",
       "      <th>Id</th>\n",
       "      <th>Name</th>\n",
       "      <th>DisplayName</th>\n",
       "      <th>IsNotebook</th>\n",
       "    </tr>\n",
       "  </thead>\n",
       "  <tbody>\n",
       "    <tr>\n",
       "      <th>0</th>\n",
       "      <td>1</td>\n",
       "      <td>R</td>\n",
       "      <td>R</td>\n",
       "      <td>False</td>\n",
       "    </tr>\n",
       "    <tr>\n",
       "      <th>1</th>\n",
       "      <td>2</td>\n",
       "      <td>Python</td>\n",
       "      <td>Python</td>\n",
       "      <td>False</td>\n",
       "    </tr>\n",
       "    <tr>\n",
       "      <th>2</th>\n",
       "      <td>5</td>\n",
       "      <td>RMarkdown</td>\n",
       "      <td>R</td>\n",
       "      <td>False</td>\n",
       "    </tr>\n",
       "    <tr>\n",
       "      <th>3</th>\n",
       "      <td>8</td>\n",
       "      <td>IPython Notebook</td>\n",
       "      <td>Python</td>\n",
       "      <td>True</td>\n",
       "    </tr>\n",
       "    <tr>\n",
       "      <th>4</th>\n",
       "      <td>9</td>\n",
       "      <td>IPython Notebook HTML</td>\n",
       "      <td>Python</td>\n",
       "      <td>False</td>\n",
       "    </tr>\n",
       "    <tr>\n",
       "      <th>5</th>\n",
       "      <td>12</td>\n",
       "      <td>R Notebook HTML</td>\n",
       "      <td>R</td>\n",
       "      <td>False</td>\n",
       "    </tr>\n",
       "    <tr>\n",
       "      <th>6</th>\n",
       "      <td>13</td>\n",
       "      <td>R Notebook</td>\n",
       "      <td>R</td>\n",
       "      <td>True</td>\n",
       "    </tr>\n",
       "    <tr>\n",
       "      <th>7</th>\n",
       "      <td>14</td>\n",
       "      <td>Python Script - Interactive</td>\n",
       "      <td>Python</td>\n",
       "      <td>True</td>\n",
       "    </tr>\n",
       "    <tr>\n",
       "      <th>8</th>\n",
       "      <td>15</td>\n",
       "      <td>R Script - Interactive</td>\n",
       "      <td>R</td>\n",
       "      <td>True</td>\n",
       "    </tr>\n",
       "    <tr>\n",
       "      <th>9</th>\n",
       "      <td>16</td>\n",
       "      <td>RMarkdown - Interactive</td>\n",
       "      <td>R</td>\n",
       "      <td>True</td>\n",
       "    </tr>\n",
       "  </tbody>\n",
       "</table>\n",
       "</div>"
      ],
      "text/plain": [
       "   Id                         Name DisplayName  IsNotebook\n",
       "0   1                            R           R       False\n",
       "1   2                       Python      Python       False\n",
       "2   5                    RMarkdown           R       False\n",
       "3   8             IPython Notebook      Python        True\n",
       "4   9        IPython Notebook HTML      Python       False\n",
       "5  12              R Notebook HTML           R       False\n",
       "6  13                   R Notebook           R        True\n",
       "7  14  Python Script - Interactive      Python        True\n",
       "8  15       R Script - Interactive           R        True\n",
       "9  16      RMarkdown - Interactive           R        True"
      ]
     },
     "execution_count": 6,
     "metadata": {},
     "output_type": "execute_result"
    }
   ],
   "source": [
    "kernel_lang"
   ]
  },
  {
   "cell_type": "code",
   "execution_count": 7,
   "metadata": {},
   "outputs": [
    {
     "data": {
      "text/html": [
       "<div>\n",
       "<style scoped>\n",
       "    .dataframe tbody tr th:only-of-type {\n",
       "        vertical-align: middle;\n",
       "    }\n",
       "\n",
       "    .dataframe tbody tr th {\n",
       "        vertical-align: top;\n",
       "    }\n",
       "\n",
       "    .dataframe thead th {\n",
       "        text-align: right;\n",
       "    }\n",
       "</style>\n",
       "<table border=\"1\" class=\"dataframe\">\n",
       "  <thead>\n",
       "    <tr style=\"text-align: right;\">\n",
       "      <th></th>\n",
       "      <th>Id</th>\n",
       "      <th>KernelId</th>\n",
       "      <th>TagId</th>\n",
       "    </tr>\n",
       "  </thead>\n",
       "  <tbody>\n",
       "    <tr>\n",
       "      <th>0</th>\n",
       "      <td>17667</td>\n",
       "      <td>1008233</td>\n",
       "      <td>13202</td>\n",
       "    </tr>\n",
       "    <tr>\n",
       "      <th>1</th>\n",
       "      <td>17910</td>\n",
       "      <td>1021185</td>\n",
       "      <td>13208</td>\n",
       "    </tr>\n",
       "    <tr>\n",
       "      <th>2</th>\n",
       "      <td>17913</td>\n",
       "      <td>1021185</td>\n",
       "      <td>13302</td>\n",
       "    </tr>\n",
       "    <tr>\n",
       "      <th>3</th>\n",
       "      <td>17912</td>\n",
       "      <td>1021185</td>\n",
       "      <td>13402</td>\n",
       "    </tr>\n",
       "    <tr>\n",
       "      <th>4</th>\n",
       "      <td>17911</td>\n",
       "      <td>1021185</td>\n",
       "      <td>13405</td>\n",
       "    </tr>\n",
       "  </tbody>\n",
       "</table>\n",
       "</div>"
      ],
      "text/plain": [
       "      Id  KernelId  TagId\n",
       "0  17667   1008233  13202\n",
       "1  17910   1021185  13208\n",
       "2  17913   1021185  13302\n",
       "3  17912   1021185  13402\n",
       "4  17911   1021185  13405"
      ]
     },
     "execution_count": 7,
     "metadata": {},
     "output_type": "execute_result"
    }
   ],
   "source": [
    "kernel_tags.head()"
   ]
  },
  {
   "cell_type": "code",
   "execution_count": 8,
   "metadata": {},
   "outputs": [
    {
     "data": {
      "text/html": [
       "<div>\n",
       "<style scoped>\n",
       "    .dataframe tbody tr th:only-of-type {\n",
       "        vertical-align: middle;\n",
       "    }\n",
       "\n",
       "    .dataframe tbody tr th {\n",
       "        vertical-align: top;\n",
       "    }\n",
       "\n",
       "    .dataframe thead th {\n",
       "        text-align: right;\n",
       "    }\n",
       "</style>\n",
       "<table border=\"1\" class=\"dataframe\">\n",
       "  <thead>\n",
       "    <tr style=\"text-align: right;\">\n",
       "      <th></th>\n",
       "      <th>Id</th>\n",
       "      <th>UserId</th>\n",
       "      <th>KernelVersionId</th>\n",
       "      <th>VoteDate</th>\n",
       "    </tr>\n",
       "  </thead>\n",
       "  <tbody>\n",
       "    <tr>\n",
       "      <th>0</th>\n",
       "      <td>93706</td>\n",
       "      <td>1037042</td>\n",
       "      <td>958647</td>\n",
       "      <td>05/04/2017</td>\n",
       "    </tr>\n",
       "    <tr>\n",
       "      <th>1</th>\n",
       "      <td>109884</td>\n",
       "      <td>661531</td>\n",
       "      <td>958647</td>\n",
       "      <td>06/25/2017</td>\n",
       "    </tr>\n",
       "    <tr>\n",
       "      <th>2</th>\n",
       "      <td>73528</td>\n",
       "      <td>744730</td>\n",
       "      <td>958647</td>\n",
       "      <td>02/28/2017</td>\n",
       "    </tr>\n",
       "    <tr>\n",
       "      <th>3</th>\n",
       "      <td>73593</td>\n",
       "      <td>685015</td>\n",
       "      <td>958647</td>\n",
       "      <td>02/28/2017</td>\n",
       "    </tr>\n",
       "    <tr>\n",
       "      <th>4</th>\n",
       "      <td>73632</td>\n",
       "      <td>10475</td>\n",
       "      <td>958647</td>\n",
       "      <td>02/28/2017</td>\n",
       "    </tr>\n",
       "  </tbody>\n",
       "</table>\n",
       "</div>"
      ],
      "text/plain": [
       "       Id   UserId  KernelVersionId    VoteDate\n",
       "0   93706  1037042           958647  05/04/2017\n",
       "1  109884   661531           958647  06/25/2017\n",
       "2   73528   744730           958647  02/28/2017\n",
       "3   73593   685015           958647  02/28/2017\n",
       "4   73632    10475           958647  02/28/2017"
      ]
     },
     "execution_count": 8,
     "metadata": {},
     "output_type": "execute_result"
    }
   ],
   "source": [
    "kernel_votes.head()"
   ]
  },
  {
   "cell_type": "code",
   "execution_count": 9,
   "metadata": {},
   "outputs": [
    {
     "data": {
      "text/html": [
       "<div>\n",
       "<style scoped>\n",
       "    .dataframe tbody tr th:only-of-type {\n",
       "        vertical-align: middle;\n",
       "    }\n",
       "\n",
       "    .dataframe tbody tr th {\n",
       "        vertical-align: top;\n",
       "    }\n",
       "\n",
       "    .dataframe thead th {\n",
       "        text-align: right;\n",
       "    }\n",
       "</style>\n",
       "<table border=\"1\" class=\"dataframe\">\n",
       "  <thead>\n",
       "    <tr style=\"text-align: right;\">\n",
       "      <th></th>\n",
       "      <th>Id</th>\n",
       "      <th>KernelId</th>\n",
       "      <th>ParentKernelVersionId</th>\n",
       "      <th>KernelLanguageId</th>\n",
       "      <th>AuthorUserId</th>\n",
       "      <th>CreationDate</th>\n",
       "      <th>VersionNumber</th>\n",
       "      <th>Title</th>\n",
       "      <th>EvaluationDate</th>\n",
       "      <th>IsChange</th>\n",
       "      <th>TotalLines</th>\n",
       "      <th>LinesInsertedFromPrevious</th>\n",
       "      <th>LinesChangedFromPrevious</th>\n",
       "      <th>LinesUnchangedFromPrevious</th>\n",
       "      <th>LinesInsertedFromFork</th>\n",
       "      <th>LinesDeletedFromFork</th>\n",
       "      <th>LinesChangedFromFork</th>\n",
       "      <th>LinesUnchangedFromFork</th>\n",
       "      <th>TotalVotes</th>\n",
       "    </tr>\n",
       "  </thead>\n",
       "  <tbody>\n",
       "    <tr>\n",
       "      <th>0</th>\n",
       "      <td>1</td>\n",
       "      <td>1</td>\n",
       "      <td>NaN</td>\n",
       "      <td>1</td>\n",
       "      <td>2505</td>\n",
       "      <td>03/25/2015 18:25:32</td>\n",
       "      <td>1.0</td>\n",
       "      <td>hello</td>\n",
       "      <td>03/23/2018</td>\n",
       "      <td>True</td>\n",
       "      <td>1.0</td>\n",
       "      <td>NaN</td>\n",
       "      <td>NaN</td>\n",
       "      <td>NaN</td>\n",
       "      <td>NaN</td>\n",
       "      <td>NaN</td>\n",
       "      <td>NaN</td>\n",
       "      <td>NaN</td>\n",
       "      <td>0</td>\n",
       "    </tr>\n",
       "    <tr>\n",
       "      <th>1</th>\n",
       "      <td>2</td>\n",
       "      <td>2</td>\n",
       "      <td>NaN</td>\n",
       "      <td>1</td>\n",
       "      <td>3716</td>\n",
       "      <td>03/25/2015 18:31:07</td>\n",
       "      <td>1.0</td>\n",
       "      <td>RF Proximity</td>\n",
       "      <td>03/23/2018</td>\n",
       "      <td>True</td>\n",
       "      <td>79.0</td>\n",
       "      <td>NaN</td>\n",
       "      <td>NaN</td>\n",
       "      <td>NaN</td>\n",
       "      <td>NaN</td>\n",
       "      <td>NaN</td>\n",
       "      <td>NaN</td>\n",
       "      <td>NaN</td>\n",
       "      <td>0</td>\n",
       "    </tr>\n",
       "    <tr>\n",
       "      <th>2</th>\n",
       "      <td>8</td>\n",
       "      <td>2</td>\n",
       "      <td>NaN</td>\n",
       "      <td>1</td>\n",
       "      <td>3716</td>\n",
       "      <td>03/25/2015 18:51:15</td>\n",
       "      <td>2.0</td>\n",
       "      <td>RF Proximity</td>\n",
       "      <td>03/23/2018</td>\n",
       "      <td>True</td>\n",
       "      <td>79.0</td>\n",
       "      <td>0.0</td>\n",
       "      <td>0.0</td>\n",
       "      <td>80.0</td>\n",
       "      <td>NaN</td>\n",
       "      <td>NaN</td>\n",
       "      <td>NaN</td>\n",
       "      <td>NaN</td>\n",
       "      <td>0</td>\n",
       "    </tr>\n",
       "    <tr>\n",
       "      <th>3</th>\n",
       "      <td>9</td>\n",
       "      <td>4</td>\n",
       "      <td>NaN</td>\n",
       "      <td>1</td>\n",
       "      <td>3716</td>\n",
       "      <td>03/25/2015 21:57:36</td>\n",
       "      <td>1.0</td>\n",
       "      <td>R version</td>\n",
       "      <td>03/23/2018</td>\n",
       "      <td>True</td>\n",
       "      <td>1.0</td>\n",
       "      <td>NaN</td>\n",
       "      <td>NaN</td>\n",
       "      <td>NaN</td>\n",
       "      <td>NaN</td>\n",
       "      <td>NaN</td>\n",
       "      <td>NaN</td>\n",
       "      <td>NaN</td>\n",
       "      <td>0</td>\n",
       "    </tr>\n",
       "    <tr>\n",
       "      <th>4</th>\n",
       "      <td>10</td>\n",
       "      <td>4</td>\n",
       "      <td>NaN</td>\n",
       "      <td>1</td>\n",
       "      <td>3716</td>\n",
       "      <td>03/25/2015 21:57:44</td>\n",
       "      <td>2.0</td>\n",
       "      <td>R version</td>\n",
       "      <td>03/23/2018</td>\n",
       "      <td>True</td>\n",
       "      <td>1.0</td>\n",
       "      <td>0.0</td>\n",
       "      <td>0.0</td>\n",
       "      <td>2.0</td>\n",
       "      <td>NaN</td>\n",
       "      <td>NaN</td>\n",
       "      <td>NaN</td>\n",
       "      <td>NaN</td>\n",
       "      <td>0</td>\n",
       "    </tr>\n",
       "  </tbody>\n",
       "</table>\n",
       "</div>"
      ],
      "text/plain": [
       "   Id  KernelId  ParentKernelVersionId  KernelLanguageId  AuthorUserId  \\\n",
       "0   1         1                    NaN                 1          2505   \n",
       "1   2         2                    NaN                 1          3716   \n",
       "2   8         2                    NaN                 1          3716   \n",
       "3   9         4                    NaN                 1          3716   \n",
       "4  10         4                    NaN                 1          3716   \n",
       "\n",
       "          CreationDate  VersionNumber         Title EvaluationDate  IsChange  \\\n",
       "0  03/25/2015 18:25:32            1.0         hello     03/23/2018      True   \n",
       "1  03/25/2015 18:31:07            1.0  RF Proximity     03/23/2018      True   \n",
       "2  03/25/2015 18:51:15            2.0  RF Proximity     03/23/2018      True   \n",
       "3  03/25/2015 21:57:36            1.0     R version     03/23/2018      True   \n",
       "4  03/25/2015 21:57:44            2.0     R version     03/23/2018      True   \n",
       "\n",
       "   TotalLines  LinesInsertedFromPrevious  LinesChangedFromPrevious  \\\n",
       "0         1.0                        NaN                       NaN   \n",
       "1        79.0                        NaN                       NaN   \n",
       "2        79.0                        0.0                       0.0   \n",
       "3         1.0                        NaN                       NaN   \n",
       "4         1.0                        0.0                       0.0   \n",
       "\n",
       "   LinesUnchangedFromPrevious  LinesInsertedFromFork  LinesDeletedFromFork  \\\n",
       "0                         NaN                    NaN                   NaN   \n",
       "1                         NaN                    NaN                   NaN   \n",
       "2                        80.0                    NaN                   NaN   \n",
       "3                         NaN                    NaN                   NaN   \n",
       "4                         2.0                    NaN                   NaN   \n",
       "\n",
       "   LinesChangedFromFork  LinesUnchangedFromFork  TotalVotes  \n",
       "0                   NaN                     NaN           0  \n",
       "1                   NaN                     NaN           0  \n",
       "2                   NaN                     NaN           0  \n",
       "3                   NaN                     NaN           0  \n",
       "4                   NaN                     NaN           0  "
      ]
     },
     "execution_count": 9,
     "metadata": {},
     "output_type": "execute_result"
    }
   ],
   "source": [
    "kernel_versions.head()"
   ]
  },
  {
   "cell_type": "code",
   "execution_count": 10,
   "metadata": {},
   "outputs": [
    {
     "data": {
      "text/html": [
       "<div>\n",
       "<style scoped>\n",
       "    .dataframe tbody tr th:only-of-type {\n",
       "        vertical-align: middle;\n",
       "    }\n",
       "\n",
       "    .dataframe tbody tr th {\n",
       "        vertical-align: top;\n",
       "    }\n",
       "\n",
       "    .dataframe thead th {\n",
       "        text-align: right;\n",
       "    }\n",
       "</style>\n",
       "<table border=\"1\" class=\"dataframe\">\n",
       "  <thead>\n",
       "    <tr style=\"text-align: right;\">\n",
       "      <th></th>\n",
       "      <th>Id</th>\n",
       "      <th>KernelVersionId</th>\n",
       "      <th>SourceCompetitionId</th>\n",
       "    </tr>\n",
       "  </thead>\n",
       "  <tbody>\n",
       "    <tr>\n",
       "      <th>0</th>\n",
       "      <td>967717</td>\n",
       "      <td>1013</td>\n",
       "      <td>4353</td>\n",
       "    </tr>\n",
       "    <tr>\n",
       "      <th>1</th>\n",
       "      <td>978507</td>\n",
       "      <td>1399</td>\n",
       "      <td>3936</td>\n",
       "    </tr>\n",
       "    <tr>\n",
       "      <th>2</th>\n",
       "      <td>929401</td>\n",
       "      <td>2024</td>\n",
       "      <td>4280</td>\n",
       "    </tr>\n",
       "    <tr>\n",
       "      <th>3</th>\n",
       "      <td>912296</td>\n",
       "      <td>2031</td>\n",
       "      <td>4280</td>\n",
       "    </tr>\n",
       "    <tr>\n",
       "      <th>4</th>\n",
       "      <td>905829</td>\n",
       "      <td>2717</td>\n",
       "      <td>4280</td>\n",
       "    </tr>\n",
       "  </tbody>\n",
       "</table>\n",
       "</div>"
      ],
      "text/plain": [
       "       Id  KernelVersionId  SourceCompetitionId\n",
       "0  967717             1013                 4353\n",
       "1  978507             1399                 3936\n",
       "2  929401             2024                 4280\n",
       "3  912296             2031                 4280\n",
       "4  905829             2717                 4280"
      ]
     },
     "execution_count": 10,
     "metadata": {},
     "output_type": "execute_result"
    }
   ],
   "source": [
    "kernel_competitions.head()"
   ]
  },
  {
   "cell_type": "code",
   "execution_count": 11,
   "metadata": {},
   "outputs": [
    {
     "data": {
      "text/html": [
       "<div>\n",
       "<style scoped>\n",
       "    .dataframe tbody tr th:only-of-type {\n",
       "        vertical-align: middle;\n",
       "    }\n",
       "\n",
       "    .dataframe tbody tr th {\n",
       "        vertical-align: top;\n",
       "    }\n",
       "\n",
       "    .dataframe thead th {\n",
       "        text-align: right;\n",
       "    }\n",
       "</style>\n",
       "<table border=\"1\" class=\"dataframe\">\n",
       "  <thead>\n",
       "    <tr style=\"text-align: right;\">\n",
       "      <th></th>\n",
       "      <th>Id</th>\n",
       "      <th>ParentTagId</th>\n",
       "      <th>Name</th>\n",
       "      <th>Slug</th>\n",
       "      <th>FullPath</th>\n",
       "      <th>Description</th>\n",
       "      <th>DatasetCount</th>\n",
       "      <th>CompetitionCount</th>\n",
       "      <th>KernelCount</th>\n",
       "    </tr>\n",
       "  </thead>\n",
       "  <tbody>\n",
       "    <tr>\n",
       "      <th>0</th>\n",
       "      <td>1000</td>\n",
       "      <td>NaN</td>\n",
       "      <td>general reference</td>\n",
       "      <td>general-reference</td>\n",
       "      <td>general reference</td>\n",
       "      <td>NaN</td>\n",
       "      <td>0</td>\n",
       "      <td>0</td>\n",
       "      <td>0</td>\n",
       "    </tr>\n",
       "    <tr>\n",
       "      <th>1</th>\n",
       "      <td>1100</td>\n",
       "      <td>1000.0</td>\n",
       "      <td>reference works</td>\n",
       "      <td>reference-works</td>\n",
       "      <td>general reference &gt; reference works</td>\n",
       "      <td>NaN</td>\n",
       "      <td>0</td>\n",
       "      <td>0</td>\n",
       "      <td>0</td>\n",
       "    </tr>\n",
       "    <tr>\n",
       "      <th>2</th>\n",
       "      <td>1103</td>\n",
       "      <td>1100.0</td>\n",
       "      <td>biography</td>\n",
       "      <td>biography</td>\n",
       "      <td>general reference &gt; reference works &gt; biography</td>\n",
       "      <td>Who did what and when? This tag contains infor...</td>\n",
       "      <td>3</td>\n",
       "      <td>0</td>\n",
       "      <td>0</td>\n",
       "    </tr>\n",
       "    <tr>\n",
       "      <th>3</th>\n",
       "      <td>1104</td>\n",
       "      <td>1100.0</td>\n",
       "      <td>dictionaries</td>\n",
       "      <td>dictionaries</td>\n",
       "      <td>general reference &gt; reference works &gt; dictiona...</td>\n",
       "      <td>A dictionary, sometimes known as a wordbook, i...</td>\n",
       "      <td>6</td>\n",
       "      <td>0</td>\n",
       "      <td>3</td>\n",
       "    </tr>\n",
       "    <tr>\n",
       "      <th>4</th>\n",
       "      <td>1106</td>\n",
       "      <td>1100.0</td>\n",
       "      <td>encyclopedias</td>\n",
       "      <td>encyclopedias</td>\n",
       "      <td>general reference &gt; reference works &gt; encyclop...</td>\n",
       "      <td>An encyclopedia is a reference work or compend...</td>\n",
       "      <td>1</td>\n",
       "      <td>0</td>\n",
       "      <td>0</td>\n",
       "    </tr>\n",
       "  </tbody>\n",
       "</table>\n",
       "</div>"
      ],
      "text/plain": [
       "     Id  ParentTagId               Name               Slug  \\\n",
       "0  1000          NaN  general reference  general-reference   \n",
       "1  1100       1000.0    reference works    reference-works   \n",
       "2  1103       1100.0          biography          biography   \n",
       "3  1104       1100.0       dictionaries       dictionaries   \n",
       "4  1106       1100.0      encyclopedias      encyclopedias   \n",
       "\n",
       "                                            FullPath  \\\n",
       "0                                  general reference   \n",
       "1                general reference > reference works   \n",
       "2    general reference > reference works > biography   \n",
       "3  general reference > reference works > dictiona...   \n",
       "4  general reference > reference works > encyclop...   \n",
       "\n",
       "                                         Description  DatasetCount  \\\n",
       "0                                                NaN             0   \n",
       "1                                                NaN             0   \n",
       "2  Who did what and when? This tag contains infor...             3   \n",
       "3  A dictionary, sometimes known as a wordbook, i...             6   \n",
       "4  An encyclopedia is a reference work or compend...             1   \n",
       "\n",
       "   CompetitionCount  KernelCount  \n",
       "0                 0            0  \n",
       "1                 0            0  \n",
       "2                 0            0  \n",
       "3                 0            3  \n",
       "4                 0            0  "
      ]
     },
     "execution_count": 11,
     "metadata": {},
     "output_type": "execute_result"
    }
   ],
   "source": [
    "tags.head()"
   ]
  },
  {
   "cell_type": "code",
   "execution_count": 12,
   "metadata": {},
   "outputs": [
    {
     "data": {
      "text/html": [
       "<div>\n",
       "<style scoped>\n",
       "    .dataframe tbody tr th:only-of-type {\n",
       "        vertical-align: middle;\n",
       "    }\n",
       "\n",
       "    .dataframe tbody tr th {\n",
       "        vertical-align: top;\n",
       "    }\n",
       "\n",
       "    .dataframe thead th {\n",
       "        text-align: right;\n",
       "    }\n",
       "</style>\n",
       "<table border=\"1\" class=\"dataframe\">\n",
       "  <thead>\n",
       "    <tr style=\"text-align: right;\">\n",
       "      <th></th>\n",
       "      <th>Id</th>\n",
       "      <th>Slug</th>\n",
       "      <th>Title</th>\n",
       "      <th>Subtitle</th>\n",
       "      <th>HostSegmentTitle</th>\n",
       "      <th>ForumId</th>\n",
       "      <th>OrganizationId</th>\n",
       "      <th>CompetitionTypeId</th>\n",
       "      <th>HostName</th>\n",
       "      <th>EnabledDate</th>\n",
       "      <th>...</th>\n",
       "      <th>EnableSubmissionModelHashes</th>\n",
       "      <th>EnableSubmissionModelAttachments</th>\n",
       "      <th>RewardType</th>\n",
       "      <th>RewardQuantity</th>\n",
       "      <th>NumPrizes</th>\n",
       "      <th>UserRankMultiplier</th>\n",
       "      <th>CanQualifyTiers</th>\n",
       "      <th>TotalTeams</th>\n",
       "      <th>TotalCompetitors</th>\n",
       "      <th>TotalSubmissions</th>\n",
       "    </tr>\n",
       "  </thead>\n",
       "  <tbody>\n",
       "    <tr>\n",
       "      <th>0</th>\n",
       "      <td>2408</td>\n",
       "      <td>Eurovision2010</td>\n",
       "      <td>Forecast Eurovision Voting</td>\n",
       "      <td>This competition requires contestants to forec...</td>\n",
       "      <td>Featured</td>\n",
       "      <td>2.0</td>\n",
       "      <td>NaN</td>\n",
       "      <td>1</td>\n",
       "      <td>NaN</td>\n",
       "      <td>04/07/2010 07:57:43</td>\n",
       "      <td>...</td>\n",
       "      <td>False</td>\n",
       "      <td>False</td>\n",
       "      <td>USD</td>\n",
       "      <td>1000.0</td>\n",
       "      <td>1</td>\n",
       "      <td>1.0</td>\n",
       "      <td>False</td>\n",
       "      <td>22</td>\n",
       "      <td>25</td>\n",
       "      <td>22</td>\n",
       "    </tr>\n",
       "    <tr>\n",
       "      <th>1</th>\n",
       "      <td>8910</td>\n",
       "      <td>blg-454e-term-project-competition</td>\n",
       "      <td>BLG 454E Term Project Competition</td>\n",
       "      <td>ITU Computer and Informatics Faculty, BLG 454E...</td>\n",
       "      <td>InClass</td>\n",
       "      <td>24780.0</td>\n",
       "      <td>NaN</td>\n",
       "      <td>1</td>\n",
       "      <td>NaN</td>\n",
       "      <td>03/17/2018 19:08:56</td>\n",
       "      <td>...</td>\n",
       "      <td>False</td>\n",
       "      <td>False</td>\n",
       "      <td>NaN</td>\n",
       "      <td>0.0</td>\n",
       "      <td>0</td>\n",
       "      <td>0.0</td>\n",
       "      <td>False</td>\n",
       "      <td>29</td>\n",
       "      <td>65</td>\n",
       "      <td>658</td>\n",
       "    </tr>\n",
       "    <tr>\n",
       "      <th>2</th>\n",
       "      <td>8916</td>\n",
       "      <td>test-xx</td>\n",
       "      <td>test-xx</td>\n",
       "      <td>this is a test</td>\n",
       "      <td>InClass</td>\n",
       "      <td>24867.0</td>\n",
       "      <td>NaN</td>\n",
       "      <td>1</td>\n",
       "      <td>NaN</td>\n",
       "      <td>03/18/2018 11:52:38</td>\n",
       "      <td>...</td>\n",
       "      <td>False</td>\n",
       "      <td>False</td>\n",
       "      <td>NaN</td>\n",
       "      <td>0.0</td>\n",
       "      <td>0</td>\n",
       "      <td>0.0</td>\n",
       "      <td>False</td>\n",
       "      <td>0</td>\n",
       "      <td>0</td>\n",
       "      <td>7</td>\n",
       "    </tr>\n",
       "    <tr>\n",
       "      <th>3</th>\n",
       "      <td>8933</td>\n",
       "      <td>recsys-20181-cfmr</td>\n",
       "      <td>RecSys 2018/1: Collaborative Movie Recommendation</td>\n",
       "      <td>Predict users' ratings for movies</td>\n",
       "      <td>InClass</td>\n",
       "      <td>25077.0</td>\n",
       "      <td>NaN</td>\n",
       "      <td>1</td>\n",
       "      <td>NaN</td>\n",
       "      <td>03/19/2018 15:34:50</td>\n",
       "      <td>...</td>\n",
       "      <td>False</td>\n",
       "      <td>False</td>\n",
       "      <td>NaN</td>\n",
       "      <td>0.0</td>\n",
       "      <td>0</td>\n",
       "      <td>0.0</td>\n",
       "      <td>False</td>\n",
       "      <td>27</td>\n",
       "      <td>28</td>\n",
       "      <td>737</td>\n",
       "    </tr>\n",
       "    <tr>\n",
       "      <th>4</th>\n",
       "      <td>8970</td>\n",
       "      <td>predictive-modeling-nmims-competition</td>\n",
       "      <td>Predictive Modeling -NMIMS -  Competition</td>\n",
       "      <td>PM Competition for NMIMS 5th Year BIA Students</td>\n",
       "      <td>InClass</td>\n",
       "      <td>25413.0</td>\n",
       "      <td>NaN</td>\n",
       "      <td>1</td>\n",
       "      <td>NaN</td>\n",
       "      <td>03/21/2018 09:34:20</td>\n",
       "      <td>...</td>\n",
       "      <td>False</td>\n",
       "      <td>False</td>\n",
       "      <td>NaN</td>\n",
       "      <td>0.0</td>\n",
       "      <td>0</td>\n",
       "      <td>0.0</td>\n",
       "      <td>False</td>\n",
       "      <td>15</td>\n",
       "      <td>44</td>\n",
       "      <td>123</td>\n",
       "    </tr>\n",
       "  </tbody>\n",
       "</table>\n",
       "<p>5 rows × 42 columns</p>\n",
       "</div>"
      ],
      "text/plain": [
       "     Id                                   Slug  \\\n",
       "0  2408                         Eurovision2010   \n",
       "1  8910      blg-454e-term-project-competition   \n",
       "2  8916                                test-xx   \n",
       "3  8933                      recsys-20181-cfmr   \n",
       "4  8970  predictive-modeling-nmims-competition   \n",
       "\n",
       "                                               Title  \\\n",
       "0                         Forecast Eurovision Voting   \n",
       "1                  BLG 454E Term Project Competition   \n",
       "2                                            test-xx   \n",
       "3  RecSys 2018/1: Collaborative Movie Recommendation   \n",
       "4          Predictive Modeling -NMIMS -  Competition   \n",
       "\n",
       "                                            Subtitle HostSegmentTitle  \\\n",
       "0  This competition requires contestants to forec...         Featured   \n",
       "1  ITU Computer and Informatics Faculty, BLG 454E...          InClass   \n",
       "2                                     this is a test          InClass   \n",
       "3                  Predict users' ratings for movies          InClass   \n",
       "4     PM Competition for NMIMS 5th Year BIA Students          InClass   \n",
       "\n",
       "   ForumId  OrganizationId  CompetitionTypeId HostName          EnabledDate  \\\n",
       "0      2.0             NaN                  1      NaN  04/07/2010 07:57:43   \n",
       "1  24780.0             NaN                  1      NaN  03/17/2018 19:08:56   \n",
       "2  24867.0             NaN                  1      NaN  03/18/2018 11:52:38   \n",
       "3  25077.0             NaN                  1      NaN  03/19/2018 15:34:50   \n",
       "4  25413.0             NaN                  1      NaN  03/21/2018 09:34:20   \n",
       "\n",
       "         ...        EnableSubmissionModelHashes  \\\n",
       "0        ...                              False   \n",
       "1        ...                              False   \n",
       "2        ...                              False   \n",
       "3        ...                              False   \n",
       "4        ...                              False   \n",
       "\n",
       "  EnableSubmissionModelAttachments RewardType RewardQuantity NumPrizes  \\\n",
       "0                            False        USD         1000.0         1   \n",
       "1                            False        NaN            0.0         0   \n",
       "2                            False        NaN            0.0         0   \n",
       "3                            False        NaN            0.0         0   \n",
       "4                            False        NaN            0.0         0   \n",
       "\n",
       "   UserRankMultiplier  CanQualifyTiers  TotalTeams  TotalCompetitors  \\\n",
       "0                 1.0            False          22                25   \n",
       "1                 0.0            False          29                65   \n",
       "2                 0.0            False           0                 0   \n",
       "3                 0.0            False          27                28   \n",
       "4                 0.0            False          15                44   \n",
       "\n",
       "   TotalSubmissions  \n",
       "0                22  \n",
       "1               658  \n",
       "2                 7  \n",
       "3               737  \n",
       "4               123  \n",
       "\n",
       "[5 rows x 42 columns]"
      ]
     },
     "execution_count": 12,
     "metadata": {},
     "output_type": "execute_result"
    }
   ],
   "source": [
    "competitions.head()"
   ]
  },
  {
   "cell_type": "code",
   "execution_count": 13,
   "metadata": {},
   "outputs": [
    {
     "data": {
      "text/html": [
       "<div>\n",
       "<style scoped>\n",
       "    .dataframe tbody tr th:only-of-type {\n",
       "        vertical-align: middle;\n",
       "    }\n",
       "\n",
       "    .dataframe tbody tr th {\n",
       "        vertical-align: top;\n",
       "    }\n",
       "\n",
       "    .dataframe thead th {\n",
       "        text-align: right;\n",
       "    }\n",
       "</style>\n",
       "<table border=\"1\" class=\"dataframe\">\n",
       "  <thead>\n",
       "    <tr style=\"text-align: right;\">\n",
       "      <th></th>\n",
       "      <th>Id</th>\n",
       "      <th>UserName</th>\n",
       "      <th>DisplayName</th>\n",
       "      <th>RegisterDate</th>\n",
       "      <th>PerformanceTier</th>\n",
       "    </tr>\n",
       "  </thead>\n",
       "  <tbody>\n",
       "    <tr>\n",
       "      <th>0</th>\n",
       "      <td>1</td>\n",
       "      <td>kaggleteam</td>\n",
       "      <td>Kaggle Team</td>\n",
       "      <td>03/24/2011</td>\n",
       "      <td>5</td>\n",
       "    </tr>\n",
       "    <tr>\n",
       "      <th>1</th>\n",
       "      <td>368</td>\n",
       "      <td>antgoldbloom</td>\n",
       "      <td>Anthony Goldbloom</td>\n",
       "      <td>01/20/2010</td>\n",
       "      <td>5</td>\n",
       "    </tr>\n",
       "    <tr>\n",
       "      <th>2</th>\n",
       "      <td>381</td>\n",
       "      <td>iguyon</td>\n",
       "      <td>Isabelle</td>\n",
       "      <td>01/29/2010</td>\n",
       "      <td>2</td>\n",
       "    </tr>\n",
       "  </tbody>\n",
       "</table>\n",
       "</div>"
      ],
      "text/plain": [
       "    Id      UserName        DisplayName RegisterDate  PerformanceTier\n",
       "0    1    kaggleteam        Kaggle Team   03/24/2011                5\n",
       "1  368  antgoldbloom  Anthony Goldbloom   01/20/2010                5\n",
       "2  381        iguyon           Isabelle   01/29/2010                2"
      ]
     },
     "execution_count": 13,
     "metadata": {},
     "output_type": "execute_result"
    }
   ],
   "source": [
    "kernel_users.head(3)"
   ]
  },
  {
   "cell_type": "code",
   "execution_count": 14,
   "metadata": {},
   "outputs": [
    {
     "data": {
      "text/html": [
       "<div>\n",
       "<style scoped>\n",
       "    .dataframe tbody tr th:only-of-type {\n",
       "        vertical-align: middle;\n",
       "    }\n",
       "\n",
       "    .dataframe tbody tr th {\n",
       "        vertical-align: top;\n",
       "    }\n",
       "\n",
       "    .dataframe thead th {\n",
       "        text-align: right;\n",
       "    }\n",
       "</style>\n",
       "<table border=\"1\" class=\"dataframe\">\n",
       "  <thead>\n",
       "    <tr style=\"text-align: right;\">\n",
       "      <th></th>\n",
       "      <th>Id</th>\n",
       "      <th>CreatorUserId</th>\n",
       "      <th>OwnerUserId</th>\n",
       "      <th>OwnerOrganizationId</th>\n",
       "      <th>CurrentDatasetVersionId</th>\n",
       "      <th>CurrentDatasourceVersionId</th>\n",
       "      <th>ForumId</th>\n",
       "      <th>Type</th>\n",
       "      <th>CreationDate</th>\n",
       "      <th>ReviewDate</th>\n",
       "      <th>FeatureDate</th>\n",
       "      <th>LastActivityDate</th>\n",
       "      <th>TotalViews</th>\n",
       "      <th>TotalDownloads</th>\n",
       "      <th>TotalVotes</th>\n",
       "      <th>TotalKernels</th>\n",
       "    </tr>\n",
       "  </thead>\n",
       "  <tbody>\n",
       "    <tr>\n",
       "      <th>0</th>\n",
       "      <td>6</td>\n",
       "      <td>1</td>\n",
       "      <td>NaN</td>\n",
       "      <td>12.0</td>\n",
       "      <td>2158.0</td>\n",
       "      <td>2158.0</td>\n",
       "      <td>762</td>\n",
       "      <td>2</td>\n",
       "      <td>07/18/2015 00:51:12</td>\n",
       "      <td>07/18/2015</td>\n",
       "      <td>NaN</td>\n",
       "      <td>02/05/2018</td>\n",
       "      <td>44943</td>\n",
       "      <td>3819</td>\n",
       "      <td>81</td>\n",
       "      <td>644</td>\n",
       "    </tr>\n",
       "    <tr>\n",
       "      <th>1</th>\n",
       "      <td>7</td>\n",
       "      <td>491632</td>\n",
       "      <td>491632.0</td>\n",
       "      <td>NaN</td>\n",
       "      <td>7.0</td>\n",
       "      <td>7.0</td>\n",
       "      <td>766</td>\n",
       "      <td>2</td>\n",
       "      <td>08/04/2015 23:59:00</td>\n",
       "      <td>08/04/2015</td>\n",
       "      <td>NaN</td>\n",
       "      <td>02/06/2018</td>\n",
       "      <td>63139</td>\n",
       "      <td>6084</td>\n",
       "      <td>193</td>\n",
       "      <td>609</td>\n",
       "    </tr>\n",
       "    <tr>\n",
       "      <th>2</th>\n",
       "      <td>8</td>\n",
       "      <td>495305</td>\n",
       "      <td>NaN</td>\n",
       "      <td>6.0</td>\n",
       "      <td>7142.0</td>\n",
       "      <td>7142.0</td>\n",
       "      <td>774</td>\n",
       "      <td>2</td>\n",
       "      <td>08/18/2015 21:53:00</td>\n",
       "      <td>08/18/2015</td>\n",
       "      <td>NaN</td>\n",
       "      <td>01/31/2018</td>\n",
       "      <td>27285</td>\n",
       "      <td>3066</td>\n",
       "      <td>88</td>\n",
       "      <td>91</td>\n",
       "    </tr>\n",
       "  </tbody>\n",
       "</table>\n",
       "</div>"
      ],
      "text/plain": [
       "   Id  CreatorUserId  OwnerUserId  OwnerOrganizationId  \\\n",
       "0   6              1          NaN                 12.0   \n",
       "1   7         491632     491632.0                  NaN   \n",
       "2   8         495305          NaN                  6.0   \n",
       "\n",
       "   CurrentDatasetVersionId  CurrentDatasourceVersionId  ForumId  Type  \\\n",
       "0                   2158.0                      2158.0      762     2   \n",
       "1                      7.0                         7.0      766     2   \n",
       "2                   7142.0                      7142.0      774     2   \n",
       "\n",
       "          CreationDate  ReviewDate FeatureDate LastActivityDate  TotalViews  \\\n",
       "0  07/18/2015 00:51:12  07/18/2015         NaN       02/05/2018       44943   \n",
       "1  08/04/2015 23:59:00  08/04/2015         NaN       02/06/2018       63139   \n",
       "2  08/18/2015 21:53:00  08/18/2015         NaN       01/31/2018       27285   \n",
       "\n",
       "   TotalDownloads  TotalVotes  TotalKernels  \n",
       "0            3819          81           644  \n",
       "1            6084         193           609  \n",
       "2            3066          88            91  "
      ]
     },
     "execution_count": 14,
     "metadata": {},
     "output_type": "execute_result"
    }
   ],
   "source": [
    "datasets.head(3)"
   ]
  },
  {
   "cell_type": "code",
   "execution_count": 15,
   "metadata": {},
   "outputs": [
    {
     "data": {
      "text/html": [
       "<div>\n",
       "<style scoped>\n",
       "    .dataframe tbody tr th:only-of-type {\n",
       "        vertical-align: middle;\n",
       "    }\n",
       "\n",
       "    .dataframe tbody tr th {\n",
       "        vertical-align: top;\n",
       "    }\n",
       "\n",
       "    .dataframe thead th {\n",
       "        text-align: right;\n",
       "    }\n",
       "</style>\n",
       "<table border=\"1\" class=\"dataframe\">\n",
       "  <thead>\n",
       "    <tr style=\"text-align: right;\">\n",
       "      <th></th>\n",
       "      <th>Id</th>\n",
       "      <th>KernelVersionId</th>\n",
       "      <th>SourceDatasetVersionId</th>\n",
       "    </tr>\n",
       "  </thead>\n",
       "  <tbody>\n",
       "    <tr>\n",
       "      <th>0</th>\n",
       "      <td>47358</td>\n",
       "      <td>127318</td>\n",
       "      <td>7</td>\n",
       "    </tr>\n",
       "    <tr>\n",
       "      <th>1</th>\n",
       "      <td>60214</td>\n",
       "      <td>127188</td>\n",
       "      <td>7</td>\n",
       "    </tr>\n",
       "    <tr>\n",
       "      <th>2</th>\n",
       "      <td>63858</td>\n",
       "      <td>127284</td>\n",
       "      <td>7</td>\n",
       "    </tr>\n",
       "  </tbody>\n",
       "</table>\n",
       "</div>"
      ],
      "text/plain": [
       "      Id  KernelVersionId  SourceDatasetVersionId\n",
       "0  47358           127318                       7\n",
       "1  60214           127188                       7\n",
       "2  63858           127284                       7"
      ]
     },
     "execution_count": 15,
     "metadata": {},
     "output_type": "execute_result"
    }
   ],
   "source": [
    "kernel_datasets.head(3)"
   ]
  },
  {
   "cell_type": "code",
   "execution_count": 16,
   "metadata": {},
   "outputs": [
    {
     "data": {
      "text/html": [
       "<div>\n",
       "<style scoped>\n",
       "    .dataframe tbody tr th:only-of-type {\n",
       "        vertical-align: middle;\n",
       "    }\n",
       "\n",
       "    .dataframe tbody tr th {\n",
       "        vertical-align: top;\n",
       "    }\n",
       "\n",
       "    .dataframe thead th {\n",
       "        text-align: right;\n",
       "    }\n",
       "</style>\n",
       "<table border=\"1\" class=\"dataframe\">\n",
       "  <thead>\n",
       "    <tr style=\"text-align: right;\">\n",
       "      <th></th>\n",
       "      <th>Id</th>\n",
       "      <th>DatasetId</th>\n",
       "      <th>DatasourceVersionId</th>\n",
       "      <th>CreatorUserId</th>\n",
       "      <th>LicenseName</th>\n",
       "      <th>CreationDate</th>\n",
       "      <th>VersionNumber</th>\n",
       "      <th>Title</th>\n",
       "      <th>Slug</th>\n",
       "      <th>Subtitle</th>\n",
       "      <th>Description</th>\n",
       "      <th>VersionNotes</th>\n",
       "      <th>TotalCompressedBytes</th>\n",
       "      <th>TotalUncompressedBytes</th>\n",
       "    </tr>\n",
       "  </thead>\n",
       "  <tbody>\n",
       "    <tr>\n",
       "      <th>0</th>\n",
       "      <td>4690</td>\n",
       "      <td>2818</td>\n",
       "      <td>4690</td>\n",
       "      <td>517249</td>\n",
       "      <td>CC0: Public Domain</td>\n",
       "      <td>10/05/2017 03:24:33</td>\n",
       "      <td>1.0</td>\n",
       "      <td>Allegheny County Crash Data</td>\n",
       "      <td>allegheny-county-crash-data</td>\n",
       "      <td>Crash incident reported to the police in Alleg...</td>\n",
       "      <td>### Content\\n\\nContains locations and informat...</td>\n",
       "      <td>Initial release</td>\n",
       "      <td>262779599.0</td>\n",
       "      <td>262779599.0</td>\n",
       "    </tr>\n",
       "    <tr>\n",
       "      <th>1</th>\n",
       "      <td>6198</td>\n",
       "      <td>3955</td>\n",
       "      <td>6198</td>\n",
       "      <td>1389049</td>\n",
       "      <td>CC0: Public Domain</td>\n",
       "      <td>11/04/2017 11:37:49</td>\n",
       "      <td>1.0</td>\n",
       "      <td>DateasetTEst</td>\n",
       "      <td>dateasettest</td>\n",
       "      <td>NaN</td>\n",
       "      <td>NaN</td>\n",
       "      <td>Initial release</td>\n",
       "      <td>0.0</td>\n",
       "      <td>0.0</td>\n",
       "    </tr>\n",
       "    <tr>\n",
       "      <th>2</th>\n",
       "      <td>6249</td>\n",
       "      <td>3996</td>\n",
       "      <td>6249</td>\n",
       "      <td>1287548</td>\n",
       "      <td>Other (specified in description)</td>\n",
       "      <td>11/05/2017 01:44:04</td>\n",
       "      <td>1.0</td>\n",
       "      <td>Toyota Corolla (clean)</td>\n",
       "      <td>toyota-corolla-clean</td>\n",
       "      <td>Finding ways to predict or classify car prices</td>\n",
       "      <td>### Content\\nThis dataset is quite simple. Bel...</td>\n",
       "      <td>Initial release</td>\n",
       "      <td>0.0</td>\n",
       "      <td>0.0</td>\n",
       "    </tr>\n",
       "  </tbody>\n",
       "</table>\n",
       "</div>"
      ],
      "text/plain": [
       "     Id  DatasetId  DatasourceVersionId  CreatorUserId  \\\n",
       "0  4690       2818                 4690         517249   \n",
       "1  6198       3955                 6198        1389049   \n",
       "2  6249       3996                 6249        1287548   \n",
       "\n",
       "                        LicenseName         CreationDate  VersionNumber  \\\n",
       "0                CC0: Public Domain  10/05/2017 03:24:33            1.0   \n",
       "1                CC0: Public Domain  11/04/2017 11:37:49            1.0   \n",
       "2  Other (specified in description)  11/05/2017 01:44:04            1.0   \n",
       "\n",
       "                         Title                         Slug  \\\n",
       "0  Allegheny County Crash Data  allegheny-county-crash-data   \n",
       "1                 DateasetTEst                 dateasettest   \n",
       "2       Toyota Corolla (clean)         toyota-corolla-clean   \n",
       "\n",
       "                                            Subtitle  \\\n",
       "0  Crash incident reported to the police in Alleg...   \n",
       "1                                                NaN   \n",
       "2     Finding ways to predict or classify car prices   \n",
       "\n",
       "                                         Description     VersionNotes  \\\n",
       "0  ### Content\\n\\nContains locations and informat...  Initial release   \n",
       "1                                                NaN  Initial release   \n",
       "2  ### Content\\nThis dataset is quite simple. Bel...  Initial release   \n",
       "\n",
       "   TotalCompressedBytes  TotalUncompressedBytes  \n",
       "0           262779599.0             262779599.0  \n",
       "1                   0.0                     0.0  \n",
       "2                   0.0                     0.0  "
      ]
     },
     "execution_count": 16,
     "metadata": {},
     "output_type": "execute_result"
    }
   ],
   "source": [
    "dataset_versions.head(3)"
   ]
  },
  {
   "cell_type": "markdown",
   "metadata": {},
   "source": [
    "## Explore statistics for kernel votes"
   ]
  },
  {
   "cell_type": "markdown",
   "metadata": {},
   "source": [
    "### 1. Explore basic statistics for number of kernels"
   ]
  },
  {
   "cell_type": "markdown",
   "metadata": {},
   "source": [
    "* How many kernels are there? \n",
    "* How many of them are public? \n",
    "* How many kernels have upvotes? \n",
    "* How many kernels have any medal?"
   ]
  },
  {
   "cell_type": "code",
   "execution_count": 17,
   "metadata": {},
   "outputs": [
    {
     "name": "stdout",
     "output_type": "stream",
     "text": [
      "Total number of kernels: 224279\n"
     ]
    }
   ],
   "source": [
    "total_kernels = len(kernels['Id'].unique())\n",
    "\n",
    "print('Total number of kernels: {total_kernels}'.format(total_kernels = total_kernels))"
   ]
  },
  {
   "cell_type": "code",
   "execution_count": 18,
   "metadata": {},
   "outputs": [
    {
     "name": "stdout",
     "output_type": "stream",
     "text": [
      "Total number of public kernels: 213180\n"
     ]
    }
   ],
   "source": [
    "total_public = len(kernels[pd.notnull(kernels['MadePublicDate'])])\n",
    "\n",
    "print('Total number of public kernels: {total_public_kernels}'.format(total_public_kernels = total_public))"
   ]
  },
  {
   "cell_type": "code",
   "execution_count": 19,
   "metadata": {},
   "outputs": [
    {
     "name": "stdout",
     "output_type": "stream",
     "text": [
      "Total number of kernels with upvotes: 46353\n"
     ]
    }
   ],
   "source": [
    "total_upvoted = len(kernels[ kernels['TotalVotes'] > 0])\n",
    "\n",
    "print('Total number of kernels with upvotes: {total_upvoted}'.format(total_upvoted = total_upvoted))"
   ]
  },
  {
   "cell_type": "code",
   "execution_count": 20,
   "metadata": {},
   "outputs": [
    {
     "name": "stdout",
     "output_type": "stream",
     "text": [
      "Total number of kernels with any medal: 9070\n"
     ]
    }
   ],
   "source": [
    "total_awarded = len(kernels[np.isfinite(kernels['Medal'])])\n",
    "\n",
    "print('Total number of kernels with any medal: {total_awarded}'.format(total_awarded = total_awarded))"
   ]
  },
  {
   "cell_type": "code",
   "execution_count": 21,
   "metadata": {},
   "outputs": [
    {
     "name": "stdout",
     "output_type": "stream",
     "text": [
      "Total number of public kernels with no upvotes: 166827\n"
     ]
    }
   ],
   "source": [
    "total_no_upvotes = total_public - total_upvoted\n",
    "\n",
    "print('Total number of public kernels with no upvotes: {total_no_upvotes}'.format(total_no_upvotes = total_no_upvotes))"
   ]
  },
  {
   "cell_type": "code",
   "execution_count": 22,
   "metadata": {},
   "outputs": [
    {
     "name": "stdout",
     "output_type": "stream",
     "text": [
      "Total number of private kernels: 11099\n"
     ]
    }
   ],
   "source": [
    "total_private = total_kernels - total_public\n",
    "\n",
    "print('Total number of private kernels: {total_private}'.format(total_private = total_private))"
   ]
  },
  {
   "cell_type": "code",
   "execution_count": 23,
   "metadata": {},
   "outputs": [
    {
     "name": "stdout",
     "output_type": "stream",
     "text": [
      "Total number of upvoted, but not awarded: 37283\n"
     ]
    }
   ],
   "source": [
    "total_upvoted_not_awarded = total_upvoted - total_awarded\n",
    "\n",
    "print('Total number of upvoted, but not awarded: {total_upvoted_not_awarded}'.format(total_upvoted_not_awarded = total_upvoted_not_awarded))"
   ]
  },
  {
   "cell_type": "markdown",
   "metadata": {},
   "source": [
    "Plot statistics for number of kernels:"
   ]
  },
  {
   "cell_type": "code",
   "execution_count": 24,
   "metadata": {},
   "outputs": [
    {
     "data": {
      "image/png": "[encoded data removed]",
      "text/plain": [
       "<Figure size 504x504 with 1 Axes>"
      ]
     },
     "metadata": {},
     "output_type": "display_data"
    }
   ],
   "source": [
    "#plot statistics with matplotlib\n",
    "\n",
    "labels = 'Private', 'Public with no upvotes', 'Upvoted but not awarded', 'Awarded'\n",
    "sizes = [total_private, total_no_upvotes, total_upvoted_not_awarded, total_awarded]\n",
    "explode = (0, 0.1, 0, 0)  # only \"explode\" the 2nd slice (i.e. 'Hogs')\n",
    "\n",
    "fig1, ax1 = plt.subplots()\n",
    "ax1.pie(sizes, explode=explode, labels=labels, autopct='%1.1f%%',\n",
    "        shadow=True, startangle=180)\n",
    "ax1.axis('equal')  # Equal aspect ratio ensures that pie is drawn as a circle.\n",
    "\n",
    "fig1.set_figheight(7)\n",
    "fig1.set_figwidth(7)\n",
    "\n",
    "plt.title('Statistics for upvoted and awarded kernels')\n",
    "\n",
    "plt.show()"
   ]
  },
  {
   "cell_type": "code",
   "execution_count": 25,
   "metadata": {},
   "outputs": [
    {
     "name": "stderr",
     "output_type": "stream",
     "text": [
      "/Users/aleksandraastakhova/anaconda3/lib/python3.6/site-packages/IPython/core/display.py:689: UserWarning:\n",
      "\n",
      "Consider using IPython.display.IFrame instead\n",
      "\n"
     ]
    },
    {
     "data": {
      "text/html": [
       "<iframe id=\"igraph\" scrolling=\"no\" style=\"border:none;\" seamless=\"seamless\" src=\"https://plot.ly/~lexie88rus/24.embed\" height=\"500px\" width=\"600px\"></iframe>"
      ],
      "text/plain": [
       "<plotly.tools.PlotlyDisplay object>"
      ]
     },
     "execution_count": 25,
     "metadata": {},
     "output_type": "execute_result"
    }
   ],
   "source": [
    "#plot statistics with plotly\n",
    "\n",
    "labels = ['Private', 'Public with no upvotes', 'Upvoted but not awarded', 'Awarded']\n",
    "values = [total_private, total_no_upvotes, total_upvoted_not_awarded, total_awarded]\n",
    "\n",
    "colors = ['#7FDBE2', '#68B6AF', '#82C5A0', '#EED2BB']\n",
    "\n",
    "trace = go.Pie(labels=labels, values=values, marker=dict(colors=colors, line=dict(color='#FFFFFF', width=2)))\n",
    "\n",
    "data = [trace]\n",
    "layout = go.Layout(title='Statistics for upvoted and awarded kernels',\n",
    "                  autosize=False,\n",
    "                   width=600,\n",
    "                   height=500,\n",
    "                   margin=go.layout.Margin(\n",
    "                      l=50,\n",
    "                      r=50))\n",
    "\n",
    "fig = go.Figure(data=data, layout=layout)\n",
    "py.iplot(fig, filename='upvoted_pie_chart')"
   ]
  },
  {
   "cell_type": "markdown",
   "metadata": {},
   "source": [
    "### 2. How does number of views and number of comments affect number of votes?"
   ]
  },
  {
   "cell_type": "markdown",
   "metadata": {},
   "source": [
    "* Is there a correlation between number of views and number of comments with number of votes?\n",
    "* Plot dependencies between number of views, comments and number of votes."
   ]
  },
  {
   "cell_type": "markdown",
   "metadata": {},
   "source": [
    "Find out correlation between number of views, number of comments and number of votes:"
   ]
  },
  {
   "cell_type": "code",
   "execution_count": 26,
   "metadata": {},
   "outputs": [
    {
     "data": {
      "image/png": "[encoded data removed]",
      "text/plain": [
       "<Figure size 504x504 with 2 Axes>"
      ]
     },
     "metadata": {},
     "output_type": "display_data"
    }
   ],
   "source": [
    "#columns to find out correlation\n",
    "cols = ['TotalViews', 'TotalComments', 'TotalVotes']\n",
    "\n",
    "#Find out correlation between columns and plot\n",
    "corrs = np.corrcoef(kernels[cols].values.T)\n",
    "sns.set(font_scale=1)\n",
    "sns.set(rc={'figure.figsize':(7,7)})\n",
    "hm=sns.heatmap(corrs, cbar = True, annot=True, square = True, fmt = '.2f',\n",
    "              yticklabels = cols, xticklabels = cols).set_title('Correlations heatmap')\n",
    "\n",
    "fig = hm.get_figure()\n",
    "fig.savefig('correlations.png')"
   ]
  },
  {
   "cell_type": "markdown",
   "metadata": {},
   "source": [
    "We can see that votes, comments and views are __highly correlated__. So my first assumption would be that __we should get as many views of the kernels as possible to gain votes__."
   ]
  },
  {
   "cell_type": "markdown",
   "metadata": {},
   "source": [
    "Let's try to visualize dependency between views and votes:"
   ]
  },
  {
   "cell_type": "code",
   "execution_count": 27,
   "metadata": {},
   "outputs": [],
   "source": [
    "#get average number of votes per number of views\n",
    "votes_by_views = kernels.groupby('TotalViews').mean().reset_index()[['TotalViews', 'TotalVotes']]\n",
    "votes_by_views = votes_by_views.sort_values(by = 'TotalViews', ascending = True)\n",
    "\n",
    "# fit a linear regression model on views and votes data\n",
    "model = LinearRegression()\n",
    "model.fit(votes_by_views['TotalViews'].values.reshape(-1, 1), votes_by_views['TotalVotes'].values.reshape(-1, 1))\n",
    "\n",
    "inputs = np.linspace(1, 1200000, num=50)\n",
    "predictions = model.predict(inputs.reshape(-1,1))"
   ]
  },
  {
   "cell_type": "code",
   "execution_count": 28,
   "metadata": {},
   "outputs": [
    {
     "data": {
      "image/png": "[encoded data removed]",
      "text/plain": [
       "<Figure size 504x504 with 1 Axes>"
      ]
     },
     "metadata": {},
     "output_type": "display_data"
    }
   ],
   "source": [
    "#plot with matplotlib along with predictions from the linear regression model\n",
    "\n",
    "plt.scatter(votes_by_views['TotalViews'], votes_by_views['TotalVotes'])\n",
    "plt.plot(inputs, predictions, color='green')\n",
    "\n",
    "plt.title(\"Number of votes per number of views\")\n",
    "plt.xlabel(\"Views\")\n",
    "plt.ylabel(\"Votes\")\n",
    "\n",
    "plt.show()"
   ]
  },
  {
   "cell_type": "code",
   "execution_count": 29,
   "metadata": {},
   "outputs": [
    {
     "name": "stderr",
     "output_type": "stream",
     "text": [
      "/Users/aleksandraastakhova/anaconda3/lib/python3.6/site-packages/IPython/core/display.py:689: UserWarning:\n",
      "\n",
      "Consider using IPython.display.IFrame instead\n",
      "\n"
     ]
    },
    {
     "data": {
      "text/html": [
       "<iframe id=\"igraph\" scrolling=\"no\" style=\"border:none;\" seamless=\"seamless\" src=\"https://plot.ly/~lexie88rus/32.embed\" height=\"525px\" width=\"100%\"></iframe>"
      ],
      "text/plain": [
       "<plotly.tools.PlotlyDisplay object>"
      ]
     },
     "execution_count": 29,
     "metadata": {},
     "output_type": "execute_result"
    }
   ],
   "source": [
    "#plot with plotly\n",
    "\n",
    "# Create traces\n",
    "trace0 = go.Scatter(\n",
    "    x = votes_by_views['TotalViews'], \n",
    "    y = votes_by_views['TotalVotes'],\n",
    "    mode = 'markers',\n",
    "    name = 'votes per views scatter',\n",
    "    marker = dict(color = '#7FDBE2')\n",
    "    #color = '#7FDBE2'\n",
    ")\n",
    "\n",
    "trace1 = go.Scatter(\n",
    "    x = inputs,\n",
    "    y = predictions,\n",
    "    mode = 'lines',\n",
    "    name = 'votes per views trendline',\n",
    "    line=dict(width=4, color='#EED2BB')\n",
    ")\n",
    "\n",
    "data = [trace0, trace1]\n",
    "\n",
    "layout = go.Layout(\n",
    "    title='Number of votes per number of views',\n",
    "    xaxis=dict(title='Views', ticklen=5, zeroline=False, gridwidth=2),\n",
    "    yaxis=dict(title='Votes', ticklen=5, gridwidth=2),\n",
    "    showlegend=True\n",
    ")\n",
    "\n",
    "fig = go.Figure(data=data, layout=layout)\n",
    "\n",
    "py.iplot(fig, filename='votes_per_views')"
   ]
  },
  {
   "cell_type": "markdown",
   "metadata": {},
   "source": [
    "Visualization of dependency between comments and votes:"
   ]
  },
  {
   "cell_type": "code",
   "execution_count": 30,
   "metadata": {},
   "outputs": [],
   "source": [
    "#get average number of votes per number of comments\n",
    "votes_by_comments = kernels.groupby('TotalComments').mean().reset_index()[['TotalComments', 'TotalVotes']]\n",
    "votes_by_comments = votes_by_comments.sort_values(by = 'TotalComments', ascending = True)\n",
    "\n",
    "# fit a linear regression model on comments and votes data\n",
    "model = LinearRegression()\n",
    "model.fit(votes_by_comments['TotalComments'].values.reshape(-1, 1), votes_by_comments['TotalVotes'].values.reshape(-1, 1))\n",
    "\n",
    "inputs = np.linspace(1, 1000, num=50)\n",
    "predictions = model.predict(inputs.reshape(-1,1))"
   ]
  },
  {
   "cell_type": "code",
   "execution_count": 31,
   "metadata": {},
   "outputs": [
    {
     "data": {
      "image/png": "[encoded data removed]",
      "text/plain": [
       "<Figure size 504x504 with 1 Axes>"
      ]
     },
     "metadata": {},
     "output_type": "display_data"
    }
   ],
   "source": [
    "#plot with matplotlib along with predictions from the linear regression model\n",
    "\n",
    "plt.scatter(votes_by_comments['TotalComments'], votes_by_comments['TotalVotes'])\n",
    "plt.plot(inputs, predictions, color='green')\n",
    "\n",
    "plt.title(\"Number of votes per number of views\")\n",
    "plt.xlabel(\"Comments\")\n",
    "plt.ylabel(\"Votes\")\n",
    "\n",
    "plt.show()"
   ]
  },
  {
   "cell_type": "code",
   "execution_count": 32,
   "metadata": {},
   "outputs": [
    {
     "name": "stderr",
     "output_type": "stream",
     "text": [
      "/Users/aleksandraastakhova/anaconda3/lib/python3.6/site-packages/IPython/core/display.py:689: UserWarning:\n",
      "\n",
      "Consider using IPython.display.IFrame instead\n",
      "\n"
     ]
    },
    {
     "data": {
      "text/html": [
       "<iframe id=\"igraph\" scrolling=\"no\" style=\"border:none;\" seamless=\"seamless\" src=\"https://plot.ly/~lexie88rus/34.embed\" height=\"525px\" width=\"100%\"></iframe>"
      ],
      "text/plain": [
       "<plotly.tools.PlotlyDisplay object>"
      ]
     },
     "execution_count": 32,
     "metadata": {},
     "output_type": "execute_result"
    }
   ],
   "source": [
    "#plot with plotly\n",
    "\n",
    "# Create traces\n",
    "trace0 = go.Scatter(\n",
    "    x = votes_by_comments['TotalComments'], \n",
    "    y = votes_by_comments['TotalVotes'],\n",
    "    mode = 'markers',\n",
    "    name = 'votes per comments scatter',\n",
    "    marker = dict(color = '#7FDBE2')\n",
    ")\n",
    "\n",
    "trace1 = go.Scatter(\n",
    "    x = inputs,\n",
    "    y = predictions,\n",
    "    mode = 'lines',\n",
    "    name = 'votes per comments trendline',\n",
    "    line=dict(width=4, color='#EED2BB')\n",
    ")\n",
    "\n",
    "data = [trace0, trace1]\n",
    "\n",
    "layout = go.Layout(\n",
    "    title='Number of votes per number of comments',\n",
    "    xaxis=dict(title='Comments', ticklen=5, zeroline=False, gridwidth=2),\n",
    "    yaxis=dict(title='Votes', ticklen=5, gridwidth=2),\n",
    "    showlegend=True\n",
    ")\n",
    "\n",
    "fig = go.Figure(data=data, layout=layout)\n",
    "\n",
    "py.iplot(fig, filename='votes_per_comments')"
   ]
  },
  {
   "cell_type": "markdown",
   "metadata": {},
   "source": [
    "### 3. How does the status of the author affect number of votes per kernel?"
   ]
  },
  {
   "cell_type": "markdown",
   "metadata": {},
   "source": [
    "I suppose that more active users and the users with higher visibility gain votes for kernels:\n",
    "* So how does performance tier of the user affect the number of upvotes?"
   ]
  },
  {
   "cell_type": "code",
   "execution_count": 33,
   "metadata": {},
   "outputs": [],
   "source": [
    "#merge kernels with users\n",
    "kernel_users_renamed = kernel_users.rename(columns={'Id': 'AuthorUserId'})\n",
    "kernels_user_tiers = kernels.merge(kernel_users_renamed, on = 'AuthorUserId')"
   ]
  },
  {
   "cell_type": "code",
   "execution_count": 34,
   "metadata": {},
   "outputs": [
    {
     "data": {
      "text/html": [
       "<div>\n",
       "<style scoped>\n",
       "    .dataframe tbody tr th:only-of-type {\n",
       "        vertical-align: middle;\n",
       "    }\n",
       "\n",
       "    .dataframe tbody tr th {\n",
       "        vertical-align: top;\n",
       "    }\n",
       "\n",
       "    .dataframe thead th {\n",
       "        text-align: right;\n",
       "    }\n",
       "</style>\n",
       "<table border=\"1\" class=\"dataframe\">\n",
       "  <thead>\n",
       "    <tr style=\"text-align: right;\">\n",
       "      <th></th>\n",
       "      <th>Id</th>\n",
       "      <th>AuthorUserId</th>\n",
       "      <th>CurrentKernelVersionId</th>\n",
       "      <th>ForkParentKernelVersionId</th>\n",
       "      <th>ForumTopicId</th>\n",
       "      <th>FirstKernelVersionId</th>\n",
       "      <th>CreationDate</th>\n",
       "      <th>EvaluationDate</th>\n",
       "      <th>MadePublicDate</th>\n",
       "      <th>IsProjectLanguageTemplate</th>\n",
       "      <th>CurrentUrlSlug</th>\n",
       "      <th>Medal</th>\n",
       "      <th>MedalAwardDate</th>\n",
       "      <th>TotalViews</th>\n",
       "      <th>TotalComments</th>\n",
       "      <th>TotalVotes</th>\n",
       "      <th>UserName</th>\n",
       "      <th>DisplayName</th>\n",
       "      <th>RegisterDate</th>\n",
       "      <th>PerformanceTier</th>\n",
       "    </tr>\n",
       "  </thead>\n",
       "  <tbody>\n",
       "    <tr>\n",
       "      <th>0</th>\n",
       "      <td>1</td>\n",
       "      <td>2505</td>\n",
       "      <td>205.0</td>\n",
       "      <td>NaN</td>\n",
       "      <td>NaN</td>\n",
       "      <td>1.0</td>\n",
       "      <td>03/25/2015 18:25:32</td>\n",
       "      <td>03/23/2018</td>\n",
       "      <td>03/25/2015</td>\n",
       "      <td>False</td>\n",
       "      <td>hello</td>\n",
       "      <td>NaN</td>\n",
       "      <td>NaN</td>\n",
       "      <td>26</td>\n",
       "      <td>0</td>\n",
       "      <td>0</td>\n",
       "      <td>jeffmoser</td>\n",
       "      <td>Jeff Moser</td>\n",
       "      <td>08/21/2010</td>\n",
       "      <td>5</td>\n",
       "    </tr>\n",
       "    <tr>\n",
       "      <th>1</th>\n",
       "      <td>86</td>\n",
       "      <td>2505</td>\n",
       "      <td>2307564.0</td>\n",
       "      <td>NaN</td>\n",
       "      <td>NaN</td>\n",
       "      <td>548.0</td>\n",
       "      <td>04/03/2015 17:16:32</td>\n",
       "      <td>02/01/2018</td>\n",
       "      <td>04/03/2015</td>\n",
       "      <td>True</td>\n",
       "      <td>hi-python</td>\n",
       "      <td>3.0</td>\n",
       "      <td>09/16/2017</td>\n",
       "      <td>189</td>\n",
       "      <td>0</td>\n",
       "      <td>5</td>\n",
       "      <td>jeffmoser</td>\n",
       "      <td>Jeff Moser</td>\n",
       "      <td>08/21/2010</td>\n",
       "      <td>5</td>\n",
       "    </tr>\n",
       "    <tr>\n",
       "      <th>2</th>\n",
       "      <td>107</td>\n",
       "      <td>2505</td>\n",
       "      <td>740.0</td>\n",
       "      <td>NaN</td>\n",
       "      <td>NaN</td>\n",
       "      <td>632.0</td>\n",
       "      <td>04/06/2015 16:04:55</td>\n",
       "      <td>03/23/2018</td>\n",
       "      <td>04/06/2015</td>\n",
       "      <td>False</td>\n",
       "      <td>yet-another-python-sleep-test</td>\n",
       "      <td>NaN</td>\n",
       "      <td>NaN</td>\n",
       "      <td>4</td>\n",
       "      <td>0</td>\n",
       "      <td>0</td>\n",
       "      <td>jeffmoser</td>\n",
       "      <td>Jeff Moser</td>\n",
       "      <td>08/21/2010</td>\n",
       "      <td>5</td>\n",
       "    </tr>\n",
       "    <tr>\n",
       "      <th>3</th>\n",
       "      <td>108</td>\n",
       "      <td>2505</td>\n",
       "      <td>748.0</td>\n",
       "      <td>NaN</td>\n",
       "      <td>NaN</td>\n",
       "      <td>636.0</td>\n",
       "      <td>04/06/2015 16:12:14</td>\n",
       "      <td>03/23/2018</td>\n",
       "      <td>04/06/2015</td>\n",
       "      <td>False</td>\n",
       "      <td>more-python-testing</td>\n",
       "      <td>NaN</td>\n",
       "      <td>NaN</td>\n",
       "      <td>6</td>\n",
       "      <td>0</td>\n",
       "      <td>0</td>\n",
       "      <td>jeffmoser</td>\n",
       "      <td>Jeff Moser</td>\n",
       "      <td>08/21/2010</td>\n",
       "      <td>5</td>\n",
       "    </tr>\n",
       "    <tr>\n",
       "      <th>4</th>\n",
       "      <td>4345</td>\n",
       "      <td>2505</td>\n",
       "      <td>8879.0</td>\n",
       "      <td>NaN</td>\n",
       "      <td>NaN</td>\n",
       "      <td>8833.0</td>\n",
       "      <td>05/22/2015 14:36:27</td>\n",
       "      <td>05/22/2015</td>\n",
       "      <td>05/22/2015</td>\n",
       "      <td>False</td>\n",
       "      <td>kaggle-io-test</td>\n",
       "      <td>NaN</td>\n",
       "      <td>NaN</td>\n",
       "      <td>17</td>\n",
       "      <td>0</td>\n",
       "      <td>0</td>\n",
       "      <td>jeffmoser</td>\n",
       "      <td>Jeff Moser</td>\n",
       "      <td>08/21/2010</td>\n",
       "      <td>5</td>\n",
       "    </tr>\n",
       "  </tbody>\n",
       "</table>\n",
       "</div>"
      ],
      "text/plain": [
       "     Id  AuthorUserId  CurrentKernelVersionId  ForkParentKernelVersionId  \\\n",
       "0     1          2505                   205.0                        NaN   \n",
       "1    86          2505               2307564.0                        NaN   \n",
       "2   107          2505                   740.0                        NaN   \n",
       "3   108          2505                   748.0                        NaN   \n",
       "4  4345          2505                  8879.0                        NaN   \n",
       "\n",
       "   ForumTopicId  FirstKernelVersionId         CreationDate EvaluationDate  \\\n",
       "0           NaN                   1.0  03/25/2015 18:25:32     03/23/2018   \n",
       "1           NaN                 548.0  04/03/2015 17:16:32     02/01/2018   \n",
       "2           NaN                 632.0  04/06/2015 16:04:55     03/23/2018   \n",
       "3           NaN                 636.0  04/06/2015 16:12:14     03/23/2018   \n",
       "4           NaN                8833.0  05/22/2015 14:36:27     05/22/2015   \n",
       "\n",
       "  MadePublicDate  IsProjectLanguageTemplate                 CurrentUrlSlug  \\\n",
       "0     03/25/2015                      False                          hello   \n",
       "1     04/03/2015                       True                      hi-python   \n",
       "2     04/06/2015                      False  yet-another-python-sleep-test   \n",
       "3     04/06/2015                      False            more-python-testing   \n",
       "4     05/22/2015                      False                 kaggle-io-test   \n",
       "\n",
       "   Medal MedalAwardDate  TotalViews  TotalComments  TotalVotes   UserName  \\\n",
       "0    NaN            NaN          26              0           0  jeffmoser   \n",
       "1    3.0     09/16/2017         189              0           5  jeffmoser   \n",
       "2    NaN            NaN           4              0           0  jeffmoser   \n",
       "3    NaN            NaN           6              0           0  jeffmoser   \n",
       "4    NaN            NaN          17              0           0  jeffmoser   \n",
       "\n",
       "  DisplayName RegisterDate  PerformanceTier  \n",
       "0  Jeff Moser   08/21/2010                5  \n",
       "1  Jeff Moser   08/21/2010                5  \n",
       "2  Jeff Moser   08/21/2010                5  \n",
       "3  Jeff Moser   08/21/2010                5  \n",
       "4  Jeff Moser   08/21/2010                5  "
      ]
     },
     "execution_count": 34,
     "metadata": {},
     "output_type": "execute_result"
    }
   ],
   "source": [
    "kernels_user_tiers.head()"
   ]
  },
  {
   "cell_type": "code",
   "execution_count": 35,
   "metadata": {},
   "outputs": [],
   "source": [
    "#get average number of votes per number of comments\n",
    "votes_by_usertier= kernels_user_tiers.groupby('PerformanceTier').mean().reset_index()[['PerformanceTier', 'TotalVotes']]\n",
    "votes_by_usertier = votes_by_usertier.sort_values(by = 'PerformanceTier', ascending = True)"
   ]
  },
  {
   "cell_type": "code",
   "execution_count": 36,
   "metadata": {},
   "outputs": [
    {
     "data": {
      "image/png": "[encoded data removed]",
      "text/plain": [
       "<Figure size 504x504 with 1 Axes>"
      ]
     },
     "metadata": {},
     "output_type": "display_data"
    }
   ],
   "source": [
    "#plot with matplotlib along with predictions from the linear regression model\n",
    "\n",
    "plt.plot(votes_by_usertier['PerformanceTier'], votes_by_usertier['TotalVotes'])\n",
    "\n",
    "plt.title(\"Average number of votes per kernel depending on user performance tier\")\n",
    "plt.xlabel(\"Performance Tier\")\n",
    "plt.ylabel(\"Average number of votes per kernel\")\n",
    "\n",
    "plt.show()"
   ]
  },
  {
   "cell_type": "code",
   "execution_count": 37,
   "metadata": {},
   "outputs": [
    {
     "name": "stderr",
     "output_type": "stream",
     "text": [
      "/Users/aleksandraastakhova/anaconda3/lib/python3.6/site-packages/IPython/core/display.py:689: UserWarning:\n",
      "\n",
      "Consider using IPython.display.IFrame instead\n",
      "\n"
     ]
    },
    {
     "data": {
      "text/html": [
       "<iframe id=\"igraph\" scrolling=\"no\" style=\"border:none;\" seamless=\"seamless\" src=\"https://plot.ly/~lexie88rus/36.embed\" height=\"525px\" width=\"100%\"></iframe>"
      ],
      "text/plain": [
       "<plotly.tools.PlotlyDisplay object>"
      ]
     },
     "execution_count": 37,
     "metadata": {},
     "output_type": "execute_result"
    }
   ],
   "source": [
    "#plot with plotly\n",
    "\n",
    "# Create traces\n",
    "trace0 = go.Scatter(\n",
    "    x = votes_by_usertier['PerformanceTier'], \n",
    "    y = votes_by_usertier['TotalVotes'],\n",
    "    mode = 'lines',\n",
    "    name = 'number of votes per kernel depending on user performance tier',\n",
    "    line = dict(color = '#7FDBE2')\n",
    ")\n",
    "\n",
    "data = [trace0]\n",
    "\n",
    "layout = go.Layout(\n",
    "    title='Average number of votes per kernel depending on user performance tier',\n",
    "    xaxis=dict(title='Performance Tier', ticklen=5, zeroline=False, gridwidth=2),\n",
    "    yaxis=dict(title='Average number of votes per kernel', ticklen=5, gridwidth=2),\n",
    "    showlegend=True\n",
    ")\n",
    "\n",
    "fig = go.Figure(data=data, layout=layout)\n",
    "\n",
    "py.iplot(fig, filename='votes_per_user_tier')"
   ]
  },
  {
   "cell_type": "markdown",
   "metadata": {},
   "source": [
    "So we can really see that __more proficient users gain more votes for kernels__."
   ]
  },
  {
   "cell_type": "markdown",
   "metadata": {},
   "source": [
    "### 4. How does dataset related to kernel affects the number of votes?"
   ]
  },
  {
   "cell_type": "markdown",
   "metadata": {},
   "source": [
    "I suppose that there might be some 'hot' datasets on Kaggle and kernels related to those datasets might optain more votes. So we should find out:\n",
    "* How does the number of votes for a dataset affect the number of votes for related kernel?\n",
    "* How does the number of downloads of a dataset affect the number of votes for related kernel?"
   ]
  },
  {
   "cell_type": "code",
   "execution_count": 38,
   "metadata": {},
   "outputs": [
    {
     "data": {
      "text/html": [
       "<div>\n",
       "<style scoped>\n",
       "    .dataframe tbody tr th:only-of-type {\n",
       "        vertical-align: middle;\n",
       "    }\n",
       "\n",
       "    .dataframe tbody tr th {\n",
       "        vertical-align: top;\n",
       "    }\n",
       "\n",
       "    .dataframe thead th {\n",
       "        text-align: right;\n",
       "    }\n",
       "</style>\n",
       "<table border=\"1\" class=\"dataframe\">\n",
       "  <thead>\n",
       "    <tr style=\"text-align: right;\">\n",
       "      <th></th>\n",
       "      <th>KernelId</th>\n",
       "      <th>KernelVersionId</th>\n",
       "      <th>TotalKernelVotes</th>\n",
       "      <th>SourceDatasetVersionId</th>\n",
       "      <th>DatasetId</th>\n",
       "      <th>TotalDatasetVotes</th>\n",
       "      <th>TotalDatasetDownloads</th>\n",
       "    </tr>\n",
       "  </thead>\n",
       "  <tbody>\n",
       "    <tr>\n",
       "      <th>0</th>\n",
       "      <td>9969</td>\n",
       "      <td>29938.0</td>\n",
       "      <td>0</td>\n",
       "      <td>2158</td>\n",
       "      <td>6</td>\n",
       "      <td>81</td>\n",
       "      <td>3819</td>\n",
       "    </tr>\n",
       "    <tr>\n",
       "      <th>1</th>\n",
       "      <td>10073</td>\n",
       "      <td>29837.0</td>\n",
       "      <td>3</td>\n",
       "      <td>2158</td>\n",
       "      <td>6</td>\n",
       "      <td>81</td>\n",
       "      <td>3819</td>\n",
       "    </tr>\n",
       "    <tr>\n",
       "      <th>2</th>\n",
       "      <td>10175</td>\n",
       "      <td>30288.0</td>\n",
       "      <td>5</td>\n",
       "      <td>2158</td>\n",
       "      <td>6</td>\n",
       "      <td>81</td>\n",
       "      <td>3819</td>\n",
       "    </tr>\n",
       "    <tr>\n",
       "      <th>3</th>\n",
       "      <td>10468</td>\n",
       "      <td>31521.0</td>\n",
       "      <td>12</td>\n",
       "      <td>2158</td>\n",
       "      <td>6</td>\n",
       "      <td>81</td>\n",
       "      <td>3819</td>\n",
       "    </tr>\n",
       "    <tr>\n",
       "      <th>4</th>\n",
       "      <td>10565</td>\n",
       "      <td>31860.0</td>\n",
       "      <td>0</td>\n",
       "      <td>2158</td>\n",
       "      <td>6</td>\n",
       "      <td>81</td>\n",
       "      <td>3819</td>\n",
       "    </tr>\n",
       "  </tbody>\n",
       "</table>\n",
       "</div>"
      ],
      "text/plain": [
       "   KernelId  KernelVersionId  TotalKernelVotes  SourceDatasetVersionId  \\\n",
       "0      9969          29938.0                 0                    2158   \n",
       "1     10073          29837.0                 3                    2158   \n",
       "2     10175          30288.0                 5                    2158   \n",
       "3     10468          31521.0                12                    2158   \n",
       "4     10565          31860.0                 0                    2158   \n",
       "\n",
       "   DatasetId  TotalDatasetVotes  TotalDatasetDownloads  \n",
       "0          6                 81                   3819  \n",
       "1          6                 81                   3819  \n",
       "2          6                 81                   3819  \n",
       "3          6                 81                   3819  \n",
       "4          6                 81                   3819  "
      ]
     },
     "execution_count": 38,
     "metadata": {},
     "output_type": "execute_result"
    }
   ],
   "source": [
    "#prepare data for the analysis\n",
    "\n",
    "kernels_truncated = kernels[['Id' , 'CurrentKernelVersionId', 'TotalVotes']]\n",
    "kernels_truncated = kernels_truncated.rename(columns={'Id': 'KernelId', 'TotalVotes':'TotalKernelVotes',\n",
    "                                                      'CurrentKernelVersionId':'KernelVersionId'})\n",
    "\n",
    "kernel_datasets_truncated = kernel_datasets[['KernelVersionId', 'SourceDatasetVersionId']]\n",
    "\n",
    "dataset_versions_truncated = dataset_versions[['DatasetId', 'DatasourceVersionId']]\n",
    "dataset_versions_truncated = dataset_versions_truncated.rename(columns={'DatasourceVersionId': 'SourceDatasetVersionId'})\n",
    "\n",
    "datasets_truncated = datasets[['Id', 'TotalVotes', 'TotalDownloads']]\n",
    "datasets_truncated = datasets_truncated.rename(columns={'Id': 'DatasetId', 'TotalVotes':'TotalDatasetVotes',\n",
    "                                                      'TotalDownloads':'TotalDatasetDownloads'})\n",
    "\n",
    "df_merge = kernels_truncated.merge(kernel_datasets_truncated, on = 'KernelVersionId')\n",
    "df_merge = df_merge.merge(dataset_versions_truncated, on = 'SourceDatasetVersionId')\n",
    "df_merge = df_merge.merge(datasets_truncated, on = 'DatasetId')\n",
    "\n",
    "df_merge.head()"
   ]
  },
  {
   "cell_type": "markdown",
   "metadata": {},
   "source": [
    "At first let's look at correlations between TotalKernelVotes, TotalDatasetVotes and\tTotalDatasetDownloads."
   ]
  },
  {
   "cell_type": "code",
   "execution_count": 39,
   "metadata": {},
   "outputs": [
    {
     "data": {
      "image/png": "[encoded data removed]",
      "text/plain": [
       "<Figure size 504x504 with 2 Axes>"
      ]
     },
     "metadata": {},
     "output_type": "display_data"
    }
   ],
   "source": [
    "#columns to find out correlation\n",
    "cols = ['TotalKernelVotes', 'TotalDatasetVotes', 'TotalDatasetDownloads']\n",
    "\n",
    "#Find out correlation between columns and plot\n",
    "corrs = np.corrcoef(df_merge[cols].values.T)\n",
    "sns.set(font_scale=1)\n",
    "sns.set(rc={'figure.figsize':(7,7)})\n",
    "hm=sns.heatmap(corrs, cbar = True, annot=True, square = True, fmt = '.2f',\n",
    "              yticklabels = cols, xticklabels = cols).set_title('Correlations heatmap')\n",
    "\n",
    "fig = hm.get_figure()\n",
    "fig.savefig('correlations.png')"
   ]
  },
  {
   "cell_type": "markdown",
   "metadata": {},
   "source": [
    "As we can see there is no correlation between number of kernel votes and number of votes or downloads for a dataset.\n",
    "<br> Let's also make scatter plots:"
   ]
  },
  {
   "cell_type": "code",
   "execution_count": 40,
   "metadata": {},
   "outputs": [],
   "source": [
    "#get average number of votes per number of dataset votes\n",
    "votes_by_dvotes = df_merge.groupby('TotalDatasetVotes').mean().reset_index()[['TotalDatasetVotes', 'TotalKernelVotes']]\n",
    "votes_by_dvotes = votes_by_dvotes.sort_values(by = 'TotalDatasetVotes', ascending = True)"
   ]
  },
  {
   "cell_type": "code",
   "execution_count": 41,
   "metadata": {},
   "outputs": [
    {
     "data": {
      "image/png": "[encoded data removed]",
      "text/plain": [
       "<Figure size 504x504 with 1 Axes>"
      ]
     },
     "metadata": {},
     "output_type": "display_data"
    }
   ],
   "source": [
    "#plot with matplotlib\n",
    "\n",
    "plt.scatter(votes_by_dvotes['TotalDatasetVotes'], votes_by_dvotes['TotalKernelVotes'])\n",
    "\n",
    "plt.title(\"Number of votes per number of votes for related dataset\")\n",
    "plt.xlabel(\"Dataset Votes\")\n",
    "plt.ylabel(\"Kernel Votes\")\n",
    "\n",
    "plt.show()"
   ]
  },
  {
   "cell_type": "code",
   "execution_count": 42,
   "metadata": {},
   "outputs": [
    {
     "name": "stderr",
     "output_type": "stream",
     "text": [
      "/Users/aleksandraastakhova/anaconda3/lib/python3.6/site-packages/IPython/core/display.py:689: UserWarning:\n",
      "\n",
      "Consider using IPython.display.IFrame instead\n",
      "\n"
     ]
    },
    {
     "data": {
      "text/html": [
       "<iframe id=\"igraph\" scrolling=\"no\" style=\"border:none;\" seamless=\"seamless\" src=\"https://plot.ly/~lexie88rus/38.embed\" height=\"525px\" width=\"100%\"></iframe>"
      ],
      "text/plain": [
       "<plotly.tools.PlotlyDisplay object>"
      ]
     },
     "execution_count": 42,
     "metadata": {},
     "output_type": "execute_result"
    }
   ],
   "source": [
    "#plot with plotly\n",
    "\n",
    "# Create traces\n",
    "trace0 = go.Scatter(\n",
    "    x = votes_by_dvotes['TotalDatasetVotes'], \n",
    "    y = votes_by_dvotes['TotalKernelVotes'],\n",
    "    mode = 'markers',\n",
    "    name = 'kernel votes per dataset votes',\n",
    "    marker = dict(color = '#7FDBE2')\n",
    ")\n",
    "\n",
    "data = [trace0]\n",
    "\n",
    "layout = go.Layout(\n",
    "    title='Number of votes per number of votes for related dataset',\n",
    "    xaxis=dict(title='Dataset Votes', ticklen=5, zeroline=False, gridwidth=2),\n",
    "    yaxis=dict(title='Kernel Votes', ticklen=5, gridwidth=2),\n",
    "    showlegend=True\n",
    ")\n",
    "\n",
    "fig = go.Figure(data=data, layout=layout)\n",
    "\n",
    "py.iplot(fig, filename='votes_per_dataset_votes')"
   ]
  },
  {
   "cell_type": "markdown",
   "metadata": {},
   "source": [
    "Here we can't see a clear dependency of kernel votes on dataset's number of votes. So I suppose that we can create a really helpful and popular kernel for an unpopular dataset and vice versa."
   ]
  },
  {
   "cell_type": "code",
   "execution_count": 43,
   "metadata": {},
   "outputs": [],
   "source": [
    "#get average number of votes per number of dataset downloads\n",
    "votes_by_downloads = df_merge.groupby('TotalDatasetDownloads').mean().reset_index()[['TotalDatasetDownloads', 'TotalKernelVotes']]\n",
    "votes_by_downloads = votes_by_downloads.sort_values(by = 'TotalDatasetDownloads', ascending = True)"
   ]
  },
  {
   "cell_type": "code",
   "execution_count": 44,
   "metadata": {},
   "outputs": [
    {
     "data": {
      "image/png": "[encoded data removed]",
      "text/plain": [
       "<Figure size 504x504 with 1 Axes>"
      ]
     },
     "metadata": {},
     "output_type": "display_data"
    }
   ],
   "source": [
    "#plot with matplotlib\n",
    "\n",
    "plt.scatter(votes_by_downloads['TotalDatasetDownloads'], votes_by_downloads['TotalKernelVotes'])\n",
    "\n",
    "plt.title(\"Number of votes per number of downloads for related dataset\")\n",
    "plt.xlabel(\"Dataset Downloads\")\n",
    "plt.ylabel(\"Kernel Votes\")\n",
    "\n",
    "plt.show()"
   ]
  },
  {
   "cell_type": "code",
   "execution_count": 45,
   "metadata": {},
   "outputs": [
    {
     "name": "stderr",
     "output_type": "stream",
     "text": [
      "/Users/aleksandraastakhova/anaconda3/lib/python3.6/site-packages/IPython/core/display.py:689: UserWarning:\n",
      "\n",
      "Consider using IPython.display.IFrame instead\n",
      "\n"
     ]
    },
    {
     "data": {
      "text/html": [
       "<iframe id=\"igraph\" scrolling=\"no\" style=\"border:none;\" seamless=\"seamless\" src=\"https://plot.ly/~lexie88rus/40.embed\" height=\"525px\" width=\"100%\"></iframe>"
      ],
      "text/plain": [
       "<plotly.tools.PlotlyDisplay object>"
      ]
     },
     "execution_count": 45,
     "metadata": {},
     "output_type": "execute_result"
    }
   ],
   "source": [
    "#plot with plotly\n",
    "\n",
    "# Create traces\n",
    "trace0 = go.Scatter(\n",
    "    x = votes_by_downloads['TotalDatasetDownloads'], \n",
    "    y = votes_by_downloads['TotalKernelVotes'],\n",
    "    mode = 'markers',\n",
    "    name = 'kernel votes per dataset downloads',\n",
    "    marker = dict(color = '#7FDBE2')\n",
    ")\n",
    "\n",
    "data = [trace0]\n",
    "\n",
    "layout = go.Layout(\n",
    "    title='Number of votes per number of downloads for related dataset',\n",
    "    xaxis=dict(title='Dataset Downloads', ticklen=5, zeroline=False, gridwidth=2),\n",
    "    yaxis=dict(title='Kernel Votes', ticklen=5, gridwidth=2),\n",
    "    showlegend=True\n",
    ")\n",
    "\n",
    "fig = go.Figure(data=data, layout=layout)\n",
    "\n",
    "py.iplot(fig, filename='votes_per_dataset_downloads')"
   ]
  },
  {
   "cell_type": "markdown",
   "metadata": {},
   "source": [
    "The picture looks similar to the previous one. There is also no clear dependency."
   ]
  },
  {
   "cell_type": "markdown",
   "metadata": {},
   "source": [
    "### 6. How does kernel language affect the number of votes?"
   ]
  },
  {
   "cell_type": "markdown",
   "metadata": {},
   "source": [
    "What kernel types gain more votes?"
   ]
  },
  {
   "cell_type": "code",
   "execution_count": 46,
   "metadata": {},
   "outputs": [
    {
     "data": {
      "text/html": [
       "<div>\n",
       "<style scoped>\n",
       "    .dataframe tbody tr th:only-of-type {\n",
       "        vertical-align: middle;\n",
       "    }\n",
       "\n",
       "    .dataframe tbody tr th {\n",
       "        vertical-align: top;\n",
       "    }\n",
       "\n",
       "    .dataframe thead th {\n",
       "        text-align: right;\n",
       "    }\n",
       "</style>\n",
       "<table border=\"1\" class=\"dataframe\">\n",
       "  <thead>\n",
       "    <tr style=\"text-align: right;\">\n",
       "      <th></th>\n",
       "      <th>KernelId</th>\n",
       "      <th>TotalVotes</th>\n",
       "      <th>VersionId</th>\n",
       "      <th>KernelLanguageId</th>\n",
       "      <th>Name</th>\n",
       "      <th>DisplayName</th>\n",
       "      <th>IsNotebook</th>\n",
       "    </tr>\n",
       "  </thead>\n",
       "  <tbody>\n",
       "    <tr>\n",
       "      <th>0</th>\n",
       "      <td>1</td>\n",
       "      <td>0</td>\n",
       "      <td>205.0</td>\n",
       "      <td>1</td>\n",
       "      <td>R</td>\n",
       "      <td>R</td>\n",
       "      <td>False</td>\n",
       "    </tr>\n",
       "    <tr>\n",
       "      <th>1</th>\n",
       "      <td>2</td>\n",
       "      <td>12</td>\n",
       "      <td>1748.0</td>\n",
       "      <td>1</td>\n",
       "      <td>R</td>\n",
       "      <td>R</td>\n",
       "      <td>False</td>\n",
       "    </tr>\n",
       "    <tr>\n",
       "      <th>2</th>\n",
       "      <td>4</td>\n",
       "      <td>0</td>\n",
       "      <td>41.0</td>\n",
       "      <td>1</td>\n",
       "      <td>R</td>\n",
       "      <td>R</td>\n",
       "      <td>False</td>\n",
       "    </tr>\n",
       "    <tr>\n",
       "      <th>3</th>\n",
       "      <td>5</td>\n",
       "      <td>0</td>\n",
       "      <td>19.0</td>\n",
       "      <td>1</td>\n",
       "      <td>R</td>\n",
       "      <td>R</td>\n",
       "      <td>False</td>\n",
       "    </tr>\n",
       "    <tr>\n",
       "      <th>4</th>\n",
       "      <td>6</td>\n",
       "      <td>0</td>\n",
       "      <td>21.0</td>\n",
       "      <td>1</td>\n",
       "      <td>R</td>\n",
       "      <td>R</td>\n",
       "      <td>False</td>\n",
       "    </tr>\n",
       "  </tbody>\n",
       "</table>\n",
       "</div>"
      ],
      "text/plain": [
       "   KernelId  TotalVotes  VersionId  KernelLanguageId Name DisplayName  \\\n",
       "0         1           0      205.0                 1    R           R   \n",
       "1         2          12     1748.0                 1    R           R   \n",
       "2         4           0       41.0                 1    R           R   \n",
       "3         5           0       19.0                 1    R           R   \n",
       "4         6           0       21.0                 1    R           R   \n",
       "\n",
       "   IsNotebook  \n",
       "0       False  \n",
       "1       False  \n",
       "2       False  \n",
       "3       False  \n",
       "4       False  "
      ]
     },
     "execution_count": 46,
     "metadata": {},
     "output_type": "execute_result"
    }
   ],
   "source": [
    "#prepare the data for the analysis\n",
    "\n",
    "kernels_trc = kernels[['Id' , 'TotalVotes', 'CurrentKernelVersionId']]\n",
    "kernels_trc = kernels_trc.rename(columns = {'Id': 'KernelId', 'CurrentKernelVersionId' : 'VersionId'})\n",
    "\n",
    "kernel_versions_trc = kernel_versions[['Id', 'KernelId', 'KernelLanguageId']]\n",
    "kernel_versions_trc = kernel_versions_trc.rename(columns = {'Id' : 'VersionId'})\n",
    "\n",
    "kernel_lang_ren = kernel_lang.rename(columns = {'Id' : 'KernelLanguageId'})\n",
    "\n",
    "kernels_trc_lang = kernels_trc.merge(kernel_versions_trc, on = ['VersionId', 'KernelId'])\n",
    "kernels_trc_lang = kernels_trc_lang.merge(kernel_lang_ren, on = 'KernelLanguageId')\n",
    "\n",
    "kernels_trc_lang.head()"
   ]
  },
  {
   "cell_type": "code",
   "execution_count": 47,
   "metadata": {},
   "outputs": [],
   "source": [
    "#get average number of votes per language name\n",
    "votes_by_lang = kernels_trc_lang.groupby('Name').mean().reset_index()[['Name', 'TotalVotes']]\n",
    "votes_by_lang = votes_by_lang.sort_values(by = 'Name', ascending = True)\n",
    "votes_by_lang = votes_by_lang.rename(columns = {'TotalVotes' : 'Average Votes'})"
   ]
  },
  {
   "cell_type": "code",
   "execution_count": 48,
   "metadata": {
    "scrolled": true
   },
   "outputs": [
    {
     "data": {
      "image/png": "[encoded data removed]",
      "text/plain": [
       "<Figure size 504x504 with 1 Axes>"
      ]
     },
     "metadata": {},
     "output_type": "display_data"
    }
   ],
   "source": [
    "#plot bar chart with matplotlib\n",
    "\n",
    "plt.bar(votes_by_lang['Name'], votes_by_lang['Average Votes'])\n",
    "plt.xticks(votes_by_lang['Name'])\n",
    "plt.xticks(rotation=60)\n",
    "\n",
    "plt.xlabel('Language Name')\n",
    "plt.ylabel('Average Number of Votes')\n",
    "\n",
    "plt.title('Average number of votes per kernel language')\n",
    "\n",
    "plt.show()"
   ]
  },
  {
   "cell_type": "code",
   "execution_count": 49,
   "metadata": {},
   "outputs": [
    {
     "name": "stderr",
     "output_type": "stream",
     "text": [
      "/Users/aleksandraastakhova/anaconda3/lib/python3.6/site-packages/IPython/core/display.py:689: UserWarning:\n",
      "\n",
      "Consider using IPython.display.IFrame instead\n",
      "\n"
     ]
    },
    {
     "data": {
      "text/html": [
       "<iframe id=\"igraph\" scrolling=\"no\" style=\"border:none;\" seamless=\"seamless\" src=\"https://plot.ly/~lexie88rus/42.embed\" height=\"525px\" width=\"100%\"></iframe>"
      ],
      "text/plain": [
       "<plotly.tools.PlotlyDisplay object>"
      ]
     },
     "execution_count": 49,
     "metadata": {},
     "output_type": "execute_result"
    }
   ],
   "source": [
    "#plot bar chart with plotly\n",
    "\n",
    "trace1 = go.Bar(\n",
    "    x = votes_by_lang['Name'], \n",
    "    y = votes_by_lang['Average Votes'],\n",
    "    name='Average number of votes per kernel language',\n",
    "    marker=dict(color='#68B6AF')\n",
    ")\n",
    "\n",
    "data = [trace1]\n",
    "\n",
    "layout = go.Layout(title='Average number of votes per kernel language')\n",
    "\n",
    "fig = go.Figure(data=data, layout=layout)\n",
    "py.iplot(fig, filename='grouped-bar')"
   ]
  },
  {
   "cell_type": "markdown",
   "metadata": {},
   "source": [
    "It seems that notebooks are more appreciated with Kaggle users. "
   ]
  },
  {
   "cell_type": "markdown",
   "metadata": {},
   "source": [
    "### 7. How do kernel tags affect the number of votes?"
   ]
  },
  {
   "cell_type": "markdown",
   "metadata": {},
   "source": [
    "Now we will look at the kernels' tags:\n",
    "* Are there any kernel tags, which are more specific to more popular kernels?"
   ]
  },
  {
   "cell_type": "code",
   "execution_count": 50,
   "metadata": {},
   "outputs": [
    {
     "data": {
      "text/html": [
       "<div>\n",
       "<style scoped>\n",
       "    .dataframe tbody tr th:only-of-type {\n",
       "        vertical-align: middle;\n",
       "    }\n",
       "\n",
       "    .dataframe tbody tr th {\n",
       "        vertical-align: top;\n",
       "    }\n",
       "\n",
       "    .dataframe thead th {\n",
       "        text-align: right;\n",
       "    }\n",
       "</style>\n",
       "<table border=\"1\" class=\"dataframe\">\n",
       "  <thead>\n",
       "    <tr style=\"text-align: right;\">\n",
       "      <th></th>\n",
       "      <th>KernelId</th>\n",
       "      <th>TotalVotes</th>\n",
       "      <th>TagId</th>\n",
       "      <th>Name</th>\n",
       "      <th>DatasetCount</th>\n",
       "      <th>CompetitionCount</th>\n",
       "      <th>KernelCount</th>\n",
       "    </tr>\n",
       "  </thead>\n",
       "  <tbody>\n",
       "    <tr>\n",
       "      <th>0</th>\n",
       "      <td>541</td>\n",
       "      <td>35</td>\n",
       "      <td>13101</td>\n",
       "      <td>tutorial</td>\n",
       "      <td>19</td>\n",
       "      <td>1</td>\n",
       "      <td>2783</td>\n",
       "    </tr>\n",
       "    <tr>\n",
       "      <th>1</th>\n",
       "      <td>29004</td>\n",
       "      <td>565</td>\n",
       "      <td>13101</td>\n",
       "      <td>tutorial</td>\n",
       "      <td>19</td>\n",
       "      <td>1</td>\n",
       "      <td>2783</td>\n",
       "    </tr>\n",
       "    <tr>\n",
       "      <th>2</th>\n",
       "      <td>44675</td>\n",
       "      <td>2802</td>\n",
       "      <td>13101</td>\n",
       "      <td>tutorial</td>\n",
       "      <td>19</td>\n",
       "      <td>1</td>\n",
       "      <td>2783</td>\n",
       "    </tr>\n",
       "  </tbody>\n",
       "</table>\n",
       "</div>"
      ],
      "text/plain": [
       "   KernelId  TotalVotes  TagId      Name  DatasetCount  CompetitionCount  \\\n",
       "0       541          35  13101  tutorial            19                 1   \n",
       "1     29004         565  13101  tutorial            19                 1   \n",
       "2     44675        2802  13101  tutorial            19                 1   \n",
       "\n",
       "   KernelCount  \n",
       "0         2783  \n",
       "1         2783  \n",
       "2         2783  "
      ]
     },
     "execution_count": 50,
     "metadata": {},
     "output_type": "execute_result"
    }
   ],
   "source": [
    "#prepare data\n",
    "\n",
    "kernels_trc_tag = kernels[['Id' , 'TotalVotes']]\n",
    "kernels_trc_tag = kernels_trc_tag.rename(columns = {'Id' : 'KernelId'})\n",
    "\n",
    "tags_trc = tags[['Id', 'Name', 'DatasetCount', 'CompetitionCount', 'KernelCount']]\n",
    "tags_trc = tags_trc.rename(columns = {'Id' : 'TagId'})\n",
    "\n",
    "kernels_trc_tag = kernels_trc_tag.merge(kernel_tags[['KernelId', 'TagId']], on='KernelId')\n",
    "kernels_trc_tag = kernels_trc_tag.merge(tags_trc, on = 'TagId')\n",
    "\n",
    "kernels_trc_tag.head(3)"
   ]
  },
  {
   "cell_type": "markdown",
   "metadata": {},
   "source": [
    "I have an assumption that Kaggle users may be attracted by most popular tags, so using them will help to gain more votes. That is why I will try to plot average number of votes against number of datasets/competitions/kernels, where kernel tag is used."
   ]
  },
  {
   "cell_type": "markdown",
   "metadata": {},
   "source": [
    "1. Tag usage for datasets:"
   ]
  },
  {
   "cell_type": "code",
   "execution_count": 51,
   "metadata": {},
   "outputs": [],
   "source": [
    "#get average number of votes per number of tage usages in datasets\n",
    "votes_by_tag_dataset = kernels_trc_tag.groupby('DatasetCount').mean().reset_index()[['DatasetCount', 'TotalVotes']]\n",
    "votes_by_tag_dataset = votes_by_tag_dataset.sort_values(by = 'DatasetCount', ascending = True)"
   ]
  },
  {
   "cell_type": "code",
   "execution_count": 52,
   "metadata": {},
   "outputs": [
    {
     "data": {
      "image/png": "[encoded data removed]",
      "text/plain": [
       "<Figure size 504x504 with 1 Axes>"
      ]
     },
     "metadata": {},
     "output_type": "display_data"
    }
   ],
   "source": [
    "#plot with matplotlib\n",
    "\n",
    "plt.scatter(votes_by_tag_dataset['DatasetCount'], votes_by_tag_dataset['TotalVotes'])\n",
    "plt.title(\"Number of votes per number of tag usages in datasets\")\n",
    "plt.xlabel(\"Tag usage for datasets\")\n",
    "plt.ylabel(\"Votes\")\n",
    "\n",
    "plt.show()"
   ]
  },
  {
   "cell_type": "code",
   "execution_count": 53,
   "metadata": {},
   "outputs": [
    {
     "name": "stderr",
     "output_type": "stream",
     "text": [
      "/Users/aleksandraastakhova/anaconda3/lib/python3.6/site-packages/IPython/core/display.py:689: UserWarning:\n",
      "\n",
      "Consider using IPython.display.IFrame instead\n",
      "\n"
     ]
    },
    {
     "data": {
      "text/html": [
       "<iframe id=\"igraph\" scrolling=\"no\" style=\"border:none;\" seamless=\"seamless\" src=\"https://plot.ly/~lexie88rus/44.embed\" height=\"525px\" width=\"100%\"></iframe>"
      ],
      "text/plain": [
       "<plotly.tools.PlotlyDisplay object>"
      ]
     },
     "execution_count": 53,
     "metadata": {},
     "output_type": "execute_result"
    }
   ],
   "source": [
    "#plot with plotly\n",
    "\n",
    "# Create traces\n",
    "trace0 = go.Scatter(\n",
    "    x = votes_by_tag_dataset['DatasetCount'], \n",
    "    y = votes_by_tag_dataset['TotalVotes'],\n",
    "    mode = 'markers',\n",
    "    name = 'votes per tag usages in datasets',\n",
    "    marker = dict(color = '#7FDBE2')\n",
    ")\n",
    "\n",
    "data = [trace0]\n",
    "\n",
    "layout = go.Layout(\n",
    "    title='Number of votes per number of tag usages in datasets',\n",
    "    xaxis=dict(title='Tag usage for datasets', ticklen=5, zeroline=False, gridwidth=2),\n",
    "    yaxis=dict(title='Votes', ticklen=5, gridwidth=2),\n",
    "    showlegend=True\n",
    ")\n",
    "\n",
    "fig = go.Figure(data=data, layout=layout)\n",
    "\n",
    "py.iplot(fig, filename='votes_per_tags_dataset')"
   ]
  },
  {
   "cell_type": "markdown",
   "metadata": {},
   "source": [
    "1. Tag usage for competitions:"
   ]
  },
  {
   "cell_type": "code",
   "execution_count": 54,
   "metadata": {},
   "outputs": [],
   "source": [
    "#get average number of votes per number of tage usages in competitions\n",
    "votes_by_tag_competition = kernels_trc_tag.groupby('CompetitionCount').mean().reset_index()[['CompetitionCount', 'TotalVotes']]\n",
    "votes_by_tag_competition = votes_by_tag_competition.sort_values(by = 'CompetitionCount', ascending = True)"
   ]
  },
  {
   "cell_type": "code",
   "execution_count": 55,
   "metadata": {},
   "outputs": [
    {
     "data": {
      "image/png": "[encoded data removed]",
      "text/plain": [
       "<Figure size 504x504 with 1 Axes>"
      ]
     },
     "metadata": {},
     "output_type": "display_data"
    }
   ],
   "source": [
    "#plot with matplotlib\n",
    "\n",
    "plt.scatter(votes_by_tag_competition['CompetitionCount'], votes_by_tag_competition['TotalVotes'])\n",
    "plt.title(\"Number of votes per number of tag usages in competitions\")\n",
    "plt.xlabel(\"Tag usage for competitions\")\n",
    "plt.ylabel(\"Votes\")\n",
    "\n",
    "plt.show()"
   ]
  },
  {
   "cell_type": "code",
   "execution_count": 56,
   "metadata": {},
   "outputs": [
    {
     "name": "stderr",
     "output_type": "stream",
     "text": [
      "/Users/aleksandraastakhova/anaconda3/lib/python3.6/site-packages/IPython/core/display.py:689: UserWarning:\n",
      "\n",
      "Consider using IPython.display.IFrame instead\n",
      "\n"
     ]
    },
    {
     "data": {
      "text/html": [
       "<iframe id=\"igraph\" scrolling=\"no\" style=\"border:none;\" seamless=\"seamless\" src=\"https://plot.ly/~lexie88rus/46.embed\" height=\"525px\" width=\"100%\"></iframe>"
      ],
      "text/plain": [
       "<plotly.tools.PlotlyDisplay object>"
      ]
     },
     "execution_count": 56,
     "metadata": {},
     "output_type": "execute_result"
    }
   ],
   "source": [
    "#plot with plotly\n",
    "\n",
    "# Create traces\n",
    "trace0 = go.Scatter(\n",
    "    x = votes_by_tag_competition ['CompetitionCount'], \n",
    "    y = votes_by_tag_competition ['TotalVotes'],\n",
    "    mode = 'markers',\n",
    "    name = 'votes per tag usages in competitions',\n",
    "    marker = dict(color = '#7FDBE2')\n",
    ")\n",
    "\n",
    "data = [trace0]\n",
    "\n",
    "layout = go.Layout(\n",
    "    title='Number of votes per number of tag usages in competitions',\n",
    "    xaxis=dict(title='Tag usage for competitions', ticklen=5, zeroline=False, gridwidth=2),\n",
    "    yaxis=dict(title='Votes', ticklen=5, gridwidth=2),\n",
    "    showlegend=True\n",
    ")\n",
    "\n",
    "fig = go.Figure(data=data, layout=layout)\n",
    "\n",
    "py.iplot(fig, filename='votes_per_tags_comp')"
   ]
  },
  {
   "cell_type": "markdown",
   "metadata": {},
   "source": [
    "3. Tag usage for kernels:"
   ]
  },
  {
   "cell_type": "code",
   "execution_count": 57,
   "metadata": {},
   "outputs": [],
   "source": [
    "#get average number of votes per number of tage usages in datasets\n",
    "votes_by_tag_kernel = kernels_trc_tag.groupby('KernelCount').mean().reset_index()[['KernelCount', 'TotalVotes']]\n",
    "votes_by_tag_kernel = votes_by_tag_kernel.sort_values(by = 'KernelCount', ascending = True)"
   ]
  },
  {
   "cell_type": "code",
   "execution_count": 58,
   "metadata": {},
   "outputs": [
    {
     "data": {
      "image/png": "[encoded data removed]",
      "text/plain": [
       "<Figure size 504x504 with 1 Axes>"
      ]
     },
     "metadata": {},
     "output_type": "display_data"
    }
   ],
   "source": [
    "#plot with matplotlib\n",
    "\n",
    "plt.scatter(votes_by_tag_kernel['KernelCount'], votes_by_tag_kernel['TotalVotes'])\n",
    "plt.title(\"Number of votes per number of tag usages in kernels\")\n",
    "plt.xlabel(\"Tag usage for kernels\")\n",
    "plt.ylabel(\"Votes\")\n",
    "\n",
    "plt.show()"
   ]
  },
  {
   "cell_type": "code",
   "execution_count": 59,
   "metadata": {},
   "outputs": [
    {
     "name": "stderr",
     "output_type": "stream",
     "text": [
      "/Users/aleksandraastakhova/anaconda3/lib/python3.6/site-packages/IPython/core/display.py:689: UserWarning:\n",
      "\n",
      "Consider using IPython.display.IFrame instead\n",
      "\n"
     ]
    },
    {
     "data": {
      "text/html": [
       "<iframe id=\"igraph\" scrolling=\"no\" style=\"border:none;\" seamless=\"seamless\" src=\"https://plot.ly/~lexie88rus/48.embed\" height=\"525px\" width=\"100%\"></iframe>"
      ],
      "text/plain": [
       "<plotly.tools.PlotlyDisplay object>"
      ]
     },
     "execution_count": 59,
     "metadata": {},
     "output_type": "execute_result"
    }
   ],
   "source": [
    "#plot with plotly\n",
    "\n",
    "# Create traces\n",
    "trace0 = go.Scatter(\n",
    "    x = votes_by_tag_kernel['KernelCount'], \n",
    "    y = votes_by_tag_kernel['TotalVotes'],\n",
    "    mode = 'markers',\n",
    "    name = 'votes per tag usages in kernels',\n",
    "    marker = dict(color = '#7FDBE2')\n",
    ")\n",
    "\n",
    "data = [trace0]\n",
    "\n",
    "layout = go.Layout(\n",
    "    title='Number of votes per number of tag usages in kernels',\n",
    "    xaxis=dict(title='Tag usage for kernels', ticklen=5, zeroline=False, gridwidth=2),\n",
    "    yaxis=dict(title='Votes', ticklen=5, gridwidth=2),\n",
    "    showlegend=True\n",
    ")\n",
    "\n",
    "fig = go.Figure(data=data, layout=layout)\n",
    "\n",
    "py.iplot(fig, filename='votes_per_tags_kernel')"
   ]
  },
  {
   "cell_type": "markdown",
   "metadata": {},
   "source": [
    "Looks like the popularity of the tag doesn't really affect the number of votes.\n",
    "<br> I would also like to look at average number of votes for the most popular tags:"
   ]
  },
  {
   "cell_type": "code",
   "execution_count": 60,
   "metadata": {},
   "outputs": [
    {
     "data": {
      "text/html": [
       "<div>\n",
       "<style scoped>\n",
       "    .dataframe tbody tr th:only-of-type {\n",
       "        vertical-align: middle;\n",
       "    }\n",
       "\n",
       "    .dataframe tbody tr th {\n",
       "        vertical-align: top;\n",
       "    }\n",
       "\n",
       "    .dataframe thead th {\n",
       "        text-align: right;\n",
       "    }\n",
       "</style>\n",
       "<table border=\"1\" class=\"dataframe\">\n",
       "  <thead>\n",
       "    <tr style=\"text-align: right;\">\n",
       "      <th></th>\n",
       "      <th>TagId</th>\n",
       "      <th>Name</th>\n",
       "      <th>DatasetCount</th>\n",
       "      <th>CompetitionCount</th>\n",
       "      <th>KernelCount</th>\n",
       "      <th>TotalCount</th>\n",
       "    </tr>\n",
       "  </thead>\n",
       "  <tbody>\n",
       "    <tr>\n",
       "      <th>0</th>\n",
       "      <td>1000</td>\n",
       "      <td>general reference</td>\n",
       "      <td>0</td>\n",
       "      <td>0</td>\n",
       "      <td>0</td>\n",
       "      <td>0</td>\n",
       "    </tr>\n",
       "    <tr>\n",
       "      <th>1</th>\n",
       "      <td>1100</td>\n",
       "      <td>reference works</td>\n",
       "      <td>0</td>\n",
       "      <td>0</td>\n",
       "      <td>0</td>\n",
       "      <td>0</td>\n",
       "    </tr>\n",
       "    <tr>\n",
       "      <th>2</th>\n",
       "      <td>1103</td>\n",
       "      <td>biography</td>\n",
       "      <td>3</td>\n",
       "      <td>0</td>\n",
       "      <td>0</td>\n",
       "      <td>3</td>\n",
       "    </tr>\n",
       "    <tr>\n",
       "      <th>3</th>\n",
       "      <td>1104</td>\n",
       "      <td>dictionaries</td>\n",
       "      <td>6</td>\n",
       "      <td>0</td>\n",
       "      <td>3</td>\n",
       "      <td>9</td>\n",
       "    </tr>\n",
       "    <tr>\n",
       "      <th>4</th>\n",
       "      <td>1106</td>\n",
       "      <td>encyclopedias</td>\n",
       "      <td>1</td>\n",
       "      <td>0</td>\n",
       "      <td>0</td>\n",
       "      <td>1</td>\n",
       "    </tr>\n",
       "  </tbody>\n",
       "</table>\n",
       "</div>"
      ],
      "text/plain": [
       "   TagId               Name  DatasetCount  CompetitionCount  KernelCount  \\\n",
       "0   1000  general reference             0                 0            0   \n",
       "1   1100    reference works             0                 0            0   \n",
       "2   1103          biography             3                 0            0   \n",
       "3   1104       dictionaries             6                 0            3   \n",
       "4   1106      encyclopedias             1                 0            0   \n",
       "\n",
       "   TotalCount  \n",
       "0           0  \n",
       "1           0  \n",
       "2           3  \n",
       "3           9  \n",
       "4           1  "
      ]
     },
     "execution_count": 60,
     "metadata": {},
     "output_type": "execute_result"
    }
   ],
   "source": [
    "#find out total usage of the tag and store in TotalCount column\n",
    "tags_total = tags_trc.copy()\n",
    "\n",
    "tags_total['TotalCount'] = tags_total['DatasetCount'] + tags_total['CompetitionCount'] + tags_total['KernelCount']\n",
    "\n",
    "tags_total.head()"
   ]
  },
  {
   "cell_type": "code",
   "execution_count": 61,
   "metadata": {},
   "outputs": [
    {
     "data": {
      "text/html": [
       "<div>\n",
       "<style scoped>\n",
       "    .dataframe tbody tr th:only-of-type {\n",
       "        vertical-align: middle;\n",
       "    }\n",
       "\n",
       "    .dataframe tbody tr th {\n",
       "        vertical-align: top;\n",
       "    }\n",
       "\n",
       "    .dataframe thead th {\n",
       "        text-align: right;\n",
       "    }\n",
       "</style>\n",
       "<table border=\"1\" class=\"dataframe\">\n",
       "  <thead>\n",
       "    <tr style=\"text-align: right;\">\n",
       "      <th></th>\n",
       "      <th>TagId</th>\n",
       "      <th>Name</th>\n",
       "      <th>DatasetCount</th>\n",
       "      <th>CompetitionCount</th>\n",
       "      <th>KernelCount</th>\n",
       "      <th>TotalCount</th>\n",
       "    </tr>\n",
       "  </thead>\n",
       "  <tbody>\n",
       "    <tr>\n",
       "      <th>574</th>\n",
       "      <td>16003</td>\n",
       "      <td>starter code</td>\n",
       "      <td>4</td>\n",
       "      <td>0</td>\n",
       "      <td>12890</td>\n",
       "      <td>12894</td>\n",
       "    </tr>\n",
       "    <tr>\n",
       "      <th>480</th>\n",
       "      <td>13102</td>\n",
       "      <td>beginner</td>\n",
       "      <td>70</td>\n",
       "      <td>0</td>\n",
       "      <td>6247</td>\n",
       "      <td>6317</td>\n",
       "    </tr>\n",
       "    <tr>\n",
       "      <th>493</th>\n",
       "      <td>13208</td>\n",
       "      <td>data visualization</td>\n",
       "      <td>103</td>\n",
       "      <td>0</td>\n",
       "      <td>5511</td>\n",
       "      <td>5614</td>\n",
       "    </tr>\n",
       "    <tr>\n",
       "      <th>486</th>\n",
       "      <td>13201</td>\n",
       "      <td>eda</td>\n",
       "      <td>33</td>\n",
       "      <td>0</td>\n",
       "      <td>3037</td>\n",
       "      <td>3070</td>\n",
       "    </tr>\n",
       "    <tr>\n",
       "      <th>479</th>\n",
       "      <td>13101</td>\n",
       "      <td>tutorial</td>\n",
       "      <td>19</td>\n",
       "      <td>1</td>\n",
       "      <td>2783</td>\n",
       "      <td>2803</td>\n",
       "    </tr>\n",
       "    <tr>\n",
       "      <th>504</th>\n",
       "      <td>13302</td>\n",
       "      <td>classification</td>\n",
       "      <td>167</td>\n",
       "      <td>1</td>\n",
       "      <td>2404</td>\n",
       "      <td>2572</td>\n",
       "    </tr>\n",
       "    <tr>\n",
       "      <th>508</th>\n",
       "      <td>13306</td>\n",
       "      <td>feature engineering</td>\n",
       "      <td>34</td>\n",
       "      <td>0</td>\n",
       "      <td>1636</td>\n",
       "      <td>1670</td>\n",
       "    </tr>\n",
       "    <tr>\n",
       "      <th>487</th>\n",
       "      <td>13202</td>\n",
       "      <td>data cleaning</td>\n",
       "      <td>43</td>\n",
       "      <td>0</td>\n",
       "      <td>1500</td>\n",
       "      <td>1543</td>\n",
       "    </tr>\n",
       "    <tr>\n",
       "      <th>512</th>\n",
       "      <td>13310</td>\n",
       "      <td>deep learning</td>\n",
       "      <td>99</td>\n",
       "      <td>0</td>\n",
       "      <td>1343</td>\n",
       "      <td>1442</td>\n",
       "    </tr>\n",
       "    <tr>\n",
       "      <th>568</th>\n",
       "      <td>15001</td>\n",
       "      <td>dailychallenge</td>\n",
       "      <td>0</td>\n",
       "      <td>0</td>\n",
       "      <td>1362</td>\n",
       "      <td>1362</td>\n",
       "    </tr>\n",
       "    <tr>\n",
       "      <th>571</th>\n",
       "      <td>15006</td>\n",
       "      <td>socrata</td>\n",
       "      <td>1087</td>\n",
       "      <td>0</td>\n",
       "      <td>2</td>\n",
       "      <td>1089</td>\n",
       "    </tr>\n",
       "    <tr>\n",
       "      <th>340</th>\n",
       "      <td>11108</td>\n",
       "      <td>finance</td>\n",
       "      <td>363</td>\n",
       "      <td>4</td>\n",
       "      <td>328</td>\n",
       "      <td>695</td>\n",
       "    </tr>\n",
       "    <tr>\n",
       "      <th>489</th>\n",
       "      <td>13204</td>\n",
       "      <td>nlp</td>\n",
       "      <td>145</td>\n",
       "      <td>1</td>\n",
       "      <td>548</td>\n",
       "      <td>694</td>\n",
       "    </tr>\n",
       "    <tr>\n",
       "      <th>426</th>\n",
       "      <td>12116</td>\n",
       "      <td>internet</td>\n",
       "      <td>425</td>\n",
       "      <td>14</td>\n",
       "      <td>163</td>\n",
       "      <td>602</td>\n",
       "    </tr>\n",
       "    <tr>\n",
       "      <th>540</th>\n",
       "      <td>14102</td>\n",
       "      <td>image data</td>\n",
       "      <td>300</td>\n",
       "      <td>50</td>\n",
       "      <td>222</td>\n",
       "      <td>572</td>\n",
       "    </tr>\n",
       "    <tr>\n",
       "      <th>526</th>\n",
       "      <td>13407</td>\n",
       "      <td>neural networks</td>\n",
       "      <td>22</td>\n",
       "      <td>0</td>\n",
       "      <td>544</td>\n",
       "      <td>566</td>\n",
       "    </tr>\n",
       "    <tr>\n",
       "      <th>521</th>\n",
       "      <td>13402</td>\n",
       "      <td>random forest</td>\n",
       "      <td>12</td>\n",
       "      <td>0</td>\n",
       "      <td>519</td>\n",
       "      <td>531</td>\n",
       "    </tr>\n",
       "    <tr>\n",
       "      <th>368</th>\n",
       "      <td>11205</td>\n",
       "      <td>economics</td>\n",
       "      <td>486</td>\n",
       "      <td>0</td>\n",
       "      <td>40</td>\n",
       "      <td>526</td>\n",
       "    </tr>\n",
       "    <tr>\n",
       "      <th>534</th>\n",
       "      <td>13415</td>\n",
       "      <td>cnn</td>\n",
       "      <td>18</td>\n",
       "      <td>0</td>\n",
       "      <td>449</td>\n",
       "      <td>467</td>\n",
       "    </tr>\n",
       "    <tr>\n",
       "      <th>370</th>\n",
       "      <td>11208</td>\n",
       "      <td>linguistics</td>\n",
       "      <td>355</td>\n",
       "      <td>6</td>\n",
       "      <td>103</td>\n",
       "      <td>464</td>\n",
       "    </tr>\n",
       "  </tbody>\n",
       "</table>\n",
       "</div>"
      ],
      "text/plain": [
       "     TagId                 Name  DatasetCount  CompetitionCount  KernelCount  \\\n",
       "574  16003         starter code             4                 0        12890   \n",
       "480  13102             beginner            70                 0         6247   \n",
       "493  13208   data visualization           103                 0         5511   \n",
       "486  13201                  eda            33                 0         3037   \n",
       "479  13101             tutorial            19                 1         2783   \n",
       "504  13302       classification           167                 1         2404   \n",
       "508  13306  feature engineering            34                 0         1636   \n",
       "487  13202        data cleaning            43                 0         1500   \n",
       "512  13310        deep learning            99                 0         1343   \n",
       "568  15001       dailychallenge             0                 0         1362   \n",
       "571  15006              socrata          1087                 0            2   \n",
       "340  11108              finance           363                 4          328   \n",
       "489  13204                  nlp           145                 1          548   \n",
       "426  12116             internet           425                14          163   \n",
       "540  14102           image data           300                50          222   \n",
       "526  13407      neural networks            22                 0          544   \n",
       "521  13402        random forest            12                 0          519   \n",
       "368  11205            economics           486                 0           40   \n",
       "534  13415                  cnn            18                 0          449   \n",
       "370  11208          linguistics           355                 6          103   \n",
       "\n",
       "     TotalCount  \n",
       "574       12894  \n",
       "480        6317  \n",
       "493        5614  \n",
       "486        3070  \n",
       "479        2803  \n",
       "504        2572  \n",
       "508        1670  \n",
       "487        1543  \n",
       "512        1442  \n",
       "568        1362  \n",
       "571        1089  \n",
       "340         695  \n",
       "489         694  \n",
       "426         602  \n",
       "540         572  \n",
       "526         566  \n",
       "521         531  \n",
       "368         526  \n",
       "534         467  \n",
       "370         464  "
      ]
     },
     "execution_count": 61,
     "metadata": {},
     "output_type": "execute_result"
    }
   ],
   "source": [
    "#find out top-20 most popular tags\n",
    "tags_total = tags_total.sort_values('TotalCount', ascending = False)\n",
    "tags_total = tags_total[:20]\n",
    "\n",
    "tags_total"
   ]
  },
  {
   "cell_type": "code",
   "execution_count": 62,
   "metadata": {},
   "outputs": [],
   "source": [
    "#find average number of votes for each tag\n",
    "votes_by_tag = kernels_trc_tag.groupby('Name').mean().reset_index()[['Name', 'TotalVotes']]\n",
    "\n",
    "#filter votes by tag for only top-20 most popular tags\n",
    "votes_by_tag_popular = votes_by_tag[votes_by_tag['Name'].isin(tags_total['Name'].values.tolist())]"
   ]
  },
  {
   "cell_type": "code",
   "execution_count": 63,
   "metadata": {},
   "outputs": [
    {
     "data": {
      "image/png": "[encoded data removed]",
      "text/plain": [
       "<Figure size 504x504 with 1 Axes>"
      ]
     },
     "metadata": {},
     "output_type": "display_data"
    }
   ],
   "source": [
    "#plot bar chart with matplotlib\n",
    "\n",
    "plt.bar(votes_by_tag_popular['Name'], votes_by_tag_popular['TotalVotes'])\n",
    "plt.xticks(votes_by_tag_popular['Name'])\n",
    "plt.xticks(rotation=90)\n",
    "\n",
    "plt.xlabel('Tag Name')\n",
    "plt.ylabel('Average Number of Votes')\n",
    "\n",
    "plt.title('Average number of votes per tag')\n",
    "\n",
    "plt.show()"
   ]
  },
  {
   "cell_type": "code",
   "execution_count": 64,
   "metadata": {},
   "outputs": [
    {
     "name": "stderr",
     "output_type": "stream",
     "text": [
      "/Users/aleksandraastakhova/anaconda3/lib/python3.6/site-packages/IPython/core/display.py:689: UserWarning:\n",
      "\n",
      "Consider using IPython.display.IFrame instead\n",
      "\n"
     ]
    },
    {
     "data": {
      "text/html": [
       "<iframe id=\"igraph\" scrolling=\"no\" style=\"border:none;\" seamless=\"seamless\" src=\"https://plot.ly/~lexie88rus/42.embed\" height=\"525px\" width=\"100%\"></iframe>"
      ],
      "text/plain": [
       "<plotly.tools.PlotlyDisplay object>"
      ]
     },
     "execution_count": 64,
     "metadata": {},
     "output_type": "execute_result"
    }
   ],
   "source": [
    "#plot bar chart with plotly\n",
    "\n",
    "trace1 = go.Bar(\n",
    "    x = votes_by_tag_popular['Name'], \n",
    "    y = votes_by_tag_popular['TotalVotes'],\n",
    "    name='Average number of votes per tag',\n",
    "    marker=dict(color='#68B6AF')\n",
    ")\n",
    "\n",
    "data = [trace1]\n",
    "\n",
    "layout = go.Layout(title='Average number of votes per tag')\n",
    "\n",
    "fig = go.Figure(data=data, layout=layout)\n",
    "py.iplot(fig, filename='grouped-bar')"
   ]
  },
  {
   "cell_type": "markdown",
   "metadata": {},
   "source": [
    "We can really see that number of votes varies greatly even for the most popular tags."
   ]
  },
  {
   "cell_type": "markdown",
   "metadata": {},
   "source": [
    "It is also interesting to find out tags, which have the greatest average number of votes:"
   ]
  },
  {
   "cell_type": "code",
   "execution_count": 65,
   "metadata": {},
   "outputs": [],
   "source": [
    "#sort votes_by_tag by average number of votes and take top-20\n",
    "\n",
    "votes_by_tag_aver = votes_by_tag.sort_values('TotalVotes', ascending = False)[:20]"
   ]
  },
  {
   "cell_type": "code",
   "execution_count": 66,
   "metadata": {},
   "outputs": [
    {
     "data": {
      "image/png": "[encoded data removed]",
      "text/plain": [
       "<Figure size 504x504 with 1 Axes>"
      ]
     },
     "metadata": {},
     "output_type": "display_data"
    }
   ],
   "source": [
    "#plot bar chart with matplotlib\n",
    "\n",
    "plt.bar(votes_by_tag_aver['Name'], votes_by_tag_aver['TotalVotes'])\n",
    "plt.xticks(votes_by_tag_aver['Name'])\n",
    "plt.xticks(rotation=90)\n",
    "\n",
    "plt.xlabel('Tag Name')\n",
    "plt.ylabel('Average Number of Votes')\n",
    "\n",
    "plt.title('Average number of votes per tag')\n",
    "\n",
    "plt.show()"
   ]
  },
  {
   "cell_type": "code",
   "execution_count": 67,
   "metadata": {},
   "outputs": [
    {
     "name": "stderr",
     "output_type": "stream",
     "text": [
      "/Users/aleksandraastakhova/anaconda3/lib/python3.6/site-packages/IPython/core/display.py:689: UserWarning:\n",
      "\n",
      "Consider using IPython.display.IFrame instead\n",
      "\n"
     ]
    },
    {
     "data": {
      "text/html": [
       "<iframe id=\"igraph\" scrolling=\"no\" style=\"border:none;\" seamless=\"seamless\" src=\"https://plot.ly/~lexie88rus/42.embed\" height=\"525px\" width=\"100%\"></iframe>"
      ],
      "text/plain": [
       "<plotly.tools.PlotlyDisplay object>"
      ]
     },
     "execution_count": 67,
     "metadata": {},
     "output_type": "execute_result"
    }
   ],
   "source": [
    "#plot bar chart with plotly\n",
    "\n",
    "trace1 = go.Bar(\n",
    "    x = votes_by_tag_aver['Name'], \n",
    "    y = votes_by_tag_aver['TotalVotes'],\n",
    "    name='Average number of votes per tag',\n",
    "    marker=dict(color='#68B6AF')\n",
    ")\n",
    "\n",
    "data = [trace1]\n",
    "\n",
    "layout = go.Layout(title='Average number of votes per tag')\n",
    "\n",
    "fig = go.Figure(data=data, layout=layout)\n",
    "py.iplot(fig, filename='grouped-bar')"
   ]
  },
  {
   "cell_type": "markdown",
   "metadata": {},
   "source": [
    "We can see that tags with the greatest average number of votes don't really match with the most popular tags, so I guess my assumption that using popular tags in kernels will help to gain more votes is wrong."
   ]
  },
  {
   "cell_type": "markdown",
   "metadata": {},
   "source": [
    "## Machine learning to predict number of votes for kernel"
   ]
  },
  {
   "cell_type": "markdown",
   "metadata": {},
   "source": [
    "The last thing left to do is to try to create regression model, which predicts the number of votes for a kernel."
   ]
  },
  {
   "cell_type": "code",
   "execution_count": 83,
   "metadata": {},
   "outputs": [
    {
     "data": {
      "text/html": [
       "<div>\n",
       "<style scoped>\n",
       "    .dataframe tbody tr th:only-of-type {\n",
       "        vertical-align: middle;\n",
       "    }\n",
       "\n",
       "    .dataframe tbody tr th {\n",
       "        vertical-align: top;\n",
       "    }\n",
       "\n",
       "    .dataframe thead th {\n",
       "        text-align: right;\n",
       "    }\n",
       "</style>\n",
       "<table border=\"1\" class=\"dataframe\">\n",
       "  <thead>\n",
       "    <tr style=\"text-align: right;\">\n",
       "      <th></th>\n",
       "      <th>TotalKernelVotes</th>\n",
       "      <th>AuthorPerformanceTier</th>\n",
       "      <th>DaysSinceRegistration</th>\n",
       "      <th>KernelLanguageId</th>\n",
       "      <th>VersionNumber</th>\n",
       "      <th>TotalDatasetVotes</th>\n",
       "      <th>TotalDatasetDownloads</th>\n",
       "      <th>tag_starter code</th>\n",
       "      <th>tag_beginner</th>\n",
       "      <th>tag_data visualization</th>\n",
       "      <th>...</th>\n",
       "      <th>tag_nlp</th>\n",
       "      <th>tag_internet</th>\n",
       "      <th>tag_image data</th>\n",
       "      <th>tag_neural networks</th>\n",
       "      <th>tag_random forest</th>\n",
       "      <th>tag_economics</th>\n",
       "      <th>tag_cnn</th>\n",
       "      <th>tag_linguistics</th>\n",
       "      <th>IsForked</th>\n",
       "      <th>HasForumTopic</th>\n",
       "    </tr>\n",
       "  </thead>\n",
       "  <tbody>\n",
       "    <tr>\n",
       "      <th>0</th>\n",
       "      <td>13</td>\n",
       "      <td>2</td>\n",
       "      <td>2390</td>\n",
       "      <td>7</td>\n",
       "      <td>31.0</td>\n",
       "      <td>193</td>\n",
       "      <td>6084</td>\n",
       "      <td>0</td>\n",
       "      <td>0</td>\n",
       "      <td>0</td>\n",
       "      <td>...</td>\n",
       "      <td>0</td>\n",
       "      <td>1</td>\n",
       "      <td>0</td>\n",
       "      <td>0</td>\n",
       "      <td>0</td>\n",
       "      <td>0</td>\n",
       "      <td>0</td>\n",
       "      <td>0</td>\n",
       "      <td>0</td>\n",
       "      <td>0</td>\n",
       "    </tr>\n",
       "    <tr>\n",
       "      <th>1</th>\n",
       "      <td>11</td>\n",
       "      <td>1</td>\n",
       "      <td>1335</td>\n",
       "      <td>1</td>\n",
       "      <td>30.0</td>\n",
       "      <td>193</td>\n",
       "      <td>6084</td>\n",
       "      <td>0</td>\n",
       "      <td>0</td>\n",
       "      <td>0</td>\n",
       "      <td>...</td>\n",
       "      <td>0</td>\n",
       "      <td>1</td>\n",
       "      <td>0</td>\n",
       "      <td>0</td>\n",
       "      <td>0</td>\n",
       "      <td>0</td>\n",
       "      <td>0</td>\n",
       "      <td>0</td>\n",
       "      <td>0</td>\n",
       "      <td>0</td>\n",
       "    </tr>\n",
       "    <tr>\n",
       "      <th>2</th>\n",
       "      <td>11</td>\n",
       "      <td>0</td>\n",
       "      <td>1320</td>\n",
       "      <td>2</td>\n",
       "      <td>38.0</td>\n",
       "      <td>193</td>\n",
       "      <td>6084</td>\n",
       "      <td>0</td>\n",
       "      <td>0</td>\n",
       "      <td>0</td>\n",
       "      <td>...</td>\n",
       "      <td>0</td>\n",
       "      <td>1</td>\n",
       "      <td>0</td>\n",
       "      <td>0</td>\n",
       "      <td>0</td>\n",
       "      <td>0</td>\n",
       "      <td>0</td>\n",
       "      <td>0</td>\n",
       "      <td>0</td>\n",
       "      <td>1</td>\n",
       "    </tr>\n",
       "    <tr>\n",
       "      <th>3</th>\n",
       "      <td>13</td>\n",
       "      <td>3</td>\n",
       "      <td>1711</td>\n",
       "      <td>2</td>\n",
       "      <td>7.0</td>\n",
       "      <td>193</td>\n",
       "      <td>6084</td>\n",
       "      <td>0</td>\n",
       "      <td>0</td>\n",
       "      <td>0</td>\n",
       "      <td>...</td>\n",
       "      <td>0</td>\n",
       "      <td>1</td>\n",
       "      <td>0</td>\n",
       "      <td>0</td>\n",
       "      <td>0</td>\n",
       "      <td>0</td>\n",
       "      <td>0</td>\n",
       "      <td>0</td>\n",
       "      <td>0</td>\n",
       "      <td>1</td>\n",
       "    </tr>\n",
       "    <tr>\n",
       "      <th>4</th>\n",
       "      <td>9</td>\n",
       "      <td>0</td>\n",
       "      <td>1572</td>\n",
       "      <td>2</td>\n",
       "      <td>53.0</td>\n",
       "      <td>193</td>\n",
       "      <td>6084</td>\n",
       "      <td>0</td>\n",
       "      <td>0</td>\n",
       "      <td>0</td>\n",
       "      <td>...</td>\n",
       "      <td>0</td>\n",
       "      <td>1</td>\n",
       "      <td>0</td>\n",
       "      <td>0</td>\n",
       "      <td>0</td>\n",
       "      <td>0</td>\n",
       "      <td>0</td>\n",
       "      <td>0</td>\n",
       "      <td>0</td>\n",
       "      <td>1</td>\n",
       "    </tr>\n",
       "  </tbody>\n",
       "</table>\n",
       "<p>5 rows × 29 columns</p>\n",
       "</div>"
      ],
      "text/plain": [
       "   TotalKernelVotes  AuthorPerformanceTier  DaysSinceRegistration  \\\n",
       "0                13                      2                   2390   \n",
       "1                11                      1                   1335   \n",
       "2                11                      0                   1320   \n",
       "3                13                      3                   1711   \n",
       "4                 9                      0                   1572   \n",
       "\n",
       "   KernelLanguageId  VersionNumber  TotalDatasetVotes  TotalDatasetDownloads  \\\n",
       "0                 7           31.0                193                   6084   \n",
       "1                 1           30.0                193                   6084   \n",
       "2                 2           38.0                193                   6084   \n",
       "3                 2            7.0                193                   6084   \n",
       "4                 2           53.0                193                   6084   \n",
       "\n",
       "   tag_starter code  tag_beginner  tag_data visualization      ...        \\\n",
       "0                 0             0                       0      ...         \n",
       "1                 0             0                       0      ...         \n",
       "2                 0             0                       0      ...         \n",
       "3                 0             0                       0      ...         \n",
       "4                 0             0                       0      ...         \n",
       "\n",
       "   tag_nlp  tag_internet  tag_image data  tag_neural networks  \\\n",
       "0        0             1               0                    0   \n",
       "1        0             1               0                    0   \n",
       "2        0             1               0                    0   \n",
       "3        0             1               0                    0   \n",
       "4        0             1               0                    0   \n",
       "\n",
       "   tag_random forest  tag_economics  tag_cnn  tag_linguistics  IsForked  \\\n",
       "0                  0              0        0                0         0   \n",
       "1                  0              0        0                0         0   \n",
       "2                  0              0        0                0         0   \n",
       "3                  0              0        0                0         0   \n",
       "4                  0              0        0                0         0   \n",
       "\n",
       "   HasForumTopic  \n",
       "0              0  \n",
       "1              0  \n",
       "2              1  \n",
       "3              1  \n",
       "4              1  \n",
       "\n",
       "[5 rows x 29 columns]"
      ]
     },
     "execution_count": 83,
     "metadata": {},
     "output_type": "execute_result"
    }
   ],
   "source": [
    "#prepare data\n",
    "\n",
    "def has_tag(row, tag):\n",
    "    ''' Function returns 1 of tag id found in row['Tags'] column '''\n",
    "    \n",
    "    for row_tag in row['Tags'].replace(' ','').replace('{','').replace('}','').split(','):\n",
    "        if row_tag == tag:\n",
    "            return 1\n",
    "    return 0\n",
    "\n",
    "def is_forked(row):\n",
    "    ''' Functions returns 0 if row['ForkParentKernelVersionId'] is nan, 1 - otherwise '''\n",
    "    if np.isnan(row['ForkParentKernelVersionId']):\n",
    "        return 0\n",
    "    else:\n",
    "        return 1\n",
    "\n",
    "def has_linked_topic(row):\n",
    "    ''' Functions returns 0 if row['ForumTopicId'] is nan, 1 - otherwise '''\n",
    "    if np.isnan(row['ForumTopicId']):\n",
    "        return 0\n",
    "    else:\n",
    "        return 1\n",
    "    \n",
    "def get_days_from_registration(row):\n",
    "    '''Function returns number of days since users registration date'''\n",
    "    \n",
    "    today = dt.datetime.now().date()\n",
    "    days = (today - dt.datetime.strptime(row['RegisterDate'], \"%m/%d/%Y\").date()).days\n",
    "    \n",
    "    return days\n",
    "\n",
    "def prepare_data(kernels, kernel_lang, kernel_tags, kernel_versions, kernel_users, kernel_datasets, datasets, dataset_versions, tags):\n",
    "    '''\n",
    "    Function to prepare meta Kaggle data to be used in regression models\n",
    "    \n",
    "    INPUTS:\n",
    "    1. kernels - Kernels.csv dataset, \n",
    "    2. kernel_lang - KernelLanguages.csv dataset,\n",
    "    3. kernel_tags - KernelTags.csv dataset,\n",
    "    4. kernel_versions - KernelVersions.csv dataset,\n",
    "    5. kernel_users - KernelUsers.csv dataset,\n",
    "    6. kernel_datasets - KernelVersionDatasetSources.csv dataset,\n",
    "    7. datasets - Datasets.csv dataset,\n",
    "    8. dataset_versions - DatasetVersions.csv dataset,\n",
    "    9. tags - Tags.csv dataset.\n",
    "    \n",
    "    RETURNS:\n",
    "    df - dataset, wchich contains preprocessed data\n",
    "    '''\n",
    "    #1. merge datasets\n",
    "    \n",
    "    #remove irrelevant columns from dataset and rename other columns to perform merge\n",
    "    df = kernels[['Id', 'CurrentKernelVersionId' , 'ForkParentKernelVersionId', 'ForumTopicId', 'TotalVotes', 'AuthorUserId']].rename(columns = \n",
    "                                                                                                                      {'Id': 'KernelId', \n",
    "                                                                                                           'TotalVotes': 'TotalKernelVotes', \n",
    "                                                                                                                      'CurrentKernelVersionId':'KernelVersionId'})\n",
    "    \n",
    "    #merge with users to add PerformanceTier of the author\n",
    "    kernel_users['DaysSinceRegistration'] = kernel_users.apply(lambda row: get_days_from_registration(row),axis=1)\n",
    "    kernel_users_renamed = kernel_users[['Id', 'PerformanceTier', 'DaysSinceRegistration']].rename(columns={'Id': 'AuthorUserId',\n",
    "                                                                                  'PerformanceTier' : 'AuthorPerformanceTier'})\n",
    "    df = df.merge(kernel_users_renamed, on = 'AuthorUserId').drop('AuthorUserId', axis = 1)\n",
    "    \n",
    "    #merge with versions to add VersionNumber and KernelLanguageId\n",
    "    kernel_versions_renamed = kernel_versions[['Id', 'KernelId', 'KernelLanguageId', 'VersionNumber']].rename(columns = {'Id':'KernelVersionId'})\n",
    "    df = df.merge(kernel_versions_renamed, on = ['KernelVersionId', 'KernelId'])\n",
    "    \n",
    "    #merge with datasets to add TotalDatasetVotes and TotalDatasetDownloads\n",
    "    kernel_datasets_truncated = kernel_datasets[['KernelVersionId', 'SourceDatasetVersionId']]\n",
    "\n",
    "    dataset_versions_truncated = dataset_versions[['DatasetId', 'DatasourceVersionId']]\n",
    "    dataset_versions_truncated = dataset_versions_truncated.rename(columns={'DatasourceVersionId': 'SourceDatasetVersionId'})\n",
    "\n",
    "    datasets_truncated = datasets[['Id', 'TotalVotes', 'TotalDownloads']]\n",
    "    datasets_truncated = datasets_truncated.rename(columns={'Id': 'DatasetId', 'TotalVotes':'TotalDatasetVotes',\n",
    "                                                      'TotalDownloads':'TotalDatasetDownloads'})\n",
    "\n",
    "    df = df.merge(kernel_datasets_truncated, on = 'KernelVersionId')\n",
    "    df = df.merge(dataset_versions_truncated, on = 'SourceDatasetVersionId')\n",
    "    df = df.merge(datasets_truncated, on = 'DatasetId').drop(['SourceDatasetVersionId', 'DatasetId', 'KernelVersionId'], axis = 1)\n",
    "    \n",
    "    #merge with tags\n",
    "    tags_trc = tags[['Id', 'Name']]\n",
    "    tags_trc = tags_trc.rename(columns = {'Id' : 'TagId', 'Name' : 'TagName'})\n",
    "    df = df.merge(kernel_tags, on = 'KernelId').drop(['Id'], axis = 1)\n",
    "    df = df.merge(tags_trc, on = 'TagId')\n",
    "    \n",
    "    #find most popular tags\n",
    "    top20_tags = tags[['Id', 'Name', 'DatasetCount', 'CompetitionCount', 'KernelCount']].rename(columns={'Id':'TagId'})\n",
    "    top20_tags['TotalCount'] = top20_tags['DatasetCount'] + top20_tags['CompetitionCount'] + top20_tags['KernelCount']\n",
    "    top20_tags = top20_tags.sort_values('TotalCount', ascending = False)\n",
    "    top20_tags = top20_tags[:20].drop(['DatasetCount', 'CompetitionCount' , 'KernelCount'], axis = 1)\n",
    "    \n",
    "    #filter-out rows only for most popular tags\n",
    "    df = df[df['TagId'].isin(top20_tags['TagId'].values.tolist())]\n",
    "    df = df.drop('TagId', axis = 1)\n",
    "    \n",
    "    #introduce column 'Tags' with set of most popular tags used for kernel\n",
    "    df_1 = df.groupby('KernelId')['TagName'].apply(lambda x: \"{%s}\" % ', '.join(x)).reset_index().rename(columns = {'TagName':'Tags'})\n",
    "    df = df.drop('TagName', axis = 1)\n",
    "    df = df_1.merge(df, on='KernelId')\n",
    "    \n",
    "    #create dummy columns for top-20 tags\n",
    "    for top20_tag in top20_tags['Name'].values.tolist():\n",
    "        df['tag_' + str(top20_tag)] = df.apply(lambda row: has_tag(row, top20_tag),axis=1)\n",
    "        \n",
    "    df = df.drop('Tags', axis = 1)\n",
    "    \n",
    "    #2. process column values\n",
    "    \n",
    "    #introduce column IsForked for kernels forked from other and drop original column\n",
    "    df['IsForked'] = df.apply(lambda row: is_forked(row),axis=1)\n",
    "    df = df.drop('ForkParentKernelVersionId', axis = 1)\n",
    "    \n",
    "    #introduce colum HasForumTopic for kernels linked to forum topic id and drop original column\n",
    "    df['HasForumTopic'] = df.apply(lambda row: has_linked_topic(row),axis=1)\n",
    "    df = df.drop(['ForumTopicId', 'KernelId'], axis = 1)\n",
    "    \n",
    "     \n",
    "    return df\n",
    "\n",
    "df = prepare_data(kernels, kernel_lang, kernel_tags, kernel_versions, kernel_users, kernel_datasets, datasets, dataset_versions, tags)\n",
    "\n",
    "df.head(5)"
   ]
  },
  {
   "cell_type": "code",
   "execution_count": 84,
   "metadata": {},
   "outputs": [],
   "source": [
    "#split into train and test\n",
    "TEST_SIZE = 0.3\n",
    "RAND_STATE = 42\n",
    "\n",
    "X = df.drop(columns = 'TotalKernelVotes')\n",
    "y = df[['TotalKernelVotes']]\n",
    "\n",
    "X_train, X_test, y_train, y_test = train_test_split(X, y, test_size = TEST_SIZE, random_state=RAND_STATE)"
   ]
  },
  {
   "cell_type": "code",
   "execution_count": 85,
   "metadata": {},
   "outputs": [
    {
     "name": "stdout",
     "output_type": "stream",
     "text": [
      "MSE train: 185.308, test: 354.916\n",
      "R^2 train: 0.953, test: 0.903\n"
     ]
    }
   ],
   "source": [
    "#train XGBoost model\n",
    "xgb = xgboost.XGBRegressor(n_estimators=100, learning_rate=0.08, gamma=0, subsample=0.75,\n",
    "                           colsample_bytree=1, max_depth=7)\n",
    "xgb.fit(X_train,y_train)\n",
    "\n",
    "#calculate and print scores for the model for top 15 features\n",
    "y_train_preds = xgb.predict(X_train)\n",
    "y_test_preds = xgb.predict(X_test)\n",
    "\n",
    "print('MSE train: %.3f, test: %.3f' % (\n",
    "        mean_squared_error(y_train, y_train_preds),\n",
    "        mean_squared_error(y_test, y_test_preds)))\n",
    "print('R^2 train: %.3f, test: %.3f' % (\n",
    "        r2_score(y_train, y_train_preds),\n",
    "        r2_score(y_test, y_test_preds)))"
   ]
  },
  {
   "cell_type": "markdown",
   "metadata": {},
   "source": [
    "As we see R^2 score is not bad. So now we can try to predict, how many votes will score __[one of my recent kernels](https://www.kaggle.com/aleksandradeis/bank-marketing-analysis)__:"
   ]
  },
  {
   "cell_type": "code",
   "execution_count": 86,
   "metadata": {},
   "outputs": [],
   "source": [
    "data = np.array([2, 365, 8, 1, 30, 2070, 1, 0, 1, 0, 0, 1, 0, 1, 0, 0, 0, 0, 0, 0, 0, 0, 0, 0, 0, 0, 0, 0])\n",
    "columns = X_train.columns.values\n",
    "\n",
    "bm_kernel = pd.DataFrame(data = [data], columns = columns)"
   ]
  },
  {
   "cell_type": "code",
   "execution_count": 87,
   "metadata": {},
   "outputs": [
    {
     "data": {
      "text/plain": [
       "array([2.8668377], dtype=float32)"
      ]
     },
     "execution_count": 87,
     "metadata": {},
     "output_type": "execute_result"
    }
   ],
   "source": [
    "predict_votes = xgb.predict(bm_kernel)\n",
    "predict_votes"
   ]
  },
  {
   "cell_type": "markdown",
   "metadata": {},
   "source": [
    "So the model predicts me to have around 2 votes for my recent kernel. Well, I'm still hopeful :)"
   ]
  },
  {
   "cell_type": "markdown",
   "metadata": {},
   "source": [
    "## Conclusion"
   ]
  },
  {
   "cell_type": "markdown",
   "metadata": {},
   "source": [
    "In conclusion, I would like to summarize all the findings and recommendations from this analysis:\n",
    "\n",
    "1. __It is hard to create a really helpful kernel, which will be appreciated and upvoted by Kagglers__: only 20% of kernels have upvotes and only 4% of kernels have awards (have more than 5 upvotes).\n",
    "2. __Views and comments bring upvotes__: consider adding a captivating title to the kernel and sharing the link to the kernel with others, the more people will view the kernel - the more people will find it useful.\n",
    "3. __Active authors have more votes__: try to be an active author and gain visibility, experience in writing kernels and feedback from the others will eventually help to get votes.\n",
    "4. __It doesn't really matter what topic the kernel is related to, but it matters how the kernel material is presented__: notebooks tend to be more appreciated by Kagglers."
   ]
  }
 ],
 "metadata": {
  "kernelspec": {
   "display_name": "Python 3",
   "language": "python",
   "name": "python3"
  },
  "language_info": {
   "codemirror_mode": {
    "name": "ipython",
    "version": 3
   },
   "file_extension": ".py",
   "mimetype": "text/x-python",
   "name": "python",
   "nbconvert_exporter": "python",
   "pygments_lexer": "ipython3",
   "version": "3.6.8"
  }
 },
 "nbformat": 4,
 "nbformat_minor": 2
}
