{
 "cells": [
  {
   "cell_type": "markdown",
   "metadata": {},
   "source": [
    "# How to get upvotes for a kernel on Kaggle?"
   ]
  },
  {
   "cell_type": "code",
   "execution_count": 2,
   "metadata": {},
   "outputs": [],
   "source": [
    "#import linear algebra and data manipulation libraries\n",
    "import numpy as np\n",
    "import pandas as pd\n",
    "\n",
    "#import standard visualization\n",
    "import matplotlib.pyplot as plt\n",
    "import seaborn as sns"
   ]
  },
  {
   "cell_type": "code",
   "execution_count": 11,
   "metadata": {},
   "outputs": [
    {
     "data": {
      "text/html": [
       "<script type=\"text/javascript\">window.PlotlyConfig = {MathJaxConfig: 'local'};</script><script type=\"text/javascript\">if (window.MathJax) {MathJax.Hub.Config({SVG: {font: \"STIX-Web\"}});}</script><script>requirejs.config({paths: { 'plotly': ['https://cdn.plot.ly/plotly-latest.min']},});if(!window._Plotly) {require(['plotly'],function(plotly) {window._Plotly=plotly;});}</script>"
      ],
      "text/vnd.plotly.v1+html": [
       "<script type=\"text/javascript\">window.PlotlyConfig = {MathJaxConfig: 'local'};</script><script type=\"text/javascript\">if (window.MathJax) {MathJax.Hub.Config({SVG: {font: \"STIX-Web\"}});}</script><script>requirejs.config({paths: { 'plotly': ['https://cdn.plot.ly/plotly-latest.min']},});if(!window._Plotly) {require(['plotly'],function(plotly) {window._Plotly=plotly;});}</script>"
      ]
     },
     "metadata": {},
     "output_type": "display_data"
    },
    {
     "data": {
      "text/html": [
       "<script type=\"text/javascript\">window.PlotlyConfig = {MathJaxConfig: 'local'};</script><script type=\"text/javascript\">if (window.MathJax) {MathJax.Hub.Config({SVG: {font: \"STIX-Web\"}});}</script><script>requirejs.config({paths: { 'plotly': ['https://cdn.plot.ly/plotly-latest.min']},});if(!window._Plotly) {require(['plotly'],function(plotly) {window._Plotly=plotly;});}</script>"
      ],
      "text/vnd.plotly.v1+html": [
       "<script type=\"text/javascript\">window.PlotlyConfig = {MathJaxConfig: 'local'};</script><script type=\"text/javascript\">if (window.MathJax) {MathJax.Hub.Config({SVG: {font: \"STIX-Web\"}});}</script><script>requirejs.config({paths: { 'plotly': ['https://cdn.plot.ly/plotly-latest.min']},});if(!window._Plotly) {require(['plotly'],function(plotly) {window._Plotly=plotly;});}</script>"
      ]
     },
     "metadata": {},
     "output_type": "display_data"
    }
   ],
   "source": [
    "# import plotly\n",
    "import plotly.plotly as py\n",
    "import plotly.graph_objs as go\n",
    "from plotly.offline import iplot, init_notebook_mode\n",
    "from plotly import tools\n",
    "\n",
    "# plotly and cufflinks in offline mode\n",
    "import cufflinks as cf\n",
    "cf.go_offline(connected=True)\n",
    "init_notebook_mode(connected=True)"
   ]
  },
  {
   "cell_type": "code",
   "execution_count": 65,
   "metadata": {},
   "outputs": [],
   "source": [
    "#import machine learning\n",
    "\n",
    "from sklearn.linear_model import LinearRegression"
   ]
  },
  {
   "cell_type": "markdown",
   "metadata": {},
   "source": [
    "## Introduction"
   ]
  },
  {
   "cell_type": "markdown",
   "metadata": {},
   "source": [
    "I have recently joined Kaggle and started to create public kernels. My kernels have a lot of views, but no upvotes. So I decided to analyze Meta Kaggle dataset to find out:\n",
    "* Statistics for kernels, which were awarded medals and have a lot of upvotes.\n",
    "* Characteristics of awarded kernels.\n",
    "* And finally, reveal the recommendations on how to make the kernel useful, so other kagglers would cast upvotes."
   ]
  },
  {
   "cell_type": "markdown",
   "metadata": {},
   "source": [
    "## Import datasets related to kernels"
   ]
  },
  {
   "cell_type": "code",
   "execution_count": 113,
   "metadata": {},
   "outputs": [],
   "source": [
    "#import datasets\n",
    "\n",
    "kernels = pd.read_csv('meta-kaggle/Kernels.csv')\n",
    "kernel_lang = pd.read_csv('meta-kaggle/KernelLanguages.csv')\n",
    "kernel_tags = pd.read_csv('meta-kaggle/KernelTags.csv')\n",
    "kernel_votes = pd.read_csv('meta-kaggle/KernelVotes.csv')\n",
    "kernel_versions = pd.read_csv('meta-kaggle/KernelVersions.csv')\n",
    "kernel_competitions = pd.read_csv('meta-kaggle/KernelVersionCompetitionSources.csv')\n",
    "kernel_users = pd.read_csv('meta-kaggle/Users.csv')\n",
    "datasets = pd.read_csv('meta-kaggle/Datasets.csv')\n",
    "kernel_datasets = pd.read_csv('meta-kaggle/KernelVersionDatasetSources.csv')\n",
    "dataset_versions = pd.read_csv('meta-kaggle/DatasetVersions.csv')\n",
    "\n",
    "tags = pd.read_csv('meta-kaggle/Tags.csv')\n",
    "competitions = pd.read_csv('meta-kaggle/Competitions.csv')"
   ]
  },
  {
   "cell_type": "code",
   "execution_count": 5,
   "metadata": {},
   "outputs": [
    {
     "data": {
      "text/html": [
       "<div>\n",
       "<style scoped>\n",
       "    .dataframe tbody tr th:only-of-type {\n",
       "        vertical-align: middle;\n",
       "    }\n",
       "\n",
       "    .dataframe tbody tr th {\n",
       "        vertical-align: top;\n",
       "    }\n",
       "\n",
       "    .dataframe thead th {\n",
       "        text-align: right;\n",
       "    }\n",
       "</style>\n",
       "<table border=\"1\" class=\"dataframe\">\n",
       "  <thead>\n",
       "    <tr style=\"text-align: right;\">\n",
       "      <th></th>\n",
       "      <th>Id</th>\n",
       "      <th>AuthorUserId</th>\n",
       "      <th>CurrentKernelVersionId</th>\n",
       "      <th>ForkParentKernelVersionId</th>\n",
       "      <th>ForumTopicId</th>\n",
       "      <th>FirstKernelVersionId</th>\n",
       "      <th>CreationDate</th>\n",
       "      <th>EvaluationDate</th>\n",
       "      <th>MadePublicDate</th>\n",
       "      <th>IsProjectLanguageTemplate</th>\n",
       "      <th>CurrentUrlSlug</th>\n",
       "      <th>Medal</th>\n",
       "      <th>MedalAwardDate</th>\n",
       "      <th>TotalViews</th>\n",
       "      <th>TotalComments</th>\n",
       "      <th>TotalVotes</th>\n",
       "    </tr>\n",
       "  </thead>\n",
       "  <tbody>\n",
       "    <tr>\n",
       "      <th>0</th>\n",
       "      <td>1</td>\n",
       "      <td>2505</td>\n",
       "      <td>205.0</td>\n",
       "      <td>NaN</td>\n",
       "      <td>NaN</td>\n",
       "      <td>1.0</td>\n",
       "      <td>3/25/2015 6:25:32 PM</td>\n",
       "      <td>3/23/2018</td>\n",
       "      <td>3/25/2015</td>\n",
       "      <td>False</td>\n",
       "      <td>hello</td>\n",
       "      <td>NaN</td>\n",
       "      <td>NaN</td>\n",
       "      <td>25</td>\n",
       "      <td>0</td>\n",
       "      <td>0</td>\n",
       "    </tr>\n",
       "    <tr>\n",
       "      <th>1</th>\n",
       "      <td>2</td>\n",
       "      <td>3716</td>\n",
       "      <td>1748.0</td>\n",
       "      <td>NaN</td>\n",
       "      <td>26670.0</td>\n",
       "      <td>2.0</td>\n",
       "      <td>3/25/2015 6:31:07 PM</td>\n",
       "      <td>4/16/2015</td>\n",
       "      <td>3/25/2015</td>\n",
       "      <td>False</td>\n",
       "      <td>rf-proximity</td>\n",
       "      <td>3.0</td>\n",
       "      <td>7/15/2016</td>\n",
       "      <td>7604</td>\n",
       "      <td>1</td>\n",
       "      <td>12</td>\n",
       "    </tr>\n",
       "    <tr>\n",
       "      <th>2</th>\n",
       "      <td>4</td>\n",
       "      <td>3716</td>\n",
       "      <td>41.0</td>\n",
       "      <td>NaN</td>\n",
       "      <td>NaN</td>\n",
       "      <td>9.0</td>\n",
       "      <td>3/25/2015 9:57:36 PM</td>\n",
       "      <td>3/23/2018</td>\n",
       "      <td>3/25/2015</td>\n",
       "      <td>False</td>\n",
       "      <td>r-version</td>\n",
       "      <td>NaN</td>\n",
       "      <td>NaN</td>\n",
       "      <td>9</td>\n",
       "      <td>0</td>\n",
       "      <td>0</td>\n",
       "    </tr>\n",
       "    <tr>\n",
       "      <th>3</th>\n",
       "      <td>5</td>\n",
       "      <td>28963</td>\n",
       "      <td>19.0</td>\n",
       "      <td>NaN</td>\n",
       "      <td>NaN</td>\n",
       "      <td>13.0</td>\n",
       "      <td>3/25/2015 10:01:04 PM</td>\n",
       "      <td>3/23/2018</td>\n",
       "      <td>3/25/2015</td>\n",
       "      <td>False</td>\n",
       "      <td>test1</td>\n",
       "      <td>NaN</td>\n",
       "      <td>NaN</td>\n",
       "      <td>9</td>\n",
       "      <td>0</td>\n",
       "      <td>0</td>\n",
       "    </tr>\n",
       "    <tr>\n",
       "      <th>4</th>\n",
       "      <td>6</td>\n",
       "      <td>3716</td>\n",
       "      <td>21.0</td>\n",
       "      <td>NaN</td>\n",
       "      <td>NaN</td>\n",
       "      <td>15.0</td>\n",
       "      <td>3/25/2015 10:19:00 PM</td>\n",
       "      <td>3/23/2018</td>\n",
       "      <td>3/25/2015</td>\n",
       "      <td>False</td>\n",
       "      <td>are-icons-missing</td>\n",
       "      <td>NaN</td>\n",
       "      <td>NaN</td>\n",
       "      <td>7</td>\n",
       "      <td>0</td>\n",
       "      <td>0</td>\n",
       "    </tr>\n",
       "  </tbody>\n",
       "</table>\n",
       "</div>"
      ],
      "text/plain": [
       "   Id  AuthorUserId  CurrentKernelVersionId  ForkParentKernelVersionId  \\\n",
       "0   1          2505                   205.0                        NaN   \n",
       "1   2          3716                  1748.0                        NaN   \n",
       "2   4          3716                    41.0                        NaN   \n",
       "3   5         28963                    19.0                        NaN   \n",
       "4   6          3716                    21.0                        NaN   \n",
       "\n",
       "   ForumTopicId  FirstKernelVersionId           CreationDate EvaluationDate  \\\n",
       "0           NaN                   1.0   3/25/2015 6:25:32 PM      3/23/2018   \n",
       "1       26670.0                   2.0   3/25/2015 6:31:07 PM      4/16/2015   \n",
       "2           NaN                   9.0   3/25/2015 9:57:36 PM      3/23/2018   \n",
       "3           NaN                  13.0  3/25/2015 10:01:04 PM      3/23/2018   \n",
       "4           NaN                  15.0  3/25/2015 10:19:00 PM      3/23/2018   \n",
       "\n",
       "  MadePublicDate  IsProjectLanguageTemplate     CurrentUrlSlug  Medal  \\\n",
       "0      3/25/2015                      False              hello    NaN   \n",
       "1      3/25/2015                      False       rf-proximity    3.0   \n",
       "2      3/25/2015                      False          r-version    NaN   \n",
       "3      3/25/2015                      False              test1    NaN   \n",
       "4      3/25/2015                      False  are-icons-missing    NaN   \n",
       "\n",
       "  MedalAwardDate  TotalViews  TotalComments  TotalVotes  \n",
       "0            NaN          25              0           0  \n",
       "1      7/15/2016        7604              1          12  \n",
       "2            NaN           9              0           0  \n",
       "3            NaN           9              0           0  \n",
       "4            NaN           7              0           0  "
      ]
     },
     "execution_count": 5,
     "metadata": {},
     "output_type": "execute_result"
    }
   ],
   "source": [
    "kernels.head()"
   ]
  },
  {
   "cell_type": "code",
   "execution_count": 7,
   "metadata": {},
   "outputs": [
    {
     "data": {
      "text/html": [
       "<div>\n",
       "<style scoped>\n",
       "    .dataframe tbody tr th:only-of-type {\n",
       "        vertical-align: middle;\n",
       "    }\n",
       "\n",
       "    .dataframe tbody tr th {\n",
       "        vertical-align: top;\n",
       "    }\n",
       "\n",
       "    .dataframe thead th {\n",
       "        text-align: right;\n",
       "    }\n",
       "</style>\n",
       "<table border=\"1\" class=\"dataframe\">\n",
       "  <thead>\n",
       "    <tr style=\"text-align: right;\">\n",
       "      <th></th>\n",
       "      <th>Id</th>\n",
       "      <th>Name</th>\n",
       "      <th>DisplayName</th>\n",
       "      <th>IsNotebook</th>\n",
       "    </tr>\n",
       "  </thead>\n",
       "  <tbody>\n",
       "    <tr>\n",
       "      <th>0</th>\n",
       "      <td>1</td>\n",
       "      <td>R</td>\n",
       "      <td>R</td>\n",
       "      <td>False</td>\n",
       "    </tr>\n",
       "    <tr>\n",
       "      <th>1</th>\n",
       "      <td>2</td>\n",
       "      <td>Python</td>\n",
       "      <td>Python</td>\n",
       "      <td>False</td>\n",
       "    </tr>\n",
       "    <tr>\n",
       "      <th>2</th>\n",
       "      <td>5</td>\n",
       "      <td>RMarkdown</td>\n",
       "      <td>R</td>\n",
       "      <td>False</td>\n",
       "    </tr>\n",
       "    <tr>\n",
       "      <th>3</th>\n",
       "      <td>8</td>\n",
       "      <td>IPython Notebook</td>\n",
       "      <td>Python</td>\n",
       "      <td>True</td>\n",
       "    </tr>\n",
       "    <tr>\n",
       "      <th>4</th>\n",
       "      <td>9</td>\n",
       "      <td>IPython Notebook HTML</td>\n",
       "      <td>Python</td>\n",
       "      <td>False</td>\n",
       "    </tr>\n",
       "  </tbody>\n",
       "</table>\n",
       "</div>"
      ],
      "text/plain": [
       "   Id                   Name DisplayName  IsNotebook\n",
       "0   1                      R           R       False\n",
       "1   2                 Python      Python       False\n",
       "2   5              RMarkdown           R       False\n",
       "3   8       IPython Notebook      Python        True\n",
       "4   9  IPython Notebook HTML      Python       False"
      ]
     },
     "execution_count": 7,
     "metadata": {},
     "output_type": "execute_result"
    }
   ],
   "source": [
    "kernel_lang.head()"
   ]
  },
  {
   "cell_type": "code",
   "execution_count": 8,
   "metadata": {},
   "outputs": [
    {
     "data": {
      "text/html": [
       "<div>\n",
       "<style scoped>\n",
       "    .dataframe tbody tr th:only-of-type {\n",
       "        vertical-align: middle;\n",
       "    }\n",
       "\n",
       "    .dataframe tbody tr th {\n",
       "        vertical-align: top;\n",
       "    }\n",
       "\n",
       "    .dataframe thead th {\n",
       "        text-align: right;\n",
       "    }\n",
       "</style>\n",
       "<table border=\"1\" class=\"dataframe\">\n",
       "  <thead>\n",
       "    <tr style=\"text-align: right;\">\n",
       "      <th></th>\n",
       "      <th>Id</th>\n",
       "      <th>KernelId</th>\n",
       "      <th>TagId</th>\n",
       "    </tr>\n",
       "  </thead>\n",
       "  <tbody>\n",
       "    <tr>\n",
       "      <th>0</th>\n",
       "      <td>33359</td>\n",
       "      <td>1740620</td>\n",
       "      <td>4141</td>\n",
       "    </tr>\n",
       "    <tr>\n",
       "      <th>1</th>\n",
       "      <td>33358</td>\n",
       "      <td>1740620</td>\n",
       "      <td>3004</td>\n",
       "    </tr>\n",
       "    <tr>\n",
       "      <th>2</th>\n",
       "      <td>33362</td>\n",
       "      <td>1740620</td>\n",
       "      <td>13202</td>\n",
       "    </tr>\n",
       "    <tr>\n",
       "      <th>3</th>\n",
       "      <td>33360</td>\n",
       "      <td>1740620</td>\n",
       "      <td>7408</td>\n",
       "    </tr>\n",
       "    <tr>\n",
       "      <th>4</th>\n",
       "      <td>33357</td>\n",
       "      <td>1740620</td>\n",
       "      <td>2605</td>\n",
       "    </tr>\n",
       "  </tbody>\n",
       "</table>\n",
       "</div>"
      ],
      "text/plain": [
       "      Id  KernelId  TagId\n",
       "0  33359   1740620   4141\n",
       "1  33358   1740620   3004\n",
       "2  33362   1740620  13202\n",
       "3  33360   1740620   7408\n",
       "4  33357   1740620   2605"
      ]
     },
     "execution_count": 8,
     "metadata": {},
     "output_type": "execute_result"
    }
   ],
   "source": [
    "kernel_tags.head()"
   ]
  },
  {
   "cell_type": "code",
   "execution_count": 9,
   "metadata": {},
   "outputs": [
    {
     "data": {
      "text/html": [
       "<div>\n",
       "<style scoped>\n",
       "    .dataframe tbody tr th:only-of-type {\n",
       "        vertical-align: middle;\n",
       "    }\n",
       "\n",
       "    .dataframe tbody tr th {\n",
       "        vertical-align: top;\n",
       "    }\n",
       "\n",
       "    .dataframe thead th {\n",
       "        text-align: right;\n",
       "    }\n",
       "</style>\n",
       "<table border=\"1\" class=\"dataframe\">\n",
       "  <thead>\n",
       "    <tr style=\"text-align: right;\">\n",
       "      <th></th>\n",
       "      <th>Id</th>\n",
       "      <th>UserId</th>\n",
       "      <th>KernelVersionId</th>\n",
       "      <th>VoteDate</th>\n",
       "    </tr>\n",
       "  </thead>\n",
       "  <tbody>\n",
       "    <tr>\n",
       "      <th>0</th>\n",
       "      <td>456760</td>\n",
       "      <td>2234887</td>\n",
       "      <td>5301226</td>\n",
       "      <td>11/8/2018</td>\n",
       "    </tr>\n",
       "    <tr>\n",
       "      <th>1</th>\n",
       "      <td>457004</td>\n",
       "      <td>556640</td>\n",
       "      <td>5301226</td>\n",
       "      <td>11/8/2018</td>\n",
       "    </tr>\n",
       "    <tr>\n",
       "      <th>2</th>\n",
       "      <td>457286</td>\n",
       "      <td>1987798</td>\n",
       "      <td>5301226</td>\n",
       "      <td>11/8/2018</td>\n",
       "    </tr>\n",
       "    <tr>\n",
       "      <th>3</th>\n",
       "      <td>476618</td>\n",
       "      <td>2409821</td>\n",
       "      <td>5301226</td>\n",
       "      <td>11/22/2018</td>\n",
       "    </tr>\n",
       "    <tr>\n",
       "      <th>4</th>\n",
       "      <td>476776</td>\n",
       "      <td>1329015</td>\n",
       "      <td>5301226</td>\n",
       "      <td>11/22/2018</td>\n",
       "    </tr>\n",
       "  </tbody>\n",
       "</table>\n",
       "</div>"
      ],
      "text/plain": [
       "       Id   UserId  KernelVersionId    VoteDate\n",
       "0  456760  2234887          5301226   11/8/2018\n",
       "1  457004   556640          5301226   11/8/2018\n",
       "2  457286  1987798          5301226   11/8/2018\n",
       "3  476618  2409821          5301226  11/22/2018\n",
       "4  476776  1329015          5301226  11/22/2018"
      ]
     },
     "execution_count": 9,
     "metadata": {},
     "output_type": "execute_result"
    }
   ],
   "source": [
    "kernel_votes.head()"
   ]
  },
  {
   "cell_type": "code",
   "execution_count": 10,
   "metadata": {},
   "outputs": [
    {
     "data": {
      "text/html": [
       "<div>\n",
       "<style scoped>\n",
       "    .dataframe tbody tr th:only-of-type {\n",
       "        vertical-align: middle;\n",
       "    }\n",
       "\n",
       "    .dataframe tbody tr th {\n",
       "        vertical-align: top;\n",
       "    }\n",
       "\n",
       "    .dataframe thead th {\n",
       "        text-align: right;\n",
       "    }\n",
       "</style>\n",
       "<table border=\"1\" class=\"dataframe\">\n",
       "  <thead>\n",
       "    <tr style=\"text-align: right;\">\n",
       "      <th></th>\n",
       "      <th>Id</th>\n",
       "      <th>KernelId</th>\n",
       "      <th>ParentKernelVersionId</th>\n",
       "      <th>KernelLanguageId</th>\n",
       "      <th>AuthorUserId</th>\n",
       "      <th>CreationDate</th>\n",
       "      <th>VersionNumber</th>\n",
       "      <th>Title</th>\n",
       "      <th>EvaluationDate</th>\n",
       "      <th>IsChange</th>\n",
       "      <th>TotalLines</th>\n",
       "      <th>LinesInsertedFromPrevious</th>\n",
       "      <th>LinesChangedFromPrevious</th>\n",
       "      <th>LinesUnchangedFromPrevious</th>\n",
       "      <th>LinesInsertedFromFork</th>\n",
       "      <th>LinesDeletedFromFork</th>\n",
       "      <th>LinesChangedFromFork</th>\n",
       "      <th>LinesUnchangedFromFork</th>\n",
       "      <th>TotalVotes</th>\n",
       "    </tr>\n",
       "  </thead>\n",
       "  <tbody>\n",
       "    <tr>\n",
       "      <th>0</th>\n",
       "      <td>1</td>\n",
       "      <td>1</td>\n",
       "      <td>NaN</td>\n",
       "      <td>1</td>\n",
       "      <td>2505</td>\n",
       "      <td>3/25/2015 6:25:32 PM</td>\n",
       "      <td>1.0</td>\n",
       "      <td>hello</td>\n",
       "      <td>3/23/2018</td>\n",
       "      <td>True</td>\n",
       "      <td>1.0</td>\n",
       "      <td>NaN</td>\n",
       "      <td>NaN</td>\n",
       "      <td>NaN</td>\n",
       "      <td>NaN</td>\n",
       "      <td>NaN</td>\n",
       "      <td>NaN</td>\n",
       "      <td>NaN</td>\n",
       "      <td>0</td>\n",
       "    </tr>\n",
       "    <tr>\n",
       "      <th>1</th>\n",
       "      <td>2</td>\n",
       "      <td>2</td>\n",
       "      <td>NaN</td>\n",
       "      <td>1</td>\n",
       "      <td>3716</td>\n",
       "      <td>3/25/2015 6:31:07 PM</td>\n",
       "      <td>1.0</td>\n",
       "      <td>RF Proximity</td>\n",
       "      <td>3/23/2018</td>\n",
       "      <td>True</td>\n",
       "      <td>79.0</td>\n",
       "      <td>NaN</td>\n",
       "      <td>NaN</td>\n",
       "      <td>NaN</td>\n",
       "      <td>NaN</td>\n",
       "      <td>NaN</td>\n",
       "      <td>NaN</td>\n",
       "      <td>NaN</td>\n",
       "      <td>0</td>\n",
       "    </tr>\n",
       "    <tr>\n",
       "      <th>2</th>\n",
       "      <td>8</td>\n",
       "      <td>2</td>\n",
       "      <td>NaN</td>\n",
       "      <td>1</td>\n",
       "      <td>3716</td>\n",
       "      <td>3/25/2015 6:51:15 PM</td>\n",
       "      <td>2.0</td>\n",
       "      <td>RF Proximity</td>\n",
       "      <td>3/23/2018</td>\n",
       "      <td>True</td>\n",
       "      <td>79.0</td>\n",
       "      <td>0.0</td>\n",
       "      <td>0.0</td>\n",
       "      <td>80.0</td>\n",
       "      <td>NaN</td>\n",
       "      <td>NaN</td>\n",
       "      <td>NaN</td>\n",
       "      <td>NaN</td>\n",
       "      <td>0</td>\n",
       "    </tr>\n",
       "    <tr>\n",
       "      <th>3</th>\n",
       "      <td>9</td>\n",
       "      <td>4</td>\n",
       "      <td>NaN</td>\n",
       "      <td>1</td>\n",
       "      <td>3716</td>\n",
       "      <td>3/25/2015 9:57:36 PM</td>\n",
       "      <td>1.0</td>\n",
       "      <td>R version</td>\n",
       "      <td>3/23/2018</td>\n",
       "      <td>True</td>\n",
       "      <td>1.0</td>\n",
       "      <td>NaN</td>\n",
       "      <td>NaN</td>\n",
       "      <td>NaN</td>\n",
       "      <td>NaN</td>\n",
       "      <td>NaN</td>\n",
       "      <td>NaN</td>\n",
       "      <td>NaN</td>\n",
       "      <td>0</td>\n",
       "    </tr>\n",
       "    <tr>\n",
       "      <th>4</th>\n",
       "      <td>10</td>\n",
       "      <td>4</td>\n",
       "      <td>NaN</td>\n",
       "      <td>1</td>\n",
       "      <td>3716</td>\n",
       "      <td>3/25/2015 9:57:44 PM</td>\n",
       "      <td>2.0</td>\n",
       "      <td>R version</td>\n",
       "      <td>3/23/2018</td>\n",
       "      <td>True</td>\n",
       "      <td>1.0</td>\n",
       "      <td>0.0</td>\n",
       "      <td>0.0</td>\n",
       "      <td>2.0</td>\n",
       "      <td>NaN</td>\n",
       "      <td>NaN</td>\n",
       "      <td>NaN</td>\n",
       "      <td>NaN</td>\n",
       "      <td>0</td>\n",
       "    </tr>\n",
       "  </tbody>\n",
       "</table>\n",
       "</div>"
      ],
      "text/plain": [
       "   Id  KernelId  ParentKernelVersionId  KernelLanguageId  AuthorUserId  \\\n",
       "0   1         1                    NaN                 1          2505   \n",
       "1   2         2                    NaN                 1          3716   \n",
       "2   8         2                    NaN                 1          3716   \n",
       "3   9         4                    NaN                 1          3716   \n",
       "4  10         4                    NaN                 1          3716   \n",
       "\n",
       "           CreationDate  VersionNumber         Title EvaluationDate  IsChange  \\\n",
       "0  3/25/2015 6:25:32 PM            1.0         hello      3/23/2018      True   \n",
       "1  3/25/2015 6:31:07 PM            1.0  RF Proximity      3/23/2018      True   \n",
       "2  3/25/2015 6:51:15 PM            2.0  RF Proximity      3/23/2018      True   \n",
       "3  3/25/2015 9:57:36 PM            1.0     R version      3/23/2018      True   \n",
       "4  3/25/2015 9:57:44 PM            2.0     R version      3/23/2018      True   \n",
       "\n",
       "   TotalLines  LinesInsertedFromPrevious  LinesChangedFromPrevious  \\\n",
       "0         1.0                        NaN                       NaN   \n",
       "1        79.0                        NaN                       NaN   \n",
       "2        79.0                        0.0                       0.0   \n",
       "3         1.0                        NaN                       NaN   \n",
       "4         1.0                        0.0                       0.0   \n",
       "\n",
       "   LinesUnchangedFromPrevious  LinesInsertedFromFork  LinesDeletedFromFork  \\\n",
       "0                         NaN                    NaN                   NaN   \n",
       "1                         NaN                    NaN                   NaN   \n",
       "2                        80.0                    NaN                   NaN   \n",
       "3                         NaN                    NaN                   NaN   \n",
       "4                         2.0                    NaN                   NaN   \n",
       "\n",
       "   LinesChangedFromFork  LinesUnchangedFromFork  TotalVotes  \n",
       "0                   NaN                     NaN           0  \n",
       "1                   NaN                     NaN           0  \n",
       "2                   NaN                     NaN           0  \n",
       "3                   NaN                     NaN           0  \n",
       "4                   NaN                     NaN           0  "
      ]
     },
     "execution_count": 10,
     "metadata": {},
     "output_type": "execute_result"
    }
   ],
   "source": [
    "kernel_versions.head()"
   ]
  },
  {
   "cell_type": "code",
   "execution_count": 16,
   "metadata": {},
   "outputs": [
    {
     "data": {
      "text/html": [
       "<div>\n",
       "<style scoped>\n",
       "    .dataframe tbody tr th:only-of-type {\n",
       "        vertical-align: middle;\n",
       "    }\n",
       "\n",
       "    .dataframe tbody tr th {\n",
       "        vertical-align: top;\n",
       "    }\n",
       "\n",
       "    .dataframe thead th {\n",
       "        text-align: right;\n",
       "    }\n",
       "</style>\n",
       "<table border=\"1\" class=\"dataframe\">\n",
       "  <thead>\n",
       "    <tr style=\"text-align: right;\">\n",
       "      <th></th>\n",
       "      <th>Id</th>\n",
       "      <th>KernelVersionId</th>\n",
       "      <th>SourceCompetitionId</th>\n",
       "    </tr>\n",
       "  </thead>\n",
       "  <tbody>\n",
       "    <tr>\n",
       "      <th>0</th>\n",
       "      <td>999822</td>\n",
       "      <td>116734</td>\n",
       "      <td>4594</td>\n",
       "    </tr>\n",
       "    <tr>\n",
       "      <th>1</th>\n",
       "      <td>971354</td>\n",
       "      <td>116747</td>\n",
       "      <td>4594</td>\n",
       "    </tr>\n",
       "    <tr>\n",
       "      <th>2</th>\n",
       "      <td>999825</td>\n",
       "      <td>116842</td>\n",
       "      <td>4594</td>\n",
       "    </tr>\n",
       "    <tr>\n",
       "      <th>3</th>\n",
       "      <td>996732</td>\n",
       "      <td>116696</td>\n",
       "      <td>4594</td>\n",
       "    </tr>\n",
       "    <tr>\n",
       "      <th>4</th>\n",
       "      <td>998089</td>\n",
       "      <td>116725</td>\n",
       "      <td>4594</td>\n",
       "    </tr>\n",
       "  </tbody>\n",
       "</table>\n",
       "</div>"
      ],
      "text/plain": [
       "       Id  KernelVersionId  SourceCompetitionId\n",
       "0  999822           116734                 4594\n",
       "1  971354           116747                 4594\n",
       "2  999825           116842                 4594\n",
       "3  996732           116696                 4594\n",
       "4  998089           116725                 4594"
      ]
     },
     "execution_count": 16,
     "metadata": {},
     "output_type": "execute_result"
    }
   ],
   "source": [
    "kernel_competitions.head()"
   ]
  },
  {
   "cell_type": "code",
   "execution_count": 18,
   "metadata": {},
   "outputs": [
    {
     "data": {
      "text/html": [
       "<div>\n",
       "<style scoped>\n",
       "    .dataframe tbody tr th:only-of-type {\n",
       "        vertical-align: middle;\n",
       "    }\n",
       "\n",
       "    .dataframe tbody tr th {\n",
       "        vertical-align: top;\n",
       "    }\n",
       "\n",
       "    .dataframe thead th {\n",
       "        text-align: right;\n",
       "    }\n",
       "</style>\n",
       "<table border=\"1\" class=\"dataframe\">\n",
       "  <thead>\n",
       "    <tr style=\"text-align: right;\">\n",
       "      <th></th>\n",
       "      <th>Id</th>\n",
       "      <th>ParentTagId</th>\n",
       "      <th>Name</th>\n",
       "      <th>Slug</th>\n",
       "      <th>FullPath</th>\n",
       "      <th>Description</th>\n",
       "      <th>DatasetCount</th>\n",
       "      <th>CompetitionCount</th>\n",
       "      <th>KernelCount</th>\n",
       "    </tr>\n",
       "  </thead>\n",
       "  <tbody>\n",
       "    <tr>\n",
       "      <th>0</th>\n",
       "      <td>1000</td>\n",
       "      <td>NaN</td>\n",
       "      <td>general reference</td>\n",
       "      <td>general-reference</td>\n",
       "      <td>general reference</td>\n",
       "      <td>NaN</td>\n",
       "      <td>0</td>\n",
       "      <td>0</td>\n",
       "      <td>0</td>\n",
       "    </tr>\n",
       "    <tr>\n",
       "      <th>1</th>\n",
       "      <td>1100</td>\n",
       "      <td>1000.0</td>\n",
       "      <td>reference works</td>\n",
       "      <td>reference-works</td>\n",
       "      <td>general reference &gt; reference works</td>\n",
       "      <td>NaN</td>\n",
       "      <td>0</td>\n",
       "      <td>0</td>\n",
       "      <td>0</td>\n",
       "    </tr>\n",
       "    <tr>\n",
       "      <th>2</th>\n",
       "      <td>1103</td>\n",
       "      <td>1100.0</td>\n",
       "      <td>biography</td>\n",
       "      <td>biography</td>\n",
       "      <td>general reference &gt; reference works &gt; biography</td>\n",
       "      <td>Who did what and when? This tag contains infor...</td>\n",
       "      <td>3</td>\n",
       "      <td>0</td>\n",
       "      <td>0</td>\n",
       "    </tr>\n",
       "    <tr>\n",
       "      <th>3</th>\n",
       "      <td>1104</td>\n",
       "      <td>1100.0</td>\n",
       "      <td>dictionaries</td>\n",
       "      <td>dictionaries</td>\n",
       "      <td>general reference &gt; reference works &gt; dictiona...</td>\n",
       "      <td>A dictionary, sometimes known as a wordbook, i...</td>\n",
       "      <td>6</td>\n",
       "      <td>0</td>\n",
       "      <td>2</td>\n",
       "    </tr>\n",
       "    <tr>\n",
       "      <th>4</th>\n",
       "      <td>1106</td>\n",
       "      <td>1100.0</td>\n",
       "      <td>encyclopedias</td>\n",
       "      <td>encyclopedias</td>\n",
       "      <td>general reference &gt; reference works &gt; encyclop...</td>\n",
       "      <td>An encyclopedia is a reference work or compend...</td>\n",
       "      <td>1</td>\n",
       "      <td>0</td>\n",
       "      <td>0</td>\n",
       "    </tr>\n",
       "  </tbody>\n",
       "</table>\n",
       "</div>"
      ],
      "text/plain": [
       "     Id  ParentTagId               Name               Slug  \\\n",
       "0  1000          NaN  general reference  general-reference   \n",
       "1  1100       1000.0    reference works    reference-works   \n",
       "2  1103       1100.0          biography          biography   \n",
       "3  1104       1100.0       dictionaries       dictionaries   \n",
       "4  1106       1100.0      encyclopedias      encyclopedias   \n",
       "\n",
       "                                            FullPath  \\\n",
       "0                                  general reference   \n",
       "1                general reference > reference works   \n",
       "2    general reference > reference works > biography   \n",
       "3  general reference > reference works > dictiona...   \n",
       "4  general reference > reference works > encyclop...   \n",
       "\n",
       "                                         Description  DatasetCount  \\\n",
       "0                                                NaN             0   \n",
       "1                                                NaN             0   \n",
       "2  Who did what and when? This tag contains infor...             3   \n",
       "3  A dictionary, sometimes known as a wordbook, i...             6   \n",
       "4  An encyclopedia is a reference work or compend...             1   \n",
       "\n",
       "   CompetitionCount  KernelCount  \n",
       "0                 0            0  \n",
       "1                 0            0  \n",
       "2                 0            0  \n",
       "3                 0            2  \n",
       "4                 0            0  "
      ]
     },
     "execution_count": 18,
     "metadata": {},
     "output_type": "execute_result"
    }
   ],
   "source": [
    "tags.head()"
   ]
  },
  {
   "cell_type": "code",
   "execution_count": 19,
   "metadata": {},
   "outputs": [
    {
     "data": {
      "text/html": [
       "<div>\n",
       "<style scoped>\n",
       "    .dataframe tbody tr th:only-of-type {\n",
       "        vertical-align: middle;\n",
       "    }\n",
       "\n",
       "    .dataframe tbody tr th {\n",
       "        vertical-align: top;\n",
       "    }\n",
       "\n",
       "    .dataframe thead th {\n",
       "        text-align: right;\n",
       "    }\n",
       "</style>\n",
       "<table border=\"1\" class=\"dataframe\">\n",
       "  <thead>\n",
       "    <tr style=\"text-align: right;\">\n",
       "      <th></th>\n",
       "      <th>Id</th>\n",
       "      <th>Slug</th>\n",
       "      <th>Title</th>\n",
       "      <th>Subtitle</th>\n",
       "      <th>HostSegmentTitle</th>\n",
       "      <th>ForumId</th>\n",
       "      <th>OrganizationId</th>\n",
       "      <th>CompetitionTypeId</th>\n",
       "      <th>HostName</th>\n",
       "      <th>EnabledDate</th>\n",
       "      <th>...</th>\n",
       "      <th>EnableSubmissionModelHashes</th>\n",
       "      <th>EnableSubmissionModelAttachments</th>\n",
       "      <th>RewardType</th>\n",
       "      <th>RewardQuantity</th>\n",
       "      <th>NumPrizes</th>\n",
       "      <th>UserRankMultiplier</th>\n",
       "      <th>CanQualifyTiers</th>\n",
       "      <th>TotalTeams</th>\n",
       "      <th>TotalCompetitors</th>\n",
       "      <th>TotalSubmissions</th>\n",
       "    </tr>\n",
       "  </thead>\n",
       "  <tbody>\n",
       "    <tr>\n",
       "      <th>0</th>\n",
       "      <td>2408</td>\n",
       "      <td>Eurovision2010</td>\n",
       "      <td>Forecast Eurovision Voting</td>\n",
       "      <td>This competition requires contestants to forec...</td>\n",
       "      <td>Featured</td>\n",
       "      <td>2.0</td>\n",
       "      <td>NaN</td>\n",
       "      <td>1</td>\n",
       "      <td>NaN</td>\n",
       "      <td>4/7/2010 7:57:43 AM</td>\n",
       "      <td>...</td>\n",
       "      <td>False</td>\n",
       "      <td>False</td>\n",
       "      <td>USD</td>\n",
       "      <td>1000.0</td>\n",
       "      <td>1</td>\n",
       "      <td>1.0</td>\n",
       "      <td>False</td>\n",
       "      <td>22</td>\n",
       "      <td>25</td>\n",
       "      <td>22</td>\n",
       "    </tr>\n",
       "    <tr>\n",
       "      <th>1</th>\n",
       "      <td>8910</td>\n",
       "      <td>blg-454e-term-project-competition</td>\n",
       "      <td>BLG 454E Term Project Competition</td>\n",
       "      <td>ITU Computer and Informatics Faculty, BLG 454E...</td>\n",
       "      <td>InClass</td>\n",
       "      <td>24780.0</td>\n",
       "      <td>NaN</td>\n",
       "      <td>1</td>\n",
       "      <td>NaN</td>\n",
       "      <td>3/17/2018 7:08:56 PM</td>\n",
       "      <td>...</td>\n",
       "      <td>False</td>\n",
       "      <td>False</td>\n",
       "      <td>NaN</td>\n",
       "      <td>0.0</td>\n",
       "      <td>0</td>\n",
       "      <td>0.0</td>\n",
       "      <td>False</td>\n",
       "      <td>29</td>\n",
       "      <td>65</td>\n",
       "      <td>658</td>\n",
       "    </tr>\n",
       "    <tr>\n",
       "      <th>2</th>\n",
       "      <td>8916</td>\n",
       "      <td>test-xx</td>\n",
       "      <td>test-xx</td>\n",
       "      <td>this is a test</td>\n",
       "      <td>InClass</td>\n",
       "      <td>24867.0</td>\n",
       "      <td>NaN</td>\n",
       "      <td>1</td>\n",
       "      <td>NaN</td>\n",
       "      <td>3/18/2018 11:52:38 AM</td>\n",
       "      <td>...</td>\n",
       "      <td>False</td>\n",
       "      <td>False</td>\n",
       "      <td>NaN</td>\n",
       "      <td>0.0</td>\n",
       "      <td>0</td>\n",
       "      <td>0.0</td>\n",
       "      <td>False</td>\n",
       "      <td>0</td>\n",
       "      <td>0</td>\n",
       "      <td>7</td>\n",
       "    </tr>\n",
       "    <tr>\n",
       "      <th>3</th>\n",
       "      <td>8933</td>\n",
       "      <td>recsys-20181-cfmr</td>\n",
       "      <td>RecSys 2018/1: Collaborative Movie Recommendation</td>\n",
       "      <td>Predict users' ratings for movies</td>\n",
       "      <td>InClass</td>\n",
       "      <td>25077.0</td>\n",
       "      <td>NaN</td>\n",
       "      <td>1</td>\n",
       "      <td>NaN</td>\n",
       "      <td>3/19/2018 3:34:50 PM</td>\n",
       "      <td>...</td>\n",
       "      <td>False</td>\n",
       "      <td>False</td>\n",
       "      <td>NaN</td>\n",
       "      <td>0.0</td>\n",
       "      <td>0</td>\n",
       "      <td>0.0</td>\n",
       "      <td>False</td>\n",
       "      <td>27</td>\n",
       "      <td>28</td>\n",
       "      <td>737</td>\n",
       "    </tr>\n",
       "    <tr>\n",
       "      <th>4</th>\n",
       "      <td>8866</td>\n",
       "      <td>bonus-410-spring-2018</td>\n",
       "      <td>Bonus 410 Spring 2018</td>\n",
       "      <td>A competition to help you start using the trai...</td>\n",
       "      <td>InClass</td>\n",
       "      <td>24237.0</td>\n",
       "      <td>NaN</td>\n",
       "      <td>1</td>\n",
       "      <td>NaN</td>\n",
       "      <td>3/14/2018 6:08:58 PM</td>\n",
       "      <td>...</td>\n",
       "      <td>False</td>\n",
       "      <td>False</td>\n",
       "      <td>NaN</td>\n",
       "      <td>0.0</td>\n",
       "      <td>0</td>\n",
       "      <td>0.0</td>\n",
       "      <td>False</td>\n",
       "      <td>11</td>\n",
       "      <td>11</td>\n",
       "      <td>66</td>\n",
       "    </tr>\n",
       "  </tbody>\n",
       "</table>\n",
       "<p>5 rows × 42 columns</p>\n",
       "</div>"
      ],
      "text/plain": [
       "     Id                               Slug  \\\n",
       "0  2408                     Eurovision2010   \n",
       "1  8910  blg-454e-term-project-competition   \n",
       "2  8916                            test-xx   \n",
       "3  8933                  recsys-20181-cfmr   \n",
       "4  8866              bonus-410-spring-2018   \n",
       "\n",
       "                                               Title  \\\n",
       "0                         Forecast Eurovision Voting   \n",
       "1                  BLG 454E Term Project Competition   \n",
       "2                                            test-xx   \n",
       "3  RecSys 2018/1: Collaborative Movie Recommendation   \n",
       "4                              Bonus 410 Spring 2018   \n",
       "\n",
       "                                            Subtitle HostSegmentTitle  \\\n",
       "0  This competition requires contestants to forec...         Featured   \n",
       "1  ITU Computer and Informatics Faculty, BLG 454E...          InClass   \n",
       "2                                     this is a test          InClass   \n",
       "3                  Predict users' ratings for movies          InClass   \n",
       "4  A competition to help you start using the trai...          InClass   \n",
       "\n",
       "   ForumId  OrganizationId  CompetitionTypeId HostName            EnabledDate  \\\n",
       "0      2.0             NaN                  1      NaN    4/7/2010 7:57:43 AM   \n",
       "1  24780.0             NaN                  1      NaN   3/17/2018 7:08:56 PM   \n",
       "2  24867.0             NaN                  1      NaN  3/18/2018 11:52:38 AM   \n",
       "3  25077.0             NaN                  1      NaN   3/19/2018 3:34:50 PM   \n",
       "4  24237.0             NaN                  1      NaN   3/14/2018 6:08:58 PM   \n",
       "\n",
       "         ...        EnableSubmissionModelHashes  \\\n",
       "0        ...                              False   \n",
       "1        ...                              False   \n",
       "2        ...                              False   \n",
       "3        ...                              False   \n",
       "4        ...                              False   \n",
       "\n",
       "  EnableSubmissionModelAttachments RewardType RewardQuantity NumPrizes  \\\n",
       "0                            False        USD         1000.0         1   \n",
       "1                            False        NaN            0.0         0   \n",
       "2                            False        NaN            0.0         0   \n",
       "3                            False        NaN            0.0         0   \n",
       "4                            False        NaN            0.0         0   \n",
       "\n",
       "   UserRankMultiplier  CanQualifyTiers  TotalTeams  TotalCompetitors  \\\n",
       "0                 1.0            False          22                25   \n",
       "1                 0.0            False          29                65   \n",
       "2                 0.0            False           0                 0   \n",
       "3                 0.0            False          27                28   \n",
       "4                 0.0            False          11                11   \n",
       "\n",
       "   TotalSubmissions  \n",
       "0                22  \n",
       "1               658  \n",
       "2                 7  \n",
       "3               737  \n",
       "4                66  \n",
       "\n",
       "[5 rows x 42 columns]"
      ]
     },
     "execution_count": 19,
     "metadata": {},
     "output_type": "execute_result"
    }
   ],
   "source": [
    "competitions.head()"
   ]
  },
  {
   "cell_type": "code",
   "execution_count": 90,
   "metadata": {},
   "outputs": [
    {
     "data": {
      "text/html": [
       "<div>\n",
       "<style scoped>\n",
       "    .dataframe tbody tr th:only-of-type {\n",
       "        vertical-align: middle;\n",
       "    }\n",
       "\n",
       "    .dataframe tbody tr th {\n",
       "        vertical-align: top;\n",
       "    }\n",
       "\n",
       "    .dataframe thead th {\n",
       "        text-align: right;\n",
       "    }\n",
       "</style>\n",
       "<table border=\"1\" class=\"dataframe\">\n",
       "  <thead>\n",
       "    <tr style=\"text-align: right;\">\n",
       "      <th></th>\n",
       "      <th>Id</th>\n",
       "      <th>UserName</th>\n",
       "      <th>DisplayName</th>\n",
       "      <th>RegisterDate</th>\n",
       "      <th>PerformanceTier</th>\n",
       "    </tr>\n",
       "  </thead>\n",
       "  <tbody>\n",
       "    <tr>\n",
       "      <th>0</th>\n",
       "      <td>1</td>\n",
       "      <td>kaggleteam</td>\n",
       "      <td>Kaggle Team</td>\n",
       "      <td>3/24/2011</td>\n",
       "      <td>5</td>\n",
       "    </tr>\n",
       "    <tr>\n",
       "      <th>1</th>\n",
       "      <td>368</td>\n",
       "      <td>antgoldbloom</td>\n",
       "      <td>Anthony Goldbloom</td>\n",
       "      <td>1/20/2010</td>\n",
       "      <td>5</td>\n",
       "    </tr>\n",
       "    <tr>\n",
       "      <th>2</th>\n",
       "      <td>381</td>\n",
       "      <td>iguyon</td>\n",
       "      <td>Isabelle</td>\n",
       "      <td>1/29/2010</td>\n",
       "      <td>2</td>\n",
       "    </tr>\n",
       "  </tbody>\n",
       "</table>\n",
       "</div>"
      ],
      "text/plain": [
       "    Id      UserName        DisplayName RegisterDate  PerformanceTier\n",
       "0    1    kaggleteam        Kaggle Team    3/24/2011                5\n",
       "1  368  antgoldbloom  Anthony Goldbloom    1/20/2010                5\n",
       "2  381        iguyon           Isabelle    1/29/2010                2"
      ]
     },
     "execution_count": 90,
     "metadata": {},
     "output_type": "execute_result"
    }
   ],
   "source": [
    "kernel_users.head(3)"
   ]
  },
  {
   "cell_type": "code",
   "execution_count": 109,
   "metadata": {},
   "outputs": [
    {
     "data": {
      "text/html": [
       "<div>\n",
       "<style scoped>\n",
       "    .dataframe tbody tr th:only-of-type {\n",
       "        vertical-align: middle;\n",
       "    }\n",
       "\n",
       "    .dataframe tbody tr th {\n",
       "        vertical-align: top;\n",
       "    }\n",
       "\n",
       "    .dataframe thead th {\n",
       "        text-align: right;\n",
       "    }\n",
       "</style>\n",
       "<table border=\"1\" class=\"dataframe\">\n",
       "  <thead>\n",
       "    <tr style=\"text-align: right;\">\n",
       "      <th></th>\n",
       "      <th>Id</th>\n",
       "      <th>CreatorUserId</th>\n",
       "      <th>OwnerUserId</th>\n",
       "      <th>OwnerOrganizationId</th>\n",
       "      <th>CurrentDatasetVersionId</th>\n",
       "      <th>CurrentDatasourceVersionId</th>\n",
       "      <th>ForumId</th>\n",
       "      <th>Type</th>\n",
       "      <th>CreationDate</th>\n",
       "      <th>ReviewDate</th>\n",
       "      <th>FeatureDate</th>\n",
       "      <th>LastActivityDate</th>\n",
       "      <th>TotalViews</th>\n",
       "      <th>TotalDownloads</th>\n",
       "      <th>TotalVotes</th>\n",
       "      <th>TotalKernels</th>\n",
       "    </tr>\n",
       "  </thead>\n",
       "  <tbody>\n",
       "    <tr>\n",
       "      <th>0</th>\n",
       "      <td>52146</td>\n",
       "      <td>1</td>\n",
       "      <td>NaN</td>\n",
       "      <td>223.0</td>\n",
       "      <td>281965.0</td>\n",
       "      <td>294410.0</td>\n",
       "      <td>60824</td>\n",
       "      <td>2</td>\n",
       "      <td>9/12/2018 9:13:38 PM</td>\n",
       "      <td>NaN</td>\n",
       "      <td>NaN</td>\n",
       "      <td>9/12/2018</td>\n",
       "      <td>179</td>\n",
       "      <td>3</td>\n",
       "      <td>0</td>\n",
       "      <td>1</td>\n",
       "    </tr>\n",
       "    <tr>\n",
       "      <th>1</th>\n",
       "      <td>52222</td>\n",
       "      <td>1135944</td>\n",
       "      <td>1135944.0</td>\n",
       "      <td>NaN</td>\n",
       "      <td>97664.0</td>\n",
       "      <td>100200.0</td>\n",
       "      <td>60904</td>\n",
       "      <td>2</td>\n",
       "      <td>9/13/2018 5:06:57 AM</td>\n",
       "      <td>NaN</td>\n",
       "      <td>NaN</td>\n",
       "      <td>9/13/2018</td>\n",
       "      <td>151</td>\n",
       "      <td>4</td>\n",
       "      <td>1</td>\n",
       "      <td>2</td>\n",
       "    </tr>\n",
       "    <tr>\n",
       "      <th>2</th>\n",
       "      <td>53090</td>\n",
       "      <td>2251685</td>\n",
       "      <td>2251685.0</td>\n",
       "      <td>NaN</td>\n",
       "      <td>100925.0</td>\n",
       "      <td>103465.0</td>\n",
       "      <td>61797</td>\n",
       "      <td>2</td>\n",
       "      <td>9/16/2018 7:26:26 AM</td>\n",
       "      <td>NaN</td>\n",
       "      <td>NaN</td>\n",
       "      <td>9/16/2018</td>\n",
       "      <td>91</td>\n",
       "      <td>0</td>\n",
       "      <td>0</td>\n",
       "      <td>1</td>\n",
       "    </tr>\n",
       "  </tbody>\n",
       "</table>\n",
       "</div>"
      ],
      "text/plain": [
       "      Id  CreatorUserId  OwnerUserId  OwnerOrganizationId  \\\n",
       "0  52146              1          NaN                223.0   \n",
       "1  52222        1135944    1135944.0                  NaN   \n",
       "2  53090        2251685    2251685.0                  NaN   \n",
       "\n",
       "   CurrentDatasetVersionId  CurrentDatasourceVersionId  ForumId  Type  \\\n",
       "0                 281965.0                    294410.0    60824     2   \n",
       "1                  97664.0                    100200.0    60904     2   \n",
       "2                 100925.0                    103465.0    61797     2   \n",
       "\n",
       "           CreationDate ReviewDate FeatureDate LastActivityDate  TotalViews  \\\n",
       "0  9/12/2018 9:13:38 PM        NaN         NaN        9/12/2018         179   \n",
       "1  9/13/2018 5:06:57 AM        NaN         NaN        9/13/2018         151   \n",
       "2  9/16/2018 7:26:26 AM        NaN         NaN        9/16/2018          91   \n",
       "\n",
       "   TotalDownloads  TotalVotes  TotalKernels  \n",
       "0               3           0             1  \n",
       "1               4           1             2  \n",
       "2               0           0             1  "
      ]
     },
     "execution_count": 109,
     "metadata": {},
     "output_type": "execute_result"
    }
   ],
   "source": [
    "datasets.head(3)"
   ]
  },
  {
   "cell_type": "code",
   "execution_count": 112,
   "metadata": {},
   "outputs": [
    {
     "data": {
      "text/html": [
       "<div>\n",
       "<style scoped>\n",
       "    .dataframe tbody tr th:only-of-type {\n",
       "        vertical-align: middle;\n",
       "    }\n",
       "\n",
       "    .dataframe tbody tr th {\n",
       "        vertical-align: top;\n",
       "    }\n",
       "\n",
       "    .dataframe thead th {\n",
       "        text-align: right;\n",
       "    }\n",
       "</style>\n",
       "<table border=\"1\" class=\"dataframe\">\n",
       "  <thead>\n",
       "    <tr style=\"text-align: right;\">\n",
       "      <th></th>\n",
       "      <th>Id</th>\n",
       "      <th>KernelVersionId</th>\n",
       "      <th>SourceDatasetVersionId</th>\n",
       "    </tr>\n",
       "  </thead>\n",
       "  <tbody>\n",
       "    <tr>\n",
       "      <th>0</th>\n",
       "      <td>211918</td>\n",
       "      <td>328609</td>\n",
       "      <td>331</td>\n",
       "    </tr>\n",
       "    <tr>\n",
       "      <th>1</th>\n",
       "      <td>240420</td>\n",
       "      <td>330097</td>\n",
       "      <td>102</td>\n",
       "    </tr>\n",
       "    <tr>\n",
       "      <th>2</th>\n",
       "      <td>395230</td>\n",
       "      <td>330481</td>\n",
       "      <td>2157</td>\n",
       "    </tr>\n",
       "  </tbody>\n",
       "</table>\n",
       "</div>"
      ],
      "text/plain": [
       "       Id  KernelVersionId  SourceDatasetVersionId\n",
       "0  211918           328609                     331\n",
       "1  240420           330097                     102\n",
       "2  395230           330481                    2157"
      ]
     },
     "execution_count": 112,
     "metadata": {},
     "output_type": "execute_result"
    }
   ],
   "source": [
    "kernel_datasets.head(3)"
   ]
  },
  {
   "cell_type": "code",
   "execution_count": 114,
   "metadata": {},
   "outputs": [
    {
     "data": {
      "text/html": [
       "<div>\n",
       "<style scoped>\n",
       "    .dataframe tbody tr th:only-of-type {\n",
       "        vertical-align: middle;\n",
       "    }\n",
       "\n",
       "    .dataframe tbody tr th {\n",
       "        vertical-align: top;\n",
       "    }\n",
       "\n",
       "    .dataframe thead th {\n",
       "        text-align: right;\n",
       "    }\n",
       "</style>\n",
       "<table border=\"1\" class=\"dataframe\">\n",
       "  <thead>\n",
       "    <tr style=\"text-align: right;\">\n",
       "      <th></th>\n",
       "      <th>Id</th>\n",
       "      <th>DatasetId</th>\n",
       "      <th>DatasourceVersionId</th>\n",
       "      <th>CreatorUserId</th>\n",
       "      <th>LicenseName</th>\n",
       "      <th>CreationDate</th>\n",
       "      <th>VersionNumber</th>\n",
       "      <th>Title</th>\n",
       "      <th>Slug</th>\n",
       "      <th>Subtitle</th>\n",
       "      <th>Description</th>\n",
       "      <th>VersionNotes</th>\n",
       "      <th>TotalCompressedBytes</th>\n",
       "      <th>TotalUncompressedBytes</th>\n",
       "    </tr>\n",
       "  </thead>\n",
       "  <tbody>\n",
       "    <tr>\n",
       "      <th>0</th>\n",
       "      <td>6198</td>\n",
       "      <td>3955</td>\n",
       "      <td>6198</td>\n",
       "      <td>1389049</td>\n",
       "      <td>CC0: Public Domain</td>\n",
       "      <td>11/4/2017 11:37:49 AM</td>\n",
       "      <td>1.0</td>\n",
       "      <td>DateasetTEst</td>\n",
       "      <td>dateasettest</td>\n",
       "      <td>NaN</td>\n",
       "      <td>NaN</td>\n",
       "      <td>Initial release</td>\n",
       "      <td>0.0</td>\n",
       "      <td>0.0</td>\n",
       "    </tr>\n",
       "    <tr>\n",
       "      <th>1</th>\n",
       "      <td>6249</td>\n",
       "      <td>3996</td>\n",
       "      <td>6249</td>\n",
       "      <td>1287548</td>\n",
       "      <td>Other (specified in description)</td>\n",
       "      <td>11/5/2017 1:44:04 AM</td>\n",
       "      <td>1.0</td>\n",
       "      <td>Toyota Corolla (clean)</td>\n",
       "      <td>toyota-corolla-clean</td>\n",
       "      <td>Finding ways to predict or classify car prices</td>\n",
       "      <td>### Content\\nThis dataset is quite simple. Bel...</td>\n",
       "      <td>Initial release</td>\n",
       "      <td>0.0</td>\n",
       "      <td>0.0</td>\n",
       "    </tr>\n",
       "    <tr>\n",
       "      <th>2</th>\n",
       "      <td>13418</td>\n",
       "      <td>9467</td>\n",
       "      <td>13418</td>\n",
       "      <td>1396170</td>\n",
       "      <td>CC0: Public Domain</td>\n",
       "      <td>1/12/2018 11:41:46 AM</td>\n",
       "      <td>1.0</td>\n",
       "      <td>A-Z Handwritten Alphabets</td>\n",
       "      <td>a-z handwritten alphabets</td>\n",
       "      <td>English Alphabets Data-set</td>\n",
       "      <td>### Context\\n\\nFor recognising handwritten for...</td>\n",
       "      <td>Initial release</td>\n",
       "      <td>0.0</td>\n",
       "      <td>0.0</td>\n",
       "    </tr>\n",
       "  </tbody>\n",
       "</table>\n",
       "</div>"
      ],
      "text/plain": [
       "      Id  DatasetId  DatasourceVersionId  CreatorUserId  \\\n",
       "0   6198       3955                 6198        1389049   \n",
       "1   6249       3996                 6249        1287548   \n",
       "2  13418       9467                13418        1396170   \n",
       "\n",
       "                        LicenseName           CreationDate  VersionNumber  \\\n",
       "0                CC0: Public Domain  11/4/2017 11:37:49 AM            1.0   \n",
       "1  Other (specified in description)   11/5/2017 1:44:04 AM            1.0   \n",
       "2                CC0: Public Domain  1/12/2018 11:41:46 AM            1.0   \n",
       "\n",
       "                       Title                       Slug  \\\n",
       "0               DateasetTEst               dateasettest   \n",
       "1     Toyota Corolla (clean)       toyota-corolla-clean   \n",
       "2  A-Z Handwritten Alphabets  a-z handwritten alphabets   \n",
       "\n",
       "                                         Subtitle  \\\n",
       "0                                             NaN   \n",
       "1  Finding ways to predict or classify car prices   \n",
       "2                      English Alphabets Data-set   \n",
       "\n",
       "                                         Description     VersionNotes  \\\n",
       "0                                                NaN  Initial release   \n",
       "1  ### Content\\nThis dataset is quite simple. Bel...  Initial release   \n",
       "2  ### Context\\n\\nFor recognising handwritten for...  Initial release   \n",
       "\n",
       "   TotalCompressedBytes  TotalUncompressedBytes  \n",
       "0                   0.0                     0.0  \n",
       "1                   0.0                     0.0  \n",
       "2                   0.0                     0.0  "
      ]
     },
     "execution_count": 114,
     "metadata": {},
     "output_type": "execute_result"
    }
   ],
   "source": [
    "dataset_versions.head(3)"
   ]
  },
  {
   "cell_type": "markdown",
   "metadata": {},
   "source": [
    "## Explore statistics for awarded and upvoted kernels"
   ]
  },
  {
   "cell_type": "markdown",
   "metadata": {},
   "source": [
    "### 1. Explore basic statistics for number of kernels"
   ]
  },
  {
   "cell_type": "markdown",
   "metadata": {},
   "source": [
    "* How many kernels are there? \n",
    "* How many of them are public? \n",
    "* How many kernels have upvotes? \n",
    "* How many kernels have any medal?"
   ]
  },
  {
   "cell_type": "code",
   "execution_count": 21,
   "metadata": {},
   "outputs": [
    {
     "name": "stdout",
     "output_type": "stream",
     "text": [
      "Total number of kernels: 221289\n"
     ]
    }
   ],
   "source": [
    "total_kernels = len(kernels['Id'].unique())\n",
    "\n",
    "print('Total number of kernels: {total_kernels}'.format(total_kernels = total_kernels))"
   ]
  },
  {
   "cell_type": "code",
   "execution_count": 29,
   "metadata": {},
   "outputs": [
    {
     "name": "stdout",
     "output_type": "stream",
     "text": [
      "Total number of public kernels: 210730\n"
     ]
    }
   ],
   "source": [
    "total_public = len(kernels[pd.notnull(kernels['MadePublicDate'])])\n",
    "\n",
    "print('Total number of public kernels: {total_public_kernels}'.format(total_public_kernels = total_public))"
   ]
  },
  {
   "cell_type": "code",
   "execution_count": 23,
   "metadata": {},
   "outputs": [
    {
     "name": "stdout",
     "output_type": "stream",
     "text": [
      "Total number of kernels with upvotes: 45096\n"
     ]
    }
   ],
   "source": [
    "total_upvoted = len(kernels[ kernels['TotalVotes'] > 0])\n",
    "\n",
    "print('Total number of kernels with upvotes: {total_upvoted}'.format(total_upvoted = total_upvoted))"
   ]
  },
  {
   "cell_type": "code",
   "execution_count": 25,
   "metadata": {},
   "outputs": [
    {
     "name": "stdout",
     "output_type": "stream",
     "text": [
      "Total number of kernels with any medal: 8823\n"
     ]
    }
   ],
   "source": [
    "total_awarded = len(kernels[np.isfinite(kernels['Medal'])])\n",
    "\n",
    "print('Total number of kernels with any medal: {total_awarded}'.format(total_awarded = total_awarded))"
   ]
  },
  {
   "cell_type": "code",
   "execution_count": 30,
   "metadata": {},
   "outputs": [
    {
     "name": "stdout",
     "output_type": "stream",
     "text": [
      "Total number of public kernels with no upvotes: 165634\n"
     ]
    }
   ],
   "source": [
    "total_no_upvotes = total_public - total_upvoted\n",
    "\n",
    "print('Total number of public kernels with no upvotes: {total_no_upvotes}'.format(total_no_upvotes = total_no_upvotes))"
   ]
  },
  {
   "cell_type": "code",
   "execution_count": 31,
   "metadata": {},
   "outputs": [
    {
     "name": "stdout",
     "output_type": "stream",
     "text": [
      "Total number of private kernels: 10559\n"
     ]
    }
   ],
   "source": [
    "total_private = total_kernels - total_public\n",
    "\n",
    "print('Total number of private kernels: {total_private}'.format(total_private = total_private))"
   ]
  },
  {
   "cell_type": "markdown",
   "metadata": {},
   "source": [
    "Plot statistics for number of kernels:"
   ]
  },
  {
   "cell_type": "code",
   "execution_count": 47,
   "metadata": {},
   "outputs": [
    {
     "data": {
      "image/png": "[encoded data removed]",
      "text/plain": [
       "<Figure size 504x504 with 1 Axes>"
      ]
     },
     "metadata": {},
     "output_type": "display_data"
    }
   ],
   "source": [
    "#plot statistics with matplotlib\n",
    "\n",
    "labels = 'Private', 'Public with no upvotes', 'Upvoted', 'Awarded'\n",
    "sizes = [total_private, total_no_upvotes, total_upvoted, total_awarded]\n",
    "explode = (0, 0.1, 0, 0)  # only \"explode\" the 2nd slice (i.e. 'Hogs')\n",
    "\n",
    "fig1, ax1 = plt.subplots()\n",
    "ax1.pie(sizes, explode=explode, labels=labels, autopct='%1.1f%%',\n",
    "        shadow=True, startangle=180)\n",
    "ax1.axis('equal')  # Equal aspect ratio ensures that pie is drawn as a circle.\n",
    "\n",
    "fig1.set_figheight(7)\n",
    "fig1.set_figwidth(7)\n",
    "\n",
    "plt.title('Statistics for upvoted and awarded kernels')\n",
    "\n",
    "plt.show()"
   ]
  },
  {
   "cell_type": "code",
   "execution_count": 51,
   "metadata": {},
   "outputs": [
    {
     "data": {
      "text/html": [
       "<iframe id=\"igraph\" scrolling=\"no\" style=\"border:none;\" seamless=\"seamless\" src=\"https://plot.ly/~lexie88rus/24.embed\" height=\"525px\" width=\"100%\"></iframe>"
      ],
      "text/plain": [
       "<plotly.tools.PlotlyDisplay object>"
      ]
     },
     "execution_count": 51,
     "metadata": {},
     "output_type": "execute_result"
    }
   ],
   "source": [
    "#plot statistics with plotly\n",
    "\n",
    "labels = ['Private', 'Public with no upvotes', 'Upvoted', 'Awarded']\n",
    "values = [total_private, total_no_upvotes, total_upvoted, total_awarded]\n",
    "\n",
    "colors = ['#7FDBE2', '#68B6AF', '#82C5A0', '#EED2BB']\n",
    "\n",
    "trace = go.Pie(labels=labels, values=values, marker=dict(colors=colors, line=dict(color='#FFFFFF', width=2)))\n",
    "\n",
    "data = [trace]\n",
    "layout = go.Layout(title='Statistics for upvoted and awarded kernels')\n",
    "\n",
    "fig = go.Figure(data=data, layout=layout)\n",
    "py.iplot(fig, filename='upvoted_pie_chart')"
   ]
  },
  {
   "cell_type": "markdown",
   "metadata": {},
   "source": [
    "### 2. How does number of views and number of comments affect number of votes?"
   ]
  },
  {
   "cell_type": "markdown",
   "metadata": {},
   "source": [
    "* Is there a correlation between number of views and number of comments with number of votes?\n",
    "* Plot dependencies between number of views, comments and number of votes."
   ]
  },
  {
   "cell_type": "markdown",
   "metadata": {},
   "source": [
    "Find out correlation between number of views, number of comments and number of votes:"
   ]
  },
  {
   "cell_type": "code",
   "execution_count": 52,
   "metadata": {},
   "outputs": [
    {
     "data": {
      "image/png": "[encoded data removed]",
      "text/plain": [
       "<Figure size 504x504 with 2 Axes>"
      ]
     },
     "metadata": {},
     "output_type": "display_data"
    }
   ],
   "source": [
    "#columns to find out correlation\n",
    "cols = ['TotalViews', 'TotalComments', 'TotalVotes']\n",
    "\n",
    "#Find out correlation between columns and plot\n",
    "corrs = np.corrcoef(kernels[cols].values.T)\n",
    "sns.set(font_scale=1)\n",
    "sns.set(rc={'figure.figsize':(7,7)})\n",
    "hm=sns.heatmap(corrs, cbar = True, annot=True, square = True, fmt = '.2f',\n",
    "              yticklabels = cols, xticklabels = cols).set_title('Correlations heatmap')\n",
    "\n",
    "fig = hm.get_figure()\n",
    "fig.savefig('correlations.png')"
   ]
  },
  {
   "cell_type": "markdown",
   "metadata": {},
   "source": [
    "We can see that votes, comments and views are __highly correlated__. So my first assumption would be that __we should get as many views of the kernels as possible to gain votes__."
   ]
  },
  {
   "cell_type": "markdown",
   "metadata": {},
   "source": [
    "Let's try to visualize dependency between views and votes:"
   ]
  },
  {
   "cell_type": "code",
   "execution_count": 68,
   "metadata": {},
   "outputs": [],
   "source": [
    "#get average number of votes per number of views\n",
    "votes_by_views = kernels.groupby('TotalViews').mean().reset_index()[['TotalViews', 'TotalVotes']]\n",
    "votes_by_views = votes_by_views.sort_values(by = 'TotalViews', ascending = True)\n",
    "\n",
    "# fit a linear regression model on views and votes data\n",
    "model = LinearRegression()\n",
    "model.fit(votes_by_views['TotalViews'].values.reshape(-1, 1), votes_by_views['TotalVotes'].values.reshape(-1, 1))\n",
    "\n",
    "inputs = np.linspace(1, 1200000, num=50)\n",
    "predictions = model.predict(inputs.reshape(-1,1))"
   ]
  },
  {
   "cell_type": "code",
   "execution_count": 70,
   "metadata": {},
   "outputs": [
    {
     "data": {
      "image/png": "[encoded data removed]",
      "text/plain": [
       "<Figure size 504x504 with 1 Axes>"
      ]
     },
     "metadata": {},
     "output_type": "display_data"
    }
   ],
   "source": [
    "#plot with matplotlib along with predictions from the linear regression model\n",
    "\n",
    "plt.scatter(votes_by_views['TotalViews'], votes_by_views['TotalVotes'])\n",
    "plt.plot(inputs, predictions, color='green')\n",
    "\n",
    "plt.title(\"Number of votes per number of views\")\n",
    "plt.xlabel(\"Views\")\n",
    "plt.ylabel(\"Votes\")\n",
    "\n",
    "plt.show()"
   ]
  },
  {
   "cell_type": "code",
   "execution_count": 76,
   "metadata": {},
   "outputs": [
    {
     "data": {
      "text/html": [
       "<iframe id=\"igraph\" scrolling=\"no\" style=\"border:none;\" seamless=\"seamless\" src=\"https://plot.ly/~lexie88rus/32.embed\" height=\"525px\" width=\"100%\"></iframe>"
      ],
      "text/plain": [
       "<plotly.tools.PlotlyDisplay object>"
      ]
     },
     "execution_count": 76,
     "metadata": {},
     "output_type": "execute_result"
    }
   ],
   "source": [
    "#plot with plotly\n",
    "\n",
    "# Create traces\n",
    "trace0 = go.Scatter(\n",
    "    x = votes_by_views['TotalViews'], \n",
    "    y = votes_by_views['TotalVotes'],\n",
    "    mode = 'markers',\n",
    "    name = 'votes per views scatter',\n",
    "    marker = dict(color = '#7FDBE2')\n",
    "    #color = '#7FDBE2'\n",
    ")\n",
    "\n",
    "trace1 = go.Scatter(\n",
    "    x = inputs,\n",
    "    y = predictions,\n",
    "    mode = 'lines',\n",
    "    name = 'votes per views trendline',\n",
    "    line=dict(width=4, color='#EED2BB')\n",
    ")\n",
    "\n",
    "data = [trace0, trace1]\n",
    "\n",
    "layout = go.Layout(\n",
    "    title='Number of votes per number of views',\n",
    "    xaxis=dict(title='Views', ticklen=5, zeroline=False, gridwidth=2),\n",
    "    yaxis=dict(title='Votes', ticklen=5, gridwidth=2),\n",
    "    showlegend=True\n",
    ")\n",
    "\n",
    "fig = go.Figure(data=data, layout=layout)\n",
    "\n",
    "py.iplot(fig, filename='votes_per_views')"
   ]
  },
  {
   "cell_type": "markdown",
   "metadata": {},
   "source": [
    "Visualization of dependency between comments and votes:"
   ]
  },
  {
   "cell_type": "code",
   "execution_count": 86,
   "metadata": {},
   "outputs": [],
   "source": [
    "#get average number of votes per number of comments\n",
    "votes_by_comments = kernels.groupby('TotalComments').mean().reset_index()[['TotalComments', 'TotalVotes']]\n",
    "votes_by_comments = votes_by_comments.sort_values(by = 'TotalComments', ascending = True)\n",
    "\n",
    "# fit a linear regression model on comments and votes data\n",
    "model = LinearRegression()\n",
    "model.fit(votes_by_comments['TotalComments'].values.reshape(-1, 1), votes_by_comments['TotalVotes'].values.reshape(-1, 1))\n",
    "\n",
    "inputs = np.linspace(1, 1000, num=50)\n",
    "predictions = model.predict(inputs.reshape(-1,1))"
   ]
  },
  {
   "cell_type": "code",
   "execution_count": 87,
   "metadata": {},
   "outputs": [
    {
     "data": {
      "image/png": "[encoded data removed]",
      "text/plain": [
       "<Figure size 504x504 with 1 Axes>"
      ]
     },
     "metadata": {},
     "output_type": "display_data"
    }
   ],
   "source": [
    "#plot with matplotlib along with predictions from the linear regression model\n",
    "\n",
    "plt.scatter(votes_by_comments['TotalComments'], votes_by_comments['TotalVotes'])\n",
    "plt.plot(inputs, predictions, color='green')\n",
    "\n",
    "plt.title(\"Number of votes per number of views\")\n",
    "plt.xlabel(\"Comments\")\n",
    "plt.ylabel(\"Votes\")\n",
    "\n",
    "plt.show()"
   ]
  },
  {
   "cell_type": "code",
   "execution_count": 88,
   "metadata": {},
   "outputs": [
    {
     "name": "stderr",
     "output_type": "stream",
     "text": [
      "/Users/aleksandraastakhova/anaconda3/lib/python3.6/site-packages/IPython/core/display.py:689: UserWarning:\n",
      "\n",
      "Consider using IPython.display.IFrame instead\n",
      "\n"
     ]
    },
    {
     "data": {
      "text/html": [
       "<iframe id=\"igraph\" scrolling=\"no\" style=\"border:none;\" seamless=\"seamless\" src=\"https://plot.ly/~lexie88rus/34.embed\" height=\"525px\" width=\"100%\"></iframe>"
      ],
      "text/plain": [
       "<plotly.tools.PlotlyDisplay object>"
      ]
     },
     "execution_count": 88,
     "metadata": {},
     "output_type": "execute_result"
    }
   ],
   "source": [
    "#plot with plotly\n",
    "\n",
    "# Create traces\n",
    "trace0 = go.Scatter(\n",
    "    x = votes_by_comments['TotalComments'], \n",
    "    y = votes_by_comments['TotalVotes'],\n",
    "    mode = 'markers',\n",
    "    name = 'votes per comments scatter',\n",
    "    marker = dict(color = '#7FDBE2')\n",
    ")\n",
    "\n",
    "trace1 = go.Scatter(\n",
    "    x = inputs,\n",
    "    y = predictions,\n",
    "    mode = 'lines',\n",
    "    name = 'votes per comments trendline',\n",
    "    line=dict(width=4, color='#EED2BB')\n",
    ")\n",
    "\n",
    "data = [trace0, trace1]\n",
    "\n",
    "layout = go.Layout(\n",
    "    title='Number of votes per number of comments',\n",
    "    xaxis=dict(title='Comments', ticklen=5, zeroline=False, gridwidth=2),\n",
    "    yaxis=dict(title='Votes', ticklen=5, gridwidth=2),\n",
    "    showlegend=True\n",
    ")\n",
    "\n",
    "fig = go.Figure(data=data, layout=layout)\n",
    "\n",
    "py.iplot(fig, filename='votes_per_comments')"
   ]
  },
  {
   "cell_type": "markdown",
   "metadata": {},
   "source": [
    "### 3. How does the status of the author affect number of votes per kernel?"
   ]
  },
  {
   "cell_type": "markdown",
   "metadata": {},
   "source": [
    "I suppose that more active users and the users with higher visibility gain votes for kernels:\n",
    "* So how does performance tier of the user affect the number of upvotes?"
   ]
  },
  {
   "cell_type": "code",
   "execution_count": 91,
   "metadata": {},
   "outputs": [],
   "source": [
    "#merge kernels with users\n",
    "kernel_users_renamed = kernel_users.rename(columns={'Id': 'AuthorUserId'})\n",
    "kernels_user_tiers = kernels.merge(kernel_users_renamed, on = 'AuthorUserId')"
   ]
  },
  {
   "cell_type": "code",
   "execution_count": 92,
   "metadata": {},
   "outputs": [
    {
     "data": {
      "text/html": [
       "<div>\n",
       "<style scoped>\n",
       "    .dataframe tbody tr th:only-of-type {\n",
       "        vertical-align: middle;\n",
       "    }\n",
       "\n",
       "    .dataframe tbody tr th {\n",
       "        vertical-align: top;\n",
       "    }\n",
       "\n",
       "    .dataframe thead th {\n",
       "        text-align: right;\n",
       "    }\n",
       "</style>\n",
       "<table border=\"1\" class=\"dataframe\">\n",
       "  <thead>\n",
       "    <tr style=\"text-align: right;\">\n",
       "      <th></th>\n",
       "      <th>Id</th>\n",
       "      <th>AuthorUserId</th>\n",
       "      <th>CurrentKernelVersionId</th>\n",
       "      <th>ForkParentKernelVersionId</th>\n",
       "      <th>ForumTopicId</th>\n",
       "      <th>FirstKernelVersionId</th>\n",
       "      <th>CreationDate</th>\n",
       "      <th>EvaluationDate</th>\n",
       "      <th>MadePublicDate</th>\n",
       "      <th>IsProjectLanguageTemplate</th>\n",
       "      <th>CurrentUrlSlug</th>\n",
       "      <th>Medal</th>\n",
       "      <th>MedalAwardDate</th>\n",
       "      <th>TotalViews</th>\n",
       "      <th>TotalComments</th>\n",
       "      <th>TotalVotes</th>\n",
       "      <th>UserName</th>\n",
       "      <th>DisplayName</th>\n",
       "      <th>RegisterDate</th>\n",
       "      <th>PerformanceTier</th>\n",
       "    </tr>\n",
       "  </thead>\n",
       "  <tbody>\n",
       "    <tr>\n",
       "      <th>0</th>\n",
       "      <td>1</td>\n",
       "      <td>2505</td>\n",
       "      <td>205.0</td>\n",
       "      <td>NaN</td>\n",
       "      <td>NaN</td>\n",
       "      <td>1.0</td>\n",
       "      <td>3/25/2015 6:25:32 PM</td>\n",
       "      <td>3/23/2018</td>\n",
       "      <td>3/25/2015</td>\n",
       "      <td>False</td>\n",
       "      <td>hello</td>\n",
       "      <td>NaN</td>\n",
       "      <td>NaN</td>\n",
       "      <td>25</td>\n",
       "      <td>0</td>\n",
       "      <td>0</td>\n",
       "      <td>jeffmoser</td>\n",
       "      <td>Jeff Moser</td>\n",
       "      <td>8/21/2010</td>\n",
       "      <td>5</td>\n",
       "    </tr>\n",
       "    <tr>\n",
       "      <th>1</th>\n",
       "      <td>86</td>\n",
       "      <td>2505</td>\n",
       "      <td>2307564.0</td>\n",
       "      <td>NaN</td>\n",
       "      <td>NaN</td>\n",
       "      <td>548.0</td>\n",
       "      <td>4/3/2015 5:16:32 PM</td>\n",
       "      <td>2/1/2018</td>\n",
       "      <td>4/3/2015</td>\n",
       "      <td>True</td>\n",
       "      <td>hi-python</td>\n",
       "      <td>3.0</td>\n",
       "      <td>9/16/2017</td>\n",
       "      <td>189</td>\n",
       "      <td>0</td>\n",
       "      <td>5</td>\n",
       "      <td>jeffmoser</td>\n",
       "      <td>Jeff Moser</td>\n",
       "      <td>8/21/2010</td>\n",
       "      <td>5</td>\n",
       "    </tr>\n",
       "    <tr>\n",
       "      <th>2</th>\n",
       "      <td>107</td>\n",
       "      <td>2505</td>\n",
       "      <td>740.0</td>\n",
       "      <td>NaN</td>\n",
       "      <td>NaN</td>\n",
       "      <td>632.0</td>\n",
       "      <td>4/6/2015 4:04:55 PM</td>\n",
       "      <td>3/23/2018</td>\n",
       "      <td>4/6/2015</td>\n",
       "      <td>False</td>\n",
       "      <td>yet-another-python-sleep-test</td>\n",
       "      <td>NaN</td>\n",
       "      <td>NaN</td>\n",
       "      <td>4</td>\n",
       "      <td>0</td>\n",
       "      <td>0</td>\n",
       "      <td>jeffmoser</td>\n",
       "      <td>Jeff Moser</td>\n",
       "      <td>8/21/2010</td>\n",
       "      <td>5</td>\n",
       "    </tr>\n",
       "    <tr>\n",
       "      <th>3</th>\n",
       "      <td>108</td>\n",
       "      <td>2505</td>\n",
       "      <td>748.0</td>\n",
       "      <td>NaN</td>\n",
       "      <td>NaN</td>\n",
       "      <td>636.0</td>\n",
       "      <td>4/6/2015 4:12:14 PM</td>\n",
       "      <td>3/23/2018</td>\n",
       "      <td>4/6/2015</td>\n",
       "      <td>False</td>\n",
       "      <td>more-python-testing</td>\n",
       "      <td>NaN</td>\n",
       "      <td>NaN</td>\n",
       "      <td>6</td>\n",
       "      <td>0</td>\n",
       "      <td>0</td>\n",
       "      <td>jeffmoser</td>\n",
       "      <td>Jeff Moser</td>\n",
       "      <td>8/21/2010</td>\n",
       "      <td>5</td>\n",
       "    </tr>\n",
       "    <tr>\n",
       "      <th>4</th>\n",
       "      <td>4345</td>\n",
       "      <td>2505</td>\n",
       "      <td>8879.0</td>\n",
       "      <td>NaN</td>\n",
       "      <td>NaN</td>\n",
       "      <td>8833.0</td>\n",
       "      <td>5/22/2015 2:36:27 PM</td>\n",
       "      <td>5/22/2015</td>\n",
       "      <td>5/22/2015</td>\n",
       "      <td>False</td>\n",
       "      <td>kaggle-io-test</td>\n",
       "      <td>NaN</td>\n",
       "      <td>NaN</td>\n",
       "      <td>17</td>\n",
       "      <td>0</td>\n",
       "      <td>0</td>\n",
       "      <td>jeffmoser</td>\n",
       "      <td>Jeff Moser</td>\n",
       "      <td>8/21/2010</td>\n",
       "      <td>5</td>\n",
       "    </tr>\n",
       "  </tbody>\n",
       "</table>\n",
       "</div>"
      ],
      "text/plain": [
       "     Id  AuthorUserId  CurrentKernelVersionId  ForkParentKernelVersionId  \\\n",
       "0     1          2505                   205.0                        NaN   \n",
       "1    86          2505               2307564.0                        NaN   \n",
       "2   107          2505                   740.0                        NaN   \n",
       "3   108          2505                   748.0                        NaN   \n",
       "4  4345          2505                  8879.0                        NaN   \n",
       "\n",
       "   ForumTopicId  FirstKernelVersionId          CreationDate EvaluationDate  \\\n",
       "0           NaN                   1.0  3/25/2015 6:25:32 PM      3/23/2018   \n",
       "1           NaN                 548.0   4/3/2015 5:16:32 PM       2/1/2018   \n",
       "2           NaN                 632.0   4/6/2015 4:04:55 PM      3/23/2018   \n",
       "3           NaN                 636.0   4/6/2015 4:12:14 PM      3/23/2018   \n",
       "4           NaN                8833.0  5/22/2015 2:36:27 PM      5/22/2015   \n",
       "\n",
       "  MadePublicDate  IsProjectLanguageTemplate                 CurrentUrlSlug  \\\n",
       "0      3/25/2015                      False                          hello   \n",
       "1       4/3/2015                       True                      hi-python   \n",
       "2       4/6/2015                      False  yet-another-python-sleep-test   \n",
       "3       4/6/2015                      False            more-python-testing   \n",
       "4      5/22/2015                      False                 kaggle-io-test   \n",
       "\n",
       "   Medal MedalAwardDate  TotalViews  TotalComments  TotalVotes   UserName  \\\n",
       "0    NaN            NaN          25              0           0  jeffmoser   \n",
       "1    3.0      9/16/2017         189              0           5  jeffmoser   \n",
       "2    NaN            NaN           4              0           0  jeffmoser   \n",
       "3    NaN            NaN           6              0           0  jeffmoser   \n",
       "4    NaN            NaN          17              0           0  jeffmoser   \n",
       "\n",
       "  DisplayName RegisterDate  PerformanceTier  \n",
       "0  Jeff Moser    8/21/2010                5  \n",
       "1  Jeff Moser    8/21/2010                5  \n",
       "2  Jeff Moser    8/21/2010                5  \n",
       "3  Jeff Moser    8/21/2010                5  \n",
       "4  Jeff Moser    8/21/2010                5  "
      ]
     },
     "execution_count": 92,
     "metadata": {},
     "output_type": "execute_result"
    }
   ],
   "source": [
    "kernels_user_tiers.head()"
   ]
  },
  {
   "cell_type": "code",
   "execution_count": 99,
   "metadata": {},
   "outputs": [],
   "source": [
    "#get average number of votes per number of comments\n",
    "votes_by_usertier= kernels_user_tiers.groupby('PerformanceTier').mean().reset_index()[['PerformanceTier', 'TotalVotes']]\n",
    "votes_by_usertier = votes_by_usertier.sort_values(by = 'PerformanceTier', ascending = True)"
   ]
  },
  {
   "cell_type": "code",
   "execution_count": 102,
   "metadata": {},
   "outputs": [
    {
     "data": {
      "image/png": "[encoded data removed]",
      "text/plain": [
       "<Figure size 504x504 with 1 Axes>"
      ]
     },
     "metadata": {},
     "output_type": "display_data"
    }
   ],
   "source": [
    "#plot with matplotlib along with predictions from the linear regression model\n",
    "\n",
    "plt.plot(votes_by_usertier['PerformanceTier'], votes_by_usertier['TotalVotes'])\n",
    "\n",
    "plt.title(\"Average number of votes per kernel depending on user performance tier\")\n",
    "plt.xlabel(\"Performance Tier\")\n",
    "plt.ylabel(\"Average number of votes per kernel\")\n",
    "\n",
    "plt.show()"
   ]
  },
  {
   "cell_type": "code",
   "execution_count": 106,
   "metadata": {},
   "outputs": [
    {
     "data": {
      "text/html": [
       "<iframe id=\"igraph\" scrolling=\"no\" style=\"border:none;\" seamless=\"seamless\" src=\"https://plot.ly/~lexie88rus/36.embed\" height=\"525px\" width=\"100%\"></iframe>"
      ],
      "text/plain": [
       "<plotly.tools.PlotlyDisplay object>"
      ]
     },
     "execution_count": 106,
     "metadata": {},
     "output_type": "execute_result"
    }
   ],
   "source": [
    "#plot with plotly\n",
    "\n",
    "# Create traces\n",
    "trace0 = go.Scatter(\n",
    "    x = votes_by_usertier['PerformanceTier'], \n",
    "    y = votes_by_usertier['TotalVotes'],\n",
    "    mode = 'lines',\n",
    "    name = 'number of votes per kernel depending on user performance tier',\n",
    "    line = dict(color = '#7FDBE2')\n",
    ")\n",
    "\n",
    "data = [trace0]\n",
    "\n",
    "layout = go.Layout(\n",
    "    title='Average number of votes per kernel depending on user performance tier',\n",
    "    xaxis=dict(title='Performance Tier', ticklen=5, zeroline=False, gridwidth=2),\n",
    "    yaxis=dict(title='Average number of votes per kernel', ticklen=5, gridwidth=2),\n",
    "    showlegend=True\n",
    ")\n",
    "\n",
    "fig = go.Figure(data=data, layout=layout)\n",
    "\n",
    "py.iplot(fig, filename='votes_per_user_tier')"
   ]
  },
  {
   "cell_type": "markdown",
   "metadata": {},
   "source": [
    "So we can really see that __more proficient users gain more votes for kernels__."
   ]
  },
  {
   "cell_type": "markdown",
   "metadata": {},
   "source": [
    "### 4. How does dataset related to kernel affects the number of votes?"
   ]
  },
  {
   "cell_type": "markdown",
   "metadata": {},
   "source": [
    "I suppose that there might be some 'hot' datasets on Kaggle and kernels related to those datasets might optain more votes. So we should find out:\n",
    "* How does the number of votes for a dataset affect the number of votes for related kernel?\n",
    "* How does the number of downloads of a dataset affect the number of votes for related kernel?"
   ]
  },
  {
   "cell_type": "code",
   "execution_count": 118,
   "metadata": {},
   "outputs": [
    {
     "data": {
      "text/html": [
       "<div>\n",
       "<style scoped>\n",
       "    .dataframe tbody tr th:only-of-type {\n",
       "        vertical-align: middle;\n",
       "    }\n",
       "\n",
       "    .dataframe tbody tr th {\n",
       "        vertical-align: top;\n",
       "    }\n",
       "\n",
       "    .dataframe thead th {\n",
       "        text-align: right;\n",
       "    }\n",
       "</style>\n",
       "<table border=\"1\" class=\"dataframe\">\n",
       "  <thead>\n",
       "    <tr style=\"text-align: right;\">\n",
       "      <th></th>\n",
       "      <th>KernelId</th>\n",
       "      <th>KernelVersionId</th>\n",
       "      <th>TotalKernelVotes</th>\n",
       "      <th>SourceDatasetVersionId</th>\n",
       "      <th>DatasetId</th>\n",
       "      <th>TotalDatasetVotes</th>\n",
       "      <th>TotalDatasetDownloads</th>\n",
       "    </tr>\n",
       "  </thead>\n",
       "  <tbody>\n",
       "    <tr>\n",
       "      <th>0</th>\n",
       "      <td>10707</td>\n",
       "      <td>32514.0</td>\n",
       "      <td>5</td>\n",
       "      <td>2158</td>\n",
       "      <td>6</td>\n",
       "      <td>81</td>\n",
       "      <td>3816</td>\n",
       "    </tr>\n",
       "    <tr>\n",
       "      <th>1</th>\n",
       "      <td>10868</td>\n",
       "      <td>33258.0</td>\n",
       "      <td>0</td>\n",
       "      <td>2158</td>\n",
       "      <td>6</td>\n",
       "      <td>81</td>\n",
       "      <td>3816</td>\n",
       "    </tr>\n",
       "    <tr>\n",
       "      <th>2</th>\n",
       "      <td>10884</td>\n",
       "      <td>46359.0</td>\n",
       "      <td>21</td>\n",
       "      <td>2158</td>\n",
       "      <td>6</td>\n",
       "      <td>81</td>\n",
       "      <td>3816</td>\n",
       "    </tr>\n",
       "    <tr>\n",
       "      <th>3</th>\n",
       "      <td>9969</td>\n",
       "      <td>29938.0</td>\n",
       "      <td>0</td>\n",
       "      <td>2158</td>\n",
       "      <td>6</td>\n",
       "      <td>81</td>\n",
       "      <td>3816</td>\n",
       "    </tr>\n",
       "    <tr>\n",
       "      <th>4</th>\n",
       "      <td>10073</td>\n",
       "      <td>29837.0</td>\n",
       "      <td>3</td>\n",
       "      <td>2158</td>\n",
       "      <td>6</td>\n",
       "      <td>81</td>\n",
       "      <td>3816</td>\n",
       "    </tr>\n",
       "  </tbody>\n",
       "</table>\n",
       "</div>"
      ],
      "text/plain": [
       "   KernelId  KernelVersionId  TotalKernelVotes  SourceDatasetVersionId  \\\n",
       "0     10707          32514.0                 5                    2158   \n",
       "1     10868          33258.0                 0                    2158   \n",
       "2     10884          46359.0                21                    2158   \n",
       "3      9969          29938.0                 0                    2158   \n",
       "4     10073          29837.0                 3                    2158   \n",
       "\n",
       "   DatasetId  TotalDatasetVotes  TotalDatasetDownloads  \n",
       "0          6                 81                   3816  \n",
       "1          6                 81                   3816  \n",
       "2          6                 81                   3816  \n",
       "3          6                 81                   3816  \n",
       "4          6                 81                   3816  "
      ]
     },
     "execution_count": 118,
     "metadata": {},
     "output_type": "execute_result"
    }
   ],
   "source": [
    "#prepare data for the analysis\n",
    "\n",
    "kernels_truncated = kernels[['Id' , 'CurrentKernelVersionId', 'TotalVotes']]\n",
    "kernels_truncated = kernels_truncated.rename(columns={'Id': 'KernelId', 'TotalVotes':'TotalKernelVotes',\n",
    "                                                      'CurrentKernelVersionId':'KernelVersionId'})\n",
    "\n",
    "kernel_datasets_truncated = kernel_datasets[['KernelVersionId', 'SourceDatasetVersionId']]\n",
    "\n",
    "dataset_versions_truncated = dataset_versions[['DatasetId', 'DatasourceVersionId']]\n",
    "dataset_versions_truncated = dataset_versions_truncated.rename(columns={'DatasourceVersionId': 'SourceDatasetVersionId'})\n",
    "\n",
    "datasets_truncated = datasets[['Id', 'TotalVotes', 'TotalDownloads']]\n",
    "datasets_truncated = datasets_truncated.rename(columns={'Id': 'DatasetId', 'TotalVotes':'TotalDatasetVotes',\n",
    "                                                      'TotalDownloads':'TotalDatasetDownloads'})\n",
    "\n",
    "df_merge = kernels_truncated.merge(kernel_datasets_truncated, on = 'KernelVersionId')\n",
    "df_merge = df_merge.merge(dataset_versions_truncated, on = 'SourceDatasetVersionId')\n",
    "df_merge = df_merge.merge(datasets_truncated, on = 'DatasetId')\n",
    "\n",
    "df_merge.head()"
   ]
  },
  {
   "cell_type": "markdown",
   "metadata": {},
   "source": [
    "At first let's look at correlations between TotalKernelVotes, TotalDatasetVotes and\tTotalDatasetDownloads."
   ]
  },
  {
   "cell_type": "code",
   "execution_count": 128,
   "metadata": {},
   "outputs": [
    {
     "data": {
      "image/png": "[encoded data removed]",
      "text/plain": [
       "<Figure size 504x504 with 2 Axes>"
      ]
     },
     "metadata": {},
     "output_type": "display_data"
    }
   ],
   "source": [
    "#columns to find out correlation\n",
    "cols = ['TotalKernelVotes', 'TotalDatasetVotes', 'TotalDatasetDownloads']\n",
    "\n",
    "#Find out correlation between columns and plot\n",
    "corrs = np.corrcoef(df_merge[cols].values.T)\n",
    "sns.set(font_scale=1)\n",
    "sns.set(rc={'figure.figsize':(7,7)})\n",
    "hm=sns.heatmap(corrs, cbar = True, annot=True, square = True, fmt = '.2f',\n",
    "              yticklabels = cols, xticklabels = cols).set_title('Correlations heatmap')\n",
    "\n",
    "fig = hm.get_figure()\n",
    "fig.savefig('correlations.png')"
   ]
  },
  {
   "cell_type": "markdown",
   "metadata": {},
   "source": [
    "As we can see there is no correlation between number of kernel votes and number of votes or downloads for a dataset.\n",
    "<br> Let's also make scatter plots:"
   ]
  },
  {
   "cell_type": "code",
   "execution_count": 121,
   "metadata": {},
   "outputs": [],
   "source": [
    "#get average number of votes per number of dataset votes\n",
    "votes_by_dvotes = df_merge.groupby('TotalDatasetVotes').mean().reset_index()[['TotalDatasetVotes', 'TotalKernelVotes']]\n",
    "votes_by_dvotes = votes_by_dvotes.sort_values(by = 'TotalDatasetVotes', ascending = True)"
   ]
  },
  {
   "cell_type": "code",
   "execution_count": 122,
   "metadata": {},
   "outputs": [
    {
     "data": {
      "image/png": "[encoded data removed]",
      "text/plain": [
       "<Figure size 504x504 with 1 Axes>"
      ]
     },
     "metadata": {},
     "output_type": "display_data"
    }
   ],
   "source": [
    "#plot with matplotlib\n",
    "\n",
    "plt.scatter(votes_by_dvotes['TotalDatasetVotes'], votes_by_dvotes['TotalKernelVotes'])\n",
    "\n",
    "plt.title(\"Number of votes per number of votes for related dataset\")\n",
    "plt.xlabel(\"Dataset Votes\")\n",
    "plt.ylabel(\"Kernel Votes\")\n",
    "\n",
    "plt.show()"
   ]
  },
  {
   "cell_type": "code",
   "execution_count": 124,
   "metadata": {},
   "outputs": [
    {
     "data": {
      "text/html": [
       "<iframe id=\"igraph\" scrolling=\"no\" style=\"border:none;\" seamless=\"seamless\" src=\"https://plot.ly/~lexie88rus/38.embed\" height=\"525px\" width=\"100%\"></iframe>"
      ],
      "text/plain": [
       "<plotly.tools.PlotlyDisplay object>"
      ]
     },
     "execution_count": 124,
     "metadata": {},
     "output_type": "execute_result"
    }
   ],
   "source": [
    "#plot with plotly\n",
    "\n",
    "# Create traces\n",
    "trace0 = go.Scatter(\n",
    "    x = votes_by_dvotes['TotalDatasetVotes'], \n",
    "    y = votes_by_dvotes['TotalKernelVotes'],\n",
    "    mode = 'markers',\n",
    "    name = 'kernel votes per dataset votes',\n",
    "    marker = dict(color = '#7FDBE2')\n",
    ")\n",
    "\n",
    "data = [trace0]\n",
    "\n",
    "layout = go.Layout(\n",
    "    title='Number of votes per number of votes for related dataset',\n",
    "    xaxis=dict(title='Dataset Votes', ticklen=5, zeroline=False, gridwidth=2),\n",
    "    yaxis=dict(title='Kernel Votes', ticklen=5, gridwidth=2),\n",
    "    showlegend=True\n",
    ")\n",
    "\n",
    "fig = go.Figure(data=data, layout=layout)\n",
    "\n",
    "py.iplot(fig, filename='votes_per_dataset_votes')"
   ]
  },
  {
   "cell_type": "markdown",
   "metadata": {},
   "source": [
    "Here we can't see a clear dependency of kernel votes on dataset's number of votes. So I suppose that we can create a really helpful and popular kernel for an unpopular dataset and vice versa."
   ]
  },
  {
   "cell_type": "code",
   "execution_count": 125,
   "metadata": {},
   "outputs": [],
   "source": [
    "#get average number of votes per number of dataset downloads\n",
    "votes_by_downloads = df_merge.groupby('TotalDatasetDownloads').mean().reset_index()[['TotalDatasetDownloads', 'TotalKernelVotes']]\n",
    "votes_by_downloads = votes_by_downloads.sort_values(by = 'TotalDatasetDownloads', ascending = True)"
   ]
  },
  {
   "cell_type": "code",
   "execution_count": 126,
   "metadata": {},
   "outputs": [
    {
     "data": {
      "image/png": "[encoded data removed]",
      "text/plain": [
       "<Figure size 504x504 with 1 Axes>"
      ]
     },
     "metadata": {},
     "output_type": "display_data"
    }
   ],
   "source": [
    "#plot with matplotlib\n",
    "\n",
    "plt.scatter(votes_by_downloads['TotalDatasetDownloads'], votes_by_downloads['TotalKernelVotes'])\n",
    "\n",
    "plt.title(\"Number of votes per number of downloads for related dataset\")\n",
    "plt.xlabel(\"Dataset Downloads\")\n",
    "plt.ylabel(\"Kernel Votes\")\n",
    "\n",
    "plt.show()"
   ]
  },
  {
   "cell_type": "code",
   "execution_count": 127,
   "metadata": {},
   "outputs": [
    {
     "data": {
      "text/html": [
       "<iframe id=\"igraph\" scrolling=\"no\" style=\"border:none;\" seamless=\"seamless\" src=\"https://plot.ly/~lexie88rus/40.embed\" height=\"525px\" width=\"100%\"></iframe>"
      ],
      "text/plain": [
       "<plotly.tools.PlotlyDisplay object>"
      ]
     },
     "execution_count": 127,
     "metadata": {},
     "output_type": "execute_result"
    }
   ],
   "source": [
    "#plot with plotly\n",
    "\n",
    "# Create traces\n",
    "trace0 = go.Scatter(\n",
    "    x = votes_by_downloads['TotalDatasetDownloads'], \n",
    "    y = votes_by_downloads['TotalKernelVotes'],\n",
    "    mode = 'markers',\n",
    "    name = 'kernel votes per dataset downloads',\n",
    "    marker = dict(color = '#7FDBE2')\n",
    ")\n",
    "\n",
    "data = [trace0]\n",
    "\n",
    "layout = go.Layout(\n",
    "    title='Number of votes per number of downloads for related dataset',\n",
    "    xaxis=dict(title='Dataset Downloads', ticklen=5, zeroline=False, gridwidth=2),\n",
    "    yaxis=dict(title='Kernel Votes', ticklen=5, gridwidth=2),\n",
    "    showlegend=True\n",
    ")\n",
    "\n",
    "fig = go.Figure(data=data, layout=layout)\n",
    "\n",
    "py.iplot(fig, filename='votes_per_dataset_downloads')"
   ]
  },
  {
   "cell_type": "markdown",
   "metadata": {},
   "source": [
    "The picture looks similar to the previous one. There is also no clear dependency."
   ]
  },
  {
   "cell_type": "markdown",
   "metadata": {},
   "source": [
    "### 6. How does kernel language affect the number of votes?"
   ]
  },
  {
   "cell_type": "markdown",
   "metadata": {},
   "source": [
    "What kernel types gain more votes?"
   ]
  },
  {
   "cell_type": "code",
   "execution_count": null,
   "metadata": {},
   "outputs": [],
   "source": []
  },
  {
   "cell_type": "markdown",
   "metadata": {},
   "source": [
    "### 7. How do kernel tags affect the number of votes?"
   ]
  },
  {
   "cell_type": "markdown",
   "metadata": {},
   "source": [
    "Now we will look at the kernels' tags:\n",
    "* Are there any kernel tags, which are more specific to more popular kernels?"
   ]
  },
  {
   "cell_type": "code",
   "execution_count": null,
   "metadata": {},
   "outputs": [],
   "source": []
  },
  {
   "cell_type": "code",
   "execution_count": null,
   "metadata": {},
   "outputs": [],
   "source": []
  },
  {
   "cell_type": "code",
   "execution_count": null,
   "metadata": {},
   "outputs": [],
   "source": []
  },
  {
   "cell_type": "code",
   "execution_count": null,
   "metadata": {},
   "outputs": [],
   "source": []
  }
 ],
 "metadata": {
  "kernelspec": {
   "display_name": "Python 3",
   "language": "python",
   "name": "python3"
  },
  "language_info": {
   "codemirror_mode": {
    "name": "ipython",
    "version": 3
   },
   "file_extension": ".py",
   "mimetype": "text/x-python",
   "name": "python",
   "nbconvert_exporter": "python",
   "pygments_lexer": "ipython3",
   "version": "3.6.8"
  }
 },
 "nbformat": 4,
 "nbformat_minor": 2
}
